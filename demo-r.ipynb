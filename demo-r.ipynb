{
 "cells": [
  {
   "cell_type": "markdown",
   "metadata": {},
   "source": [
    "# **Data Analysis in Python for R Users — R**"
   ]
  },
  {
   "cell_type": "markdown",
   "metadata": {},
   "source": [
    "# 0. Environment Setup"
   ]
  },
  {
   "cell_type": "markdown",
   "metadata": {},
   "source": [
    "#### 1. Loading a library"
   ]
  },
  {
   "cell_type": "code",
   "execution_count": 1,
   "metadata": {
    "vscode": {
     "languageId": "r"
    }
   },
   "outputs": [
    {
     "name": "stderr",
     "output_type": "stream",
     "text": [
      "Loading required package: tidyverse\n",
      "\n",
      "── \u001b[1mAttaching core tidyverse packages\u001b[22m ──────────────────────── tidyverse 2.0.0 ──\n",
      "\u001b[32m✔\u001b[39m \u001b[34mdplyr    \u001b[39m 1.1.4     \u001b[32m✔\u001b[39m \u001b[34mreadr    \u001b[39m 2.1.5\n",
      "\u001b[32m✔\u001b[39m \u001b[34mforcats  \u001b[39m 1.0.0     \u001b[32m✔\u001b[39m \u001b[34mstringr  \u001b[39m 1.5.2\n",
      "\u001b[32m✔\u001b[39m \u001b[34mggplot2  \u001b[39m 4.0.0     \u001b[32m✔\u001b[39m \u001b[34mtibble   \u001b[39m 3.3.0\n",
      "\u001b[32m✔\u001b[39m \u001b[34mlubridate\u001b[39m 1.9.4     \u001b[32m✔\u001b[39m \u001b[34mtidyr    \u001b[39m 1.3.1\n",
      "\u001b[32m✔\u001b[39m \u001b[34mpurrr    \u001b[39m 1.1.0     \n",
      "── \u001b[1mConflicts\u001b[22m ────────────────────────────────────────── tidyverse_conflicts() ──\n",
      "\u001b[31m✖\u001b[39m \u001b[34mdplyr\u001b[39m::\u001b[32mfilter()\u001b[39m masks \u001b[34mstats\u001b[39m::filter()\n",
      "\u001b[31m✖\u001b[39m \u001b[34mdplyr\u001b[39m::\u001b[32mlag()\u001b[39m    masks \u001b[34mstats\u001b[39m::lag()\n",
      "\u001b[36mℹ\u001b[39m Use the conflicted package (\u001b[3m\u001b[34m<http://conflicted.r-lib.org/>\u001b[39m\u001b[23m) to force all conflicts to become errors\n",
      "Loading required package: naniar\n",
      "\n"
     ]
    }
   ],
   "source": [
    "# R uses library() or require() for libraries\n",
    "if (!require(tidyverse)) install.packages(\"tidyverse\")\n",
    "\n",
    "# We'll also use a library {naniar} for handling missing values\n",
    "if (!require(naniar)) install.packages(\"naniar\")"
   ]
  },
  {
   "cell_type": "markdown",
   "metadata": {},
   "source": [
    "#### 2. Defining custom functions"
   ]
  },
  {
   "cell_type": "code",
   "execution_count": 2,
   "metadata": {
    "vscode": {
     "languageId": "r"
    }
   },
   "outputs": [],
   "source": [
    "# Define a custom function affiche() for cleanly printing tables\n",
    "affiche <- function(df,\n",
    "                    align = \"left\",\n",
    "                    na_color = \"\\033[91;3m\",   # nolint\n",
    "                    theme = \"newspaper\") {     # nolint\n",
    "\n",
    "  # Error handling\n",
    "  if (ncol(df) == 0 || nrow(df) == 0) { #P\n",
    "    msg <- \"That table doesn't exist!\"\n",
    "    width <- nchar(msg)\n",
    "    top <- paste0(\"╔\", strrep(\"═\", width + 2), \"╗\")\n",
    "    mid <- paste0(\"║ \", msg, \" ║\")\n",
    "    bot <- paste0(\"╚\", strrep(\"═\", width + 2), \"╝\")\n",
    "    cat(top, \"\\n\", mid, \"\\n\", bot, \"\\n\", sep = \"\")\n",
    "    return(invisible(df))\n",
    "  }\n",
    "\n",
    "  # Handle missing rownames\n",
    "  if (!is.null(rownames(df)) && !any(names(df) == \" \")) {\n",
    "    df <- tibble::rownames_to_column(df, var = \" \")\n",
    "  }\n",
    "\n",
    "\n",
    "  # Theme setup\n",
    "  border <- switch(theme,\n",
    "    \"newspaper\" = list(\n",
    "      h = \"═\", v = \"║\",\n",
    "      tl = \"╔\", tr = \"╗\",\n",
    "      bl = \"╚\", br = \"╝\",\n",
    "      jn = \"╬\",\n",
    "      l = \"╠\", r = \"╣\",\n",
    "      t = \"╦\", b = \"╩\"\n",
    "    ),\n",
    "    stop(\"Theme not supported. Try 'newspaper'\")\n",
    "  )\n",
    "\n",
    "  # ANSI helpers\n",
    "  reset <- \"\\033[0m\"\n",
    "  color_na <- function(x) paste0(na_color, x, reset)\n",
    "\n",
    "  # Width calculator\n",
    "  display_width <- function(s) {\n",
    "    if (is.na(s)) return(2)  # Width of \"NA\"\n",
    "    clean <- gsub(\"\\033\\\\[[0-9;]*[mK]\", \"\", as.character(s))\n",
    "    nchar(clean, type = \"width\")\n",
    "  }\n",
    "\n",
    "  # --- DATA PREP ---\n",
    "  df_display <- as.data.frame(\n",
    "    lapply(df, function(col) {\n",
    "      ifelse(is.na(col), color_na(\"NA\"), as.character(col))\n",
    "    }),\n",
    "    stringsAsFactors = FALSE\n",
    "  )\n",
    "  col_names <- names(df_display)\n",
    "\n",
    "  # Column widths\n",
    "  col_widths <- sapply(seq_along(col_names), function(i) {\n",
    "    max(display_width(col_names[i]),\n",
    "        sapply(df_display[[i]], display_width),\n",
    "        na.rm = TRUE)\n",
    "  })\n",
    "\n",
    "  # Border drawing\n",
    "  draw_hline <- function(connector_left, connector_right, cross) {\n",
    "    line <- paste0(\n",
    "      connector_left,\n",
    "      paste0(sapply(col_widths, function(w) {\n",
    "        paste0(strrep(border$h, w + 2), cross)\n",
    "      }), collapse = \"\")\n",
    "    )\n",
    "    gsub(paste0(cross, \"$\"), connector_right, line)\n",
    "  }\n",
    "\n",
    "  top_line <- draw_hline(border$tl, border$tr, border$t)\n",
    "  mid_line <- draw_hline(border$l, border$r, border$jn)\n",
    "  bot_line <- draw_hline(border$bl, border$br, border$b)\n",
    "\n",
    "  # Header row\n",
    "  header <- paste0(\n",
    "    border$v,\n",
    "    paste0(sapply(seq_along(col_names), function(i) {\n",
    "      name <- col_names[i]\n",
    "      width <- col_widths[i]\n",
    "      pad_total <- width - display_width(name)\n",
    "      pad_left <- switch(align,\n",
    "        \"left\" = 0,\n",
    "        \"center\" = floor(pad_total / 2),\n",
    "        \"right\" = pad_total\n",
    "      )\n",
    "      paste0(\" \",\n",
    "             strrep(\" \", pad_left),\n",
    "             name,\n",
    "             strrep(\" \", pad_total - pad_left),\n",
    "             \" \", border$v)\n",
    "    }), collapse = \"\")\n",
    "  )\n",
    "\n",
    "\n",
    "  # Data rows\n",
    "data_rows <- sapply(1:nrow(df_display), function(i) {  # nolint\n",
    "    paste0(\n",
    "      border$v,\n",
    "      paste0(sapply(seq_along(col_names), function(j) {\n",
    "        content <- df_display[i, j]\n",
    "        width <- col_widths[j]\n",
    "        pad_total <- width - display_width(content)\n",
    "        pad_left <- switch(align,\n",
    "          \"left\" = 0,\n",
    "          \"center\" = floor(pad_total / 2),\n",
    "          \"right\" = pad_total\n",
    "        )\n",
    "        paste0(\" \",\n",
    "               strrep(\" \", pad_left),\n",
    "               content,\n",
    "               strrep(\" \", pad_total - pad_left),\n",
    "               ifelse(j == length(col_names), \"\", paste0(\" \", border$v)))\n",
    "      }), collapse = \"\"),\n",
    "      \" \", border$v  # rightmost edge\n",
    "    )\n",
    "  })\n",
    "\n",
    "  # Final assembly\n",
    "  cat(top_line, \"\\n\")\n",
    "  cat(header, \"\\n\")\n",
    "  cat(mid_line, \"\\n\")\n",
    "  cat(paste0(data_rows, collapse = \"\\n\"), \"\\n\")\n",
    "  cat(bot_line, \"\\n\")\n",
    "\n",
    "  invisible(df)\n",
    "}"
   ]
  },
  {
   "cell_type": "code",
   "execution_count": 3,
   "metadata": {
    "vscode": {
     "languageId": "r"
    }
   },
   "outputs": [],
   "source": [
    "# Define a custom function count_table() for generating value counts and percentages\n",
    "count_table <- function(df, column) {\n",
    "  df |> \n",
    "    group_by({{ column }}) |> \n",
    "    summarize(count = n()) |>\n",
    "    arrange(desc(count)) |>  \n",
    "    mutate(percent = paste0(round(count / sum(count) * 100, 0), \"%\")) |> \n",
    "    mutate(percent = if_else(percent == \"0%\" & count >= 1, true = \"<1%\", false = percent))\n",
    "}"
   ]
  },
  {
   "cell_type": "code",
   "execution_count": null,
   "metadata": {
    "vscode": {
     "languageId": "r"
    }
   },
   "outputs": [],
   "source": [
    "# Define a custom function count_na() for counting NA values for each column\n",
    "count_na <- function(df) {\n",
    "  result <- tibble(col = character(), na_count = integer())\n",
    "\n",
    "  for (col in names(df)) {\n",
    "    # Count missing values per column\n",
    "    na_count <- df |> filter(is.na(!!sym(col))) |> count() |> pull(n)\n",
    "    # Place the counts into a result table\n",
    "    result <- result |> add_row(col = col, na_count = na_count)\n",
    "  }\n",
    "\n",
    "  # Add percentage labels \n",
    "  result |>\n",
    "    mutate(\n",
    "      na_percent = case_when(\n",
    "        na_count == 0 ~ \"0%\",\n",
    "        (na_count / nrow(df)) <= 0.0099 ~ \"<1%\",\n",
    "        TRUE ~ paste0(round(na_count / nrow(df) * 100, 0), \"%\")\n",
    "      )\n",
    "    ) |>\n",
    "    # Sort by missing count\n",
    "    arrange(desc(na_count))\n",
    "}"
   ]
  },
  {
   "cell_type": "code",
   "execution_count": null,
   "metadata": {
    "vscode": {
     "languageId": "r"
    }
   },
   "outputs": [],
   "source": [
    "# Define a custom function describe() for displaying summary stats for numeric cols\n",
    "describe <- function(df) {\n",
    "  numeric_df <- df %>%\n",
    "    select(where(is.numeric))\n",
    "  \n",
    "  # Initialize a list to store results\n",
    "  summary_list <- list()\n",
    "  \n",
    "  # Loop through each numeric column and calculate statistics\n",
    "  for (col in names(numeric_df)) {\n",
    "    summary_list[[col]] <- c(\n",
    "      min = min(numeric_df[[col]], na.rm = TRUE),\n",
    "      max = max(numeric_df[[col]], na.rm = TRUE),\n",
    "      median = median(numeric_df[[col]], na.rm = TRUE),\n",
    "      mean = mean(numeric_df[[col]], na.rm = TRUE),\n",
    "      sd = round(sd(numeric_df[[col]], na.rm = TRUE), 2),\n",
    "      n = sum(!is.na(numeric_df[[col]]))\n",
    "    )\n",
    "  }\n",
    "  \n",
    "  # Combine the results into a data frame and transpose\n",
    "  result <- as.data.frame(do.call(rbind, summary_list))\n",
    "  \n",
    "  # Transpose the result to switch rows and columns\n",
    "  result <- as.data.frame(t(result))\n",
    "  \n",
    "  # Set the column names to the measurements\n",
    "  colnames(result) <- names(numeric_df)\n",
    "  \n",
    "  result %>%\n",
    "    return()\n",
    "}"
   ]
  },
  {
   "cell_type": "markdown",
   "metadata": {},
   "source": [
    "# 1. Simple Data"
   ]
  },
  {
   "cell_type": "code",
   "execution_count": 8,
   "metadata": {
    "vscode": {
     "languageId": "r"
    }
   },
   "outputs": [
    {
     "name": "stdout",
     "output_type": "stream",
     "text": [
      "[1] \"Hello world!\"\n"
     ]
    }
   ],
   "source": [
    "# We use print for displaying something\n",
    "print(\"Hello world!\")"
   ]
  },
  {
   "cell_type": "code",
   "execution_count": null,
   "metadata": {
    "vscode": {
     "languageId": "r"
    }
   },
   "outputs": [
    {
     "name": "stdout",
     "output_type": "stream",
     "text": [
      "[1] 10\n",
      "[1] 20\n"
     ]
    }
   ],
   "source": [
    "# Our assignment operator is the arrow (<-)\n",
    "x <- 10\n",
    "y <- 20\n",
    "\n",
    "print(x)\n",
    "print(y)"
   ]
  },
  {
   "cell_type": "code",
   "execution_count": 7,
   "metadata": {
    "vscode": {
     "languageId": "r"
    }
   },
   "outputs": [
    {
     "name": "stdout",
     "output_type": "stream",
     "text": [
      "[1] 200\n",
      "[1] 0.5\n",
      "[1] -10\n"
     ]
    }
   ],
   "source": [
    "# We roughly use the same mathematical operators\n",
    "z <- x * y\n",
    "print(z)\n",
    "\n",
    "a <- x / y\n",
    "print(a)\n",
    "\n",
    "b <- x - y\n",
    "print(b)"
   ]
  },
  {
   "cell_type": "code",
   "execution_count": 25,
   "metadata": {
    "vscode": {
     "languageId": "r"
    }
   },
   "outputs": [
    {
     "name": "stdout",
     "output_type": "stream",
     "text": [
      " num 1000\n",
      " chr \"Henry\"\n"
     ]
    },
    {
     "name": "stdout",
     "output_type": "stream",
     "text": [
      " logi TRUE\n"
     ]
    }
   ],
   "source": [
    "# Let's look at some data types\n",
    "k <- 1000\n",
    "name <- \"Henry\"\n",
    "does_exist <- TRUE\n",
    "\n",
    "# Note: In R, we don't slways have to specify print()\n",
    "str(k)\n",
    "str(name)\n",
    "str(does_exist)"
   ]
  },
  {
   "cell_type": "code",
   "execution_count": null,
   "metadata": {
    "vscode": {
     "languageId": "r"
    }
   },
   "outputs": [
    {
     "data": {
      "text/plain": [
       "NULL"
      ]
     },
     "metadata": {},
     "output_type": "display_data"
    },
    {
     "data": {
      "text/html": [
       "<style>\n",
       ".list-inline {list-style: none; margin:0; padding: 0}\n",
       ".list-inline>li {display: inline-block}\n",
       ".list-inline>li:not(:last-child)::after {content: \"\\00b7\"; padding: 0 .5ex}\n",
       "</style>\n",
       "<ol class=list-inline><li>'apple'</li><li>NA</li><li>'25'</li></ol>\n"
      ],
      "text/latex": [
       "\\begin{enumerate*}\n",
       "\\item 'apple'\n",
       "\\item NA\n",
       "\\item '25'\n",
       "\\end{enumerate*}\n"
      ],
      "text/markdown": [
       "1. 'apple'\n",
       "2. NA\n",
       "3. '25'\n",
       "\n",
       "\n"
      ],
      "text/plain": [
       "[1] \"apple\" NA      \"25\"   "
      ]
     },
     "metadata": {},
     "output_type": "display_data"
    }
   ],
   "source": [
    "# Missing values operate differently as objects vs as parts of a vector \n",
    "# Note: NA_character is the NA placeholder for character strings\n",
    "null_object <- NULL\n",
    "na_vector <- c(\"apple\", NA_character_, 25) \n",
    "\n",
    "null_object\n",
    "na_vector"
   ]
  },
  {
   "cell_type": "markdown",
   "metadata": {},
   "source": [
    "# 2. Working with Dataframes"
   ]
  },
  {
   "cell_type": "code",
   "execution_count": null,
   "metadata": {
    "vscode": {
     "languageId": "r"
    }
   },
   "outputs": [
    {
     "name": "stdout",
     "output_type": "stream",
     "text": [
      "    Name Age   Birthday\n",
      "1  Henry  22 2003-12-29\n",
      "2    Bob  NA 1980-05-15\n",
      "3 Joanne  30 1995-01-12\n",
      "4 Steven  48       <NA>\n"
     ]
    }
   ],
   "source": [
    "# Create a dataframe\n",
    "# Note: We use NA_real_ for numeric NAs\n",
    "df <- data.frame(\n",
    "  Name = c(\"Henry\", \"Bob\", \"Joanne\", \"Steven\"),\n",
    "  Age = c(22, NA_real_, 30, 48),\n",
    "  Birthday = c(\"2003-12-29\", \"1980-05-15\", \"1995-01-12\", NA_character_)\n",
    ")\n",
    "\n",
    "print(df)"
   ]
  },
  {
   "cell_type": "code",
   "execution_count": 50,
   "metadata": {
    "vscode": {
     "languageId": "r"
    }
   },
   "outputs": [
    {
     "name": "stdout",
     "output_type": "stream",
     "text": [
      "'data.frame':\t4 obs. of  3 variables:\n",
      " $ Name    : chr  \"Henry\" \"Bob\" \"Joanne\" \"Steven\"\n",
      " $ Age     : num  22 NA 30 48\n",
      " $ Birthday: chr  \"2003-12-29\" \"1980-05-15\" \"1995-01-12\" NA\n"
     ]
    }
   ],
   "source": [
    "# Display the structure of the df\n",
    "str(df)"
   ]
  },
  {
   "cell_type": "code",
   "execution_count": 51,
   "metadata": {
    "vscode": {
     "languageId": "r"
    }
   },
   "outputs": [
    {
     "data": {
      "text/html": [
       "<style>\n",
       ".list-inline {list-style: none; margin:0; padding: 0}\n",
       ".list-inline>li {display: inline-block}\n",
       ".list-inline>li:not(:last-child)::after {content: \"\\00b7\"; padding: 0 .5ex}\n",
       "</style>\n",
       "<ol class=list-inline><li>'2003-12-29'</li><li>'1980-05-15'</li><li>'1995-01-12'</li><li>NA</li></ol>\n"
      ],
      "text/latex": [
       "\\begin{enumerate*}\n",
       "\\item '2003-12-29'\n",
       "\\item '1980-05-15'\n",
       "\\item '1995-01-12'\n",
       "\\item NA\n",
       "\\end{enumerate*}\n"
      ],
      "text/markdown": [
       "1. '2003-12-29'\n",
       "2. '1980-05-15'\n",
       "3. '1995-01-12'\n",
       "4. NA\n",
       "\n",
       "\n"
      ],
      "text/plain": [
       "[1] \"2003-12-29\" \"1980-05-15\" \"1995-01-12\" NA          "
      ]
     },
     "metadata": {},
     "output_type": "display_data"
    }
   ],
   "source": [
    "# Access a single column by name\n",
    "df$Birthday"
   ]
  },
  {
   "cell_type": "code",
   "execution_count": 52,
   "metadata": {
    "vscode": {
     "languageId": "r"
    }
   },
   "outputs": [
    {
     "name": "stdout",
     "output_type": "stream",
     "text": [
      "    Name\n",
      "1  Henry\n",
      "2    Bob\n",
      "3 Joanne\n",
      "4 Steven\n"
     ]
    }
   ],
   "source": [
    "# Access the first column by position\n",
    "column_1 <- df[1]\n",
    "\n",
    "print(column_1)"
   ]
  },
  {
   "cell_type": "code",
   "execution_count": 53,
   "metadata": {
    "vscode": {
     "languageId": "r"
    }
   },
   "outputs": [
    {
     "name": "stdout",
     "output_type": "stream",
     "text": [
      "    Name Age   Birthday Fav_Animal\n",
      "1  Henry  22 2003-12-29        Cat\n",
      "2    Bob  NA 1980-05-15    Penguin\n",
      "3 Joanne  30 1995-01-12      Sloth\n",
      "4 Steven  48       <NA>        Dog\n"
     ]
    }
   ],
   "source": [
    "# Add a new column\n",
    "df$Fav_Animal <- c(\"Cat\", \"Penguin\", \"Sloth\", \"Dog\")\n",
    "\n",
    "print(df)"
   ]
  },
  {
   "cell_type": "code",
   "execution_count": 234,
   "metadata": {
    "vscode": {
     "languageId": "r"
    }
   },
   "outputs": [
    {
     "name": "stdout",
     "output_type": "stream",
     "text": [
      "    Name   Birthday Fav_Animal\n",
      "1  Henry 2003-12-29        Cat\n",
      "2    Bob 1980-05-15    Penguin\n",
      "3 Joanne 1995-01-12      Sloth\n",
      "4 Steven 1977-06-05        Dog\n"
     ]
    }
   ],
   "source": [
    "# Drop a column \n",
    "df$Age <- NULL\n",
    "\n",
    "print(df)"
   ]
  },
  {
   "cell_type": "code",
   "execution_count": null,
   "metadata": {
    "vscode": {
     "languageId": "r"
    }
   },
   "outputs": [
    {
     "name": "stdout",
     "output_type": "stream",
     "text": [
      " Date[1:4], format: \"2003-12-29\" \"1980-05-15\" \"1995-01-12\" NA\n"
     ]
    }
   ],
   "source": [
    "# Convert birthday to a datefield with as.Date()\n",
    "df$Birthday <- as.Date(df$Birthday)\n",
    "\n",
    "str(df$Birthday)"
   ]
  },
  {
   "cell_type": "markdown",
   "metadata": {},
   "source": [
    "# 3. More Advanced Manipulation"
   ]
  },
  {
   "cell_type": "markdown",
   "metadata": {},
   "source": [
    "#### 1. Reading in data"
   ]
  },
  {
   "cell_type": "code",
   "execution_count": 76,
   "metadata": {
    "vscode": {
     "languageId": "r"
    }
   },
   "outputs": [
    {
     "name": "stderr",
     "output_type": "stream",
     "text": [
      "\u001b[1mRows: \u001b[22m\u001b[34m857\u001b[39m \u001b[1mColumns: \u001b[22m\u001b[34m21\u001b[39m\n",
      "\u001b[36m──\u001b[39m \u001b[1mColumn specification\u001b[22m \u001b[36m────────────────────────────────────────────────────────\u001b[39m\n",
      "\u001b[1mDelimiter:\u001b[22m \",\"\n",
      "\u001b[31mchr\u001b[39m  (14): NOPD_Item, Type, TypeText, Priority, InitialType, InitialTypeText...\n",
      "\u001b[32mdbl\u001b[39m   (3): MapX, MapY, PoliceDistrict\n",
      "\u001b[34mdttm\u001b[39m  (4): TimeCreate, TimeDispatch, TimeArrive, TimeClosed\n",
      "\n",
      "\u001b[36mℹ\u001b[39m Use `spec()` to retrieve the full column specification for this data.\n",
      "\u001b[36mℹ\u001b[39m Specify the column types or set `show_col_types = FALSE` to quiet this message.\n"
     ]
    },
    {
     "name": "stdout",
     "output_type": "stream",
     "text": [
      "\u001b[90m# A tibble: 10 × 21\u001b[39m\n",
      "   NOPD_Item Type  TypeText Priority InitialType InitialTypeText InitialPriority\n",
      "   \u001b[3m\u001b[90m<chr>\u001b[39m\u001b[23m     \u001b[3m\u001b[90m<chr>\u001b[39m\u001b[23m \u001b[3m\u001b[90m<chr>\u001b[39m\u001b[23m    \u001b[3m\u001b[90m<chr>\u001b[39m\u001b[23m    \u001b[3m\u001b[90m<chr>\u001b[39m\u001b[23m       \u001b[3m\u001b[90m<chr>\u001b[39m\u001b[23m           \u001b[3m\u001b[90m<chr>\u001b[39m\u001b[23m          \n",
      "\u001b[90m 1\u001b[39m A0000125  94    DISCHAR… 1        94          DISCHARGING FI… 2C             \n",
      "\u001b[90m 2\u001b[39m A0000225  20    AUTO AC… 1        20          AUTO ACCIDENT   1E             \n",
      "\u001b[90m 3\u001b[39m A0000325  94F   FIREWOR… 2J       103         DISTURBANCE (O… 1C             \n",
      "\u001b[90m 4\u001b[39m A0000425  94F   FIREWOR… 2J       103         DISTURBANCE (O… 1C             \n",
      "\u001b[90m 5\u001b[39m A0000525  94    DISCHAR… 2C       94          DISCHARGING FI… 2C             \n",
      "\u001b[90m 6\u001b[39m A0000625  107   SUSPICI… 1        107         SUSPICIOUS PER… 2D             \n",
      "\u001b[90m 7\u001b[39m A0000725  94F   FIREWOR… 1A       94          DISCHARGING FI… 2C             \n",
      "\u001b[90m 8\u001b[39m A0000825  94    DISCHAR… 1        94          DISCHARGING FI… 2C             \n",
      "\u001b[90m 9\u001b[39m A0000925  24    MEDICAL  2D       24          MEDICAL         2D             \n",
      "\u001b[90m10\u001b[39m A0001025  94    DISCHAR… 2C       94          DISCHARGING FI… 2C             \n",
      "\u001b[90m# ℹ 14 more variables: MapX <dbl>, MapY <dbl>, TimeCreate <dttm>,\u001b[39m\n",
      "\u001b[90m#   TimeDispatch <dttm>, TimeArrive <dttm>, TimeClosed <dttm>,\u001b[39m\n",
      "\u001b[90m#   Disposition <chr>, DispositionText <chr>, SelfInitiated <chr>, Beat <chr>,\u001b[39m\n",
      "\u001b[90m#   BLOCK_ADDRESS <chr>, Zip <chr>, PoliceDistrict <dbl>, Location <chr>\u001b[39m\n"
     ]
    }
   ],
   "source": [
    "# Read in the calls for service data\n",
    "# Note in R, naming a library before a function is only for conflicts + clarification\n",
    "cfs <- readr::read_csv(\"./data/calls_for_service_2025_demo.csv\")\n",
    "\n",
    "# Preview the first ten rows\n",
    "# Note: We'll start using R's native pipe ( |> ) from here on\n",
    "cfs |> head(10) |> print()"
   ]
  },
  {
   "cell_type": "code",
   "execution_count": 77,
   "metadata": {
    "vscode": {
     "languageId": "r"
    }
   },
   "outputs": [
    {
     "name": "stdout",
     "output_type": "stream",
     "text": [
      "╔════╦═══════════╦══════╦═════════════════════╦══════════╦═════════════╦═════════════════════╦═════════════════╦══════════╦═════════╦═════════════════════════╦═════════════════════════╦═════════════════════════╦═════════════════════════╦═════════════╦════════════════════════╦═══════════════╦══════╦═════════════════════════════╦═══════╦════════════════╦══════════════════════════════════╗ \n",
      "║ X. ║ NOPD_Item ║ Type ║ TypeText            ║ Priority ║ InitialType ║ InitialTypeText     ║ InitialPriority ║ MapX     ║ MapY    ║ TimeCreate              ║ TimeDispatch            ║ TimeArrive              ║ TimeClosed              ║ Disposition ║ DispositionText        ║ SelfInitiated ║ Beat ║ BLOCK_ADDRESS               ║ Zip   ║ PoliceDistrict ║ Location                         ║ \n",
      "╠════╬═══════════╬══════╬═════════════════════╬══════════╬═════════════╬═════════════════════╬═════════════════╬══════════╬═════════╬═════════════════════════╬═════════════════════════╬═════════════════════════╬═════════════════════════╬═════════════╬════════════════════════╬═══════════════╬══════╬═════════════════════════════╬═══════╬════════════════╬══════════════════════════════════╣ \n",
      "║ 1  ║ A0000125  ║ 94   ║ DISCHARGING FIREARM ║ 1        ║ 94          ║ DISCHARGING FIREARM ║ 2C              ║ 3687148  ║ 539441  ║ 2025-01-01 00:01:31.77  ║ 2025-01-01 01:49:00.72  ║ \u001b[91;3mNA\u001b[0m                      ║ 2025-01-01 01:57:09.103 ║ GOA         ║ GONE ON ARRIVAL        ║ N             ║ 5G02 ║ 025XX Blk N Prieur St       ║ 70117 ║ 5              ║ POINT (-90.04995412 29.97710343) ║\n",
      "║ 2  ║ A0000225  ║ 20   ║ AUTO ACCIDENT       ║ 1        ║ 20          ║ AUTO ACCIDENT       ║ 1E              ║ 3680718  ║ 529326  ║ 2025-01-01 00:01:54.433 ║ 2025-01-01 03:07:01.31  ║ 2025-01-01 03:12:25.54  ║ 2025-01-01 06:54:17.65  ║ GOA         ║ GONE ON ARRIVAL        ║ N             ║ 8G04 ║ St Charles Av & Poydras St  ║ 70130 ║ 8              ║ POINT (-90.07061588 29.94948919) ║\n",
      "║ 3  ║ A0000325  ║ 94F  ║ FIREWORKS           ║ 2J       ║ 103         ║ DISTURBANCE (OTHER) ║ 1C              ║ 3707020  ║ 561072  ║ 2025-01-01 00:01:55.25  ║ 2025-01-01 00:03:04.977 ║ \u001b[91;3mNA\u001b[0m                      ║ 2025-01-01 00:03:12.263 ║ NAT         ║ Necessary Action Taken ║ N             ║ 7P03 ║ 070XX Bundy Rd              ║ 70127 ║ 7              ║ POINT (-89.98638954 30.03595457) ║\n",
      "║ 4  ║ A0000425  ║ 94F  ║ FIREWORKS           ║ 2J       ║ 103         ║ DISTURBANCE (OTHER) ║ 1C              ║ 3665351  ║ 536442  ║ 2025-01-01 00:02:04.403 ║ \u001b[91;3mNA\u001b[0m                      ║ \u001b[91;3mNA\u001b[0m                      ║ 2025-01-01 00:02:56.62  ║ NAT         ║ Necessary Action Taken ║ N             ║ 2S02 ║ 089XX Edinburgh St          ║ 70118 ║ 2              ║ POINT (-90.11889699 29.96951243) ║\n",
      "║ 5  ║ A0000525  ║ 94   ║ DISCHARGING FIREARM ║ 2C       ║ 94          ║ DISCHARGING FIREARM ║ 2C              ║ 3664671  ║ 536451  ║ 2025-01-01 00:03:08.487 ║ \u001b[91;3mNA\u001b[0m                      ║ \u001b[91;3mNA\u001b[0m                      ║ 2025-01-01 00:03:46.323 ║ NAT         ║ Necessary Action Taken ║ N             ║ 2S01 ║ 090XX Olive St              ║ 70118 ║ 2              ║ POINT (-90.12104322 29.96955652) ║\n",
      "║ 6  ║ A0000625  ║ 107  ║ SUSPICIOUS PERSON   ║ 1        ║ 107         ║ SUSPICIOUS PERSON   ║ 2D              ║ 3716298  ║ 565932  ║ 2025-01-01 00:03:14.237 ║ \u001b[91;3mNA\u001b[0m                      ║ \u001b[91;3mNA\u001b[0m                      ║ 2025-01-01 00:21:08.157 ║ NAT         ║ Necessary Action Taken ║ N             ║ 7K03 ║ I-10 W After I-510 S Onramp ║ 70128 ║ 7              ║ POINT (-89.95688632 30.0490152)  ║\n",
      "║ 7  ║ A0000725  ║ 94F  ║ FIREWORKS           ║ 1A       ║ 94          ║ DISCHARGING FIREARM ║ 2C              ║ 3685335  ║ 554802  ║ 2025-01-01 00:03:36.93  ║ 2025-01-01 00:49:24.653 ║ 2025-01-01 00:53:34.297 ║ 2025-01-01 01:14:47.627 ║ GOA         ║ GONE ON ARRIVAL        ║ N             ║ 3R03 ║ 059XX Music St              ║ 70122 ║ 3              ║ POINT (-90.05513893 30.01939801) ║\n",
      "║ 8  ║ A0000825  ║ 94   ║ DISCHARGING FIREARM ║ 1        ║ 94          ║ DISCHARGING FIREARM ║ 2C              ║ 3682149  ║ 540029  ║ 2025-01-01 00:03:48.55  ║ 2025-01-01 00:58:29.95  ║ 2025-01-01 00:58:34.597 ║ 2025-01-01 01:39:55.827 ║ GOA         ║ GONE ON ARRIVAL        ║ N             ║ 5K02 ║ 021XX New Orleans St        ║ 70119 ║ 5              ║ POINT (-90.0657235 29.97887396)  ║\n",
      "║ 9  ║ A0000925  ║ 24   ║ MEDICAL             ║ 2D       ║ 24          ║ MEDICAL             ║ 2D              ║ 37369000 ║ 3513814 ║ 2025-01-01 00:05:07.61  ║ \u001b[91;3mNA\u001b[0m                      ║ 2025-01-01 00:05:07.61  ║ 2025-01-01 00:10:28.127 ║ NAT         ║ Necessary Action Taken ║ Y             ║ 8D06 ║ St Peter St & Dauphine St   ║ 70112 ║ 8              ║ POINT (0 0)                      ║\n",
      "║ 10 ║ A0001025  ║ 94   ║ DISCHARGING FIREARM ║ 2C       ║ 94          ║ DISCHARGING FIREARM ║ 2C              ║ 3718649  ║ 572694  ║ 2025-01-01 00:05:34.307 ║ 2025-01-01 00:06:59.757 ║ \u001b[91;3mNA\u001b[0m                      ║ 2025-01-01 00:07:04.993 ║ NAT         ║ Necessary Action Taken ║ N             ║ 7K04 ║ Linden St & Shamrock Dr     ║ 70128 ║ 7              ║ POINT (-89.94919523 30.06753041) ║ \n",
      "╚════╩═══════════╩══════╩═════════════════════╩══════════╩═════════════╩═════════════════════╩═════════════════╩══════════╩═════════╩═════════════════════════╩═════════════════════════╩═════════════════════════╩═════════════════════════╩═════════════╩════════════════════════╩═══════════════╩══════╩═════════════════════════════╩═══════╩════════════════╩══════════════════════════════════╝ \n"
     ]
    }
   ],
   "source": [
    "# Use our custom affiche() function for better readability\n",
    "cfs |> head(10) |> affiche()"
   ]
  },
  {
   "cell_type": "markdown",
   "metadata": {},
   "source": [
    "#### 2. Cleaning column names"
   ]
  },
  {
   "cell_type": "code",
   "execution_count": 78,
   "metadata": {
    "vscode": {
     "languageId": "r"
    }
   },
   "outputs": [
    {
     "name": "stdout",
     "output_type": "stream",
     "text": [
      "spc_tbl_ [857 × 21] (S3: spec_tbl_df/tbl_df/tbl/data.frame)\n",
      " $ nopd_item        : chr [1:857] \"A0000125\" \"A0000225\" \"A0000325\" \"A0000425\" ...\n",
      " $ type             : chr [1:857] \"94\" \"20\" \"94F\" \"94F\" ...\n",
      " $ type_text        : chr [1:857] \"DISCHARGING FIREARM\" \"AUTO ACCIDENT\" \"FIREWORKS\" \"FIREWORKS\" ...\n",
      " $ priority         : chr [1:857] \"1\" \"1\" \"2J\" \"2J\" ...\n",
      " $ initial_type     : chr [1:857] \"94\" \"20\" \"103\" \"103\" ...\n",
      " $ initial_type_text: chr [1:857] \"DISCHARGING FIREARM\" \"AUTO ACCIDENT\" \"DISTURBANCE (OTHER)\" \"DISTURBANCE (OTHER)\" ...\n",
      " $ initial_priority : chr [1:857] \"2C\" \"1E\" \"1C\" \"1C\" ...\n",
      " $ map_x            : num [1:857] 3687148 3680718 3707020 3665351 3664671 ...\n",
      " $ map_y            : num [1:857] 539441 529326 561072 536442 536451 ...\n",
      " $ time_create      : POSIXct[1:857], format: \"2025-01-01 00:01:31\" \"2025-01-01 00:01:54\" ...\n",
      " $ time_dispatch    : POSIXct[1:857], format: \"2025-01-01 01:49:00\" \"2025-01-01 03:07:01\" ...\n",
      " $ time_arrive      : POSIXct[1:857], format: NA \"2025-01-01 03:12:25\" ...\n",
      " $ time_closed      : POSIXct[1:857], format: \"2025-01-01 01:57:09\" \"2025-01-01 06:54:17\" ...\n",
      " $ disposition      : chr [1:857] \"GOA\" \"GOA\" \"NAT\" \"NAT\" ...\n",
      " $ disposition_text : chr [1:857] \"GONE ON ARRIVAL\" \"GONE ON ARRIVAL\" \"Necessary Action Taken\" \"Necessary Action Taken\" ...\n",
      " $ self_initiated   : chr [1:857] \"N\" \"N\" \"N\" \"N\" ...\n",
      " $ beat             : chr [1:857] \"5G02\" \"8G04\" \"7P03\" \"2S02\" ...\n",
      " $ block_address    : chr [1:857] \"025XX Blk N Prieur St\" \"St Charles Av & Poydras St\" \"070XX Bundy Rd\" \"089XX Edinburgh St\" ...\n",
      " $ zip              : chr [1:857] \"70117\" \"70130\" \"70127\" \"70118\" ...\n",
      " $ police_district  : num [1:857] 5 8 7 2 2 7 3 5 8 7 ...\n",
      " $ location         : chr [1:857] \"POINT (-90.04995412 29.97710343)\" \"POINT (-90.07061588 29.94948919)\" \"POINT (-89.98638954 30.03595457)\" \"POINT (-90.11889699 29.96951243)\" ...\n",
      " - attr(*, \"spec\")=\n",
      "  .. cols(\n",
      "  ..   NOPD_Item = \u001b[31mcol_character()\u001b[39m,\n",
      "  ..   Type = \u001b[31mcol_character()\u001b[39m,\n",
      "  ..   TypeText = \u001b[31mcol_character()\u001b[39m,\n",
      "  ..   Priority = \u001b[31mcol_character()\u001b[39m,\n",
      "  ..   InitialType = \u001b[31mcol_character()\u001b[39m,\n",
      "  ..   InitialTypeText = \u001b[31mcol_character()\u001b[39m,\n",
      "  ..   InitialPriority = \u001b[31mcol_character()\u001b[39m,\n",
      "  ..   MapX = \u001b[32mcol_double()\u001b[39m,\n",
      "  ..   MapY = \u001b[32mcol_double()\u001b[39m,\n",
      "  ..   TimeCreate = \u001b[34mcol_datetime(format = \"\")\u001b[39m,\n",
      "  ..   TimeDispatch = \u001b[34mcol_datetime(format = \"\")\u001b[39m,\n",
      "  ..   TimeArrive = \u001b[34mcol_datetime(format = \"\")\u001b[39m,\n",
      "  ..   TimeClosed = \u001b[34mcol_datetime(format = \"\")\u001b[39m,\n",
      "  ..   Disposition = \u001b[31mcol_character()\u001b[39m,\n",
      "  ..   DispositionText = \u001b[31mcol_character()\u001b[39m,\n",
      "  ..   SelfInitiated = \u001b[31mcol_character()\u001b[39m,\n",
      "  ..   Beat = \u001b[31mcol_character()\u001b[39m,\n",
      "  ..   BLOCK_ADDRESS = \u001b[31mcol_character()\u001b[39m,\n",
      "  ..   Zip = \u001b[31mcol_character()\u001b[39m,\n",
      "  ..   PoliceDistrict = \u001b[32mcol_double()\u001b[39m,\n",
      "  ..   Location = \u001b[31mcol_character()\u001b[39m\n",
      "  .. )\n",
      " - attr(*, \"problems\")=<externalptr> \n"
     ]
    }
   ],
   "source": [
    "# Load the {janitor} package from within {tidyverse}\n",
    "library(janitor)\n",
    "\n",
    "# Apply the clean_names() function from {janitor}\n",
    "cfs <- janitor::clean_names(cfs)\n",
    "\n",
    "str(cfs)"
   ]
  },
  {
   "cell_type": "code",
   "execution_count": 66,
   "metadata": {
    "vscode": {
     "languageId": "r"
    }
   },
   "outputs": [
    {
     "name": "stdout",
     "output_type": "stream",
     "text": [
      "╔════╦═══════════╗ \n",
      "║ X. ║ nopd_item ║ \n",
      "╠════╬═══════════╣ \n",
      "║ 1  ║ A0000125  ║\n",
      "║ 2  ║ A0000225  ║\n",
      "║ 3  ║ A0000325  ║\n",
      "║ 4  ║ A0000425  ║\n",
      "║ 5  ║ A0000525  ║\n",
      "║ 6  ║ A0000625  ║\n",
      "║ 7  ║ A0000725  ║\n",
      "║ 8  ║ A0000825  ║\n",
      "║ 9  ║ A0000925  ║\n",
      "║ 10 ║ A0001025  ║ \n",
      "╚════╩═══════════╝ \n"
     ]
    }
   ],
   "source": [
    "# We can select data with select() from {dplyr}\n",
    "cfs |> select(nopd_item) |> \n",
    "  head(10) |> \n",
    "  affiche()"
   ]
  },
  {
   "cell_type": "code",
   "execution_count": 79,
   "metadata": {
    "vscode": {
     "languageId": "r"
    }
   },
   "outputs": [
    {
     "data": {
      "text/html": [
       "'zip_code'"
      ],
      "text/latex": [
       "'zip\\_code'"
      ],
      "text/markdown": [
       "'zip_code'"
      ],
      "text/plain": [
       "[1] \"zip_code\""
      ]
     },
     "metadata": {},
     "output_type": "display_data"
    }
   ],
   "source": [
    "# Rename columns (in case they weren't already renamed)\n",
    "# We'll use rename() from {dplyr} from within {tidyverse}\n",
    "# Where rename wants \"new = old\"\n",
    "cfs <- cfs |> rename(zip_code = zip)\n",
    "\n",
    "# Check on our 19th column\n",
    "colnames(cfs)[19]"
   ]
  },
  {
   "cell_type": "code",
   "execution_count": 80,
   "metadata": {
    "vscode": {
     "languageId": "r"
    }
   },
   "outputs": [
    {
     "name": "stdout",
     "output_type": "stream",
     "text": [
      "spc_tbl_ [857 × 21] (S3: spec_tbl_df/tbl_df/tbl/data.frame)\n",
      " $ nopd_item        : chr [1:857] \"A0000125\" \"A0000225\" \"A0000325\" \"A0000425\" ...\n",
      " $ type             : chr [1:857] \"94\" \"20\" \"94F\" \"94F\" ...\n",
      " $ type_text        : chr [1:857] \"DISCHARGING FIREARM\" \"AUTO ACCIDENT\" \"FIREWORKS\" \"FIREWORKS\" ...\n",
      " $ priority         : chr [1:857] \"1\" \"1\" \"2J\" \"2J\" ...\n",
      " $ initial_type     : chr [1:857] \"94\" \"20\" \"103\" \"103\" ...\n",
      " $ initial_type_text: chr [1:857] \"DISCHARGING FIREARM\" \"AUTO ACCIDENT\" \"DISTURBANCE (OTHER)\" \"DISTURBANCE (OTHER)\" ...\n",
      " $ initial_priority : chr [1:857] \"2C\" \"1E\" \"1C\" \"1C\" ...\n",
      " $ map_x            : num [1:857] 3687148 3680718 3707020 3665351 3664671 ...\n",
      " $ map_y            : num [1:857] 539441 529326 561072 536442 536451 ...\n",
      " $ time_create      : POSIXct[1:857], format: \"2025-01-01 00:01:31\" \"2025-01-01 00:01:54\" ...\n",
      " $ time_dispatch    : POSIXct[1:857], format: \"2025-01-01 01:49:00\" \"2025-01-01 03:07:01\" ...\n",
      " $ time_arrive      : POSIXct[1:857], format: NA \"2025-01-01 03:12:25\" ...\n",
      " $ time_closed      : POSIXct[1:857], format: \"2025-01-01 01:57:09\" \"2025-01-01 06:54:17\" ...\n",
      " $ disposition      : chr [1:857] \"GOA\" \"GOA\" \"NAT\" \"NAT\" ...\n",
      " $ disposition_text : chr [1:857] \"GONE ON ARRIVAL\" \"GONE ON ARRIVAL\" \"Necessary Action Taken\" \"Necessary Action Taken\" ...\n",
      " $ self_initiated   : chr [1:857] \"N\" \"N\" \"N\" \"N\" ...\n",
      " $ beat             : chr [1:857] \"5G02\" \"8G04\" \"7P03\" \"2S02\" ...\n",
      " $ block_address    : chr [1:857] \"025XX Blk N Prieur St\" \"St Charles Av & Poydras St\" \"070XX Bundy Rd\" \"089XX Edinburgh St\" ...\n",
      " $ zip_code         : chr [1:857] \"70117\" \"70130\" \"70127\" \"70118\" ...\n",
      " $ police_district  : num [1:857] 5 8 7 2 2 7 3 5 8 7 ...\n",
      " $ location         : chr [1:857] \"POINT (-90.04995412 29.97710343)\" \"POINT (-90.07061588 29.94948919)\" \"POINT (-89.98638954 30.03595457)\" \"POINT (-90.11889699 29.96951243)\" ...\n",
      " - attr(*, \"spec\")=\n",
      "  .. cols(\n",
      "  ..   NOPD_Item = \u001b[31mcol_character()\u001b[39m,\n",
      "  ..   Type = \u001b[31mcol_character()\u001b[39m,\n",
      "  ..   TypeText = \u001b[31mcol_character()\u001b[39m,\n",
      "  ..   Priority = \u001b[31mcol_character()\u001b[39m,\n",
      "  ..   InitialType = \u001b[31mcol_character()\u001b[39m,\n",
      "  ..   InitialTypeText = \u001b[31mcol_character()\u001b[39m,\n",
      "  ..   InitialPriority = \u001b[31mcol_character()\u001b[39m,\n",
      "  ..   MapX = \u001b[32mcol_double()\u001b[39m,\n",
      "  ..   MapY = \u001b[32mcol_double()\u001b[39m,\n",
      "  ..   TimeCreate = \u001b[34mcol_datetime(format = \"\")\u001b[39m,\n",
      "  ..   TimeDispatch = \u001b[34mcol_datetime(format = \"\")\u001b[39m,\n",
      "  ..   TimeArrive = \u001b[34mcol_datetime(format = \"\")\u001b[39m,\n",
      "  ..   TimeClosed = \u001b[34mcol_datetime(format = \"\")\u001b[39m,\n",
      "  ..   Disposition = \u001b[31mcol_character()\u001b[39m,\n",
      "  ..   DispositionText = \u001b[31mcol_character()\u001b[39m,\n",
      "  ..   SelfInitiated = \u001b[31mcol_character()\u001b[39m,\n",
      "  ..   Beat = \u001b[31mcol_character()\u001b[39m,\n",
      "  ..   BLOCK_ADDRESS = \u001b[31mcol_character()\u001b[39m,\n",
      "  ..   Zip = \u001b[31mcol_character()\u001b[39m,\n",
      "  ..   PoliceDistrict = \u001b[32mcol_double()\u001b[39m,\n",
      "  ..   Location = \u001b[31mcol_character()\u001b[39m\n",
      "  .. )\n",
      " - attr(*, \"problems\")=<externalptr> \n"
     ]
    }
   ],
   "source": [
    "# Let's see if our column names match now\n",
    "str(cfs)\n",
    "\n",
    "# Note: Looks like there are some differences in data types\n",
    "# We'll try to get these to line up later"
   ]
  },
  {
   "cell_type": "markdown",
   "metadata": {},
   "source": [
    "#### 3. Converting character fields to sentence case"
   ]
  },
  {
   "cell_type": "code",
   "execution_count": 81,
   "metadata": {
    "vscode": {
     "languageId": "r"
    }
   },
   "outputs": [],
   "source": [
    "# Use str_to_sentence() from {stringr} via the {tidyverse}\n",
    "cfs <- cfs |> \n",
    "  mutate(across(where(is.character), str_to_sentence))"
   ]
  },
  {
   "cell_type": "code",
   "execution_count": 82,
   "metadata": {
    "vscode": {
     "languageId": "r"
    }
   },
   "outputs": [
    {
     "name": "stdout",
     "output_type": "stream",
     "text": [
      "╔════╦═════════════════════════════╦═══════╗ \n",
      "║ X. ║ disposition_text            ║ count ║ \n",
      "╠════╬═════════════════════════════╬═══════╣ \n",
      "║ 1  ║ Necessary action taken      ║ 436   ║\n",
      "║ 2  ║ Report to follow            ║ 174   ║\n",
      "║ 3  ║ Gone on arrival             ║ 170   ║\n",
      "║ 4  ║ Void                        ║ 36    ║\n",
      "║ 5  ║ Duplicate                   ║ 31    ║\n",
      "║ 6  ║ Referred to external agency ║ 6     ║\n",
      "║ 7  ║ Unfounded                   ║ 3     ║\n",
      "║ 8  ║ Canceled by complainant     ║ 1     ║ \n",
      "╚════╩═════════════════════════════╩═══════╝ \n"
     ]
    }
   ],
   "source": [
    "# Now we can look at the dispositions and see what they look like\n",
    "# We'll use {dplyr} to group_by() a column, summarize() the count, then arrange() by count\n",
    "cfs |> \n",
    "  group_by(disposition_text) |> \n",
    "  summarize(count = n()) |> \n",
    "  arrange(desc(count)) |> \n",
    "  affiche()"
   ]
  },
  {
   "cell_type": "markdown",
   "metadata": {},
   "source": [
    "#### 4. Re-casting data types"
   ]
  },
  {
   "cell_type": "code",
   "execution_count": null,
   "metadata": {
    "vscode": {
     "languageId": "r"
    }
   },
   "outputs": [
    {
     "name": "stdout",
     "output_type": "stream",
     "text": [
      " chr [1:857] \"70117\" \"70130\" \"70127\" \"70118\" \"70118\" \"70128\" \"70122\" ...\n"
     ]
    },
    {
     "name": "stdout",
     "output_type": "stream",
     "text": [
      "╔════╦══════════╦═══════╦═════════╗ \n",
      "║ X. ║ zip_code ║ count ║ percent ║ \n",
      "╠════╬══════════╬═══════╬═════════╣ \n",
      "║ 1  ║ 70130    ║ 114   ║ 13%     ║\n",
      "║ 2  ║ 70119    ║ 96    ║ 11%     ║\n",
      "║ 3  ║ 70112    ║ 76    ║ 9%      ║\n",
      "║ 4  ║ 70116    ║ 65    ║ 8%      ║\n",
      "║ 5  ║ 70126    ║ 58    ║ 7%      ║\n",
      "║ 6  ║ 70117    ║ 56    ║ 7%      ║\n",
      "║ 7  ║ 70127    ║ 51    ║ 6%      ║\n",
      "║ 8  ║ 70124    ║ 50    ║ 6%      ║\n",
      "║ 9  ║ 70115    ║ 41    ║ 5%      ║\n",
      "║ 10 ║ 70122    ║ 40    ║ 5%      ║\n",
      "║ 11 ║ 70118    ║ 38    ║ 4%      ║\n",
      "║ 12 ║ 70125    ║ 37    ║ 4%      ║\n",
      "║ 13 ║ 70113    ║ 31    ║ 4%      ║\n",
      "║ 14 ║ 70114    ║ 29    ║ 3%      ║\n",
      "║ 15 ║ 70131    ║ 24    ║ 3%      ║\n",
      "║ 16 ║ 70128    ║ 23    ║ 3%      ║\n",
      "║ 17 ║ None     ║ 18    ║ 2%      ║\n",
      "║ 18 ║ 70129    ║ 8     ║ 1%      ║\n",
      "║ 19 ║ 70148    ║ 2     ║ <1%     ║ \n",
      "╚════╩══════════╩═══════╩═════════╝ \n"
     ]
    }
   ],
   "source": [
    "# Let's investigate zipcode:\n",
    "# From now on, we'll use our custom count_table() function\n",
    "\n",
    "cfs$zip_code |> str()\n",
    "cfs |> count_table(zip_code) |> affiche()"
   ]
  },
  {
   "cell_type": "code",
   "execution_count": null,
   "metadata": {
    "vscode": {
     "languageId": "r"
    }
   },
   "outputs": [
    {
     "name": "stdout",
     "output_type": "stream",
     "text": [
      " num [1:857] 70117 70130 70127 70118 70118 ...\n"
     ]
    },
    {
     "name": "stdout",
     "output_type": "stream",
     "text": [
      "╔════╦══════════╦═══════╦═════════╗ \n",
      "║ X. ║ zip_code ║ count ║ percent ║ \n",
      "╠════╬══════════╬═══════╬═════════╣ \n",
      "║ 1  ║ 70130    ║ 114   ║ 13%     ║\n",
      "║ 2  ║ 70119    ║ 96    ║ 11%     ║\n",
      "║ 3  ║ 70112    ║ 76    ║ 9%      ║\n",
      "║ 4  ║ 70116    ║ 65    ║ 8%      ║\n",
      "║ 5  ║ 70126    ║ 58    ║ 7%      ║\n",
      "║ 6  ║ 70117    ║ 56    ║ 7%      ║\n",
      "║ 7  ║ 70127    ║ 51    ║ 6%      ║\n",
      "║ 8  ║ 70124    ║ 50    ║ 6%      ║\n",
      "║ 9  ║ 70115    ║ 41    ║ 5%      ║\n",
      "║ 10 ║ 70122    ║ 40    ║ 5%      ║\n",
      "║ 11 ║ 70118    ║ 38    ║ 4%      ║\n",
      "║ 12 ║ 70125    ║ 37    ║ 4%      ║\n",
      "║ 13 ║ 70113    ║ 31    ║ 4%      ║\n",
      "║ 14 ║ 70114    ║ 29    ║ 3%      ║\n",
      "║ 15 ║ 70131    ║ 24    ║ 3%      ║\n",
      "║ 16 ║ 70128    ║ 23    ║ 3%      ║\n",
      "║ 17 ║ \u001b[91;3mNA\u001b[0m       ║ 18    ║ 2%      ║\n",
      "║ 18 ║ 70129    ║ 8     ║ 1%      ║\n",
      "║ 19 ║ 70148    ║ 2     ║ <1%     ║ \n",
      "╚════╩══════════╩═══════╩═════════╝ \n"
     ]
    }
   ],
   "source": [
    "# Looks like it's a character in R because of this \"None\" value\n",
    "# Let's recast it as a numeric\n",
    "cfs <- cfs |> \n",
    "  mutate(zip_code = as.numeric(zip_code))\n",
    "\n",
    "# Now let's look at zip_code\n",
    "# And it coerced the \"None\" for us!\n",
    "cfs$zip_code |> str()\n",
    "cfs |> count_table(zip_code) |> affiche()"
   ]
  },
  {
   "cell_type": "code",
   "execution_count": 86,
   "metadata": {
    "vscode": {
     "languageId": "r"
    }
   },
   "outputs": [
    {
     "name": "stdout",
     "output_type": "stream",
     "text": [
      "tibble [857 × 21] (S3: tbl_df/tbl/data.frame)\n",
      " $ nopd_item        : chr [1:857] \"A0000125\" \"A0000225\" \"A0000325\" \"A0000425\" ...\n",
      " $ type             : chr [1:857] \"94\" \"20\" \"94f\" \"94f\" ...\n",
      " $ type_text        : chr [1:857] \"Discharging firearm\" \"Auto accident\" \"Fireworks\" \"Fireworks\" ...\n",
      " $ priority         : chr [1:857] \"1\" \"1\" \"2j\" \"2j\" ...\n",
      " $ initial_type     : chr [1:857] \"94\" \"20\" \"103\" \"103\" ...\n",
      " $ initial_type_text: chr [1:857] \"Discharging firearm\" \"Auto accident\" \"Disturbance (other)\" \"Disturbance (other)\" ...\n",
      " $ initial_priority : chr [1:857] \"2c\" \"1e\" \"1c\" \"1c\" ...\n",
      " $ map_x            : num [1:857] 3687148 3680718 3707020 3665351 3664671 ...\n",
      " $ map_y            : num [1:857] 539441 529326 561072 536442 536451 ...\n",
      " $ time_create      : POSIXct[1:857], format: \"2025-01-01 00:01:31\" \"2025-01-01 00:01:54\" ...\n",
      " $ time_dispatch    : POSIXct[1:857], format: \"2025-01-01 01:49:00\" \"2025-01-01 03:07:01\" ...\n",
      " $ time_arrive      : POSIXct[1:857], format: NA \"2025-01-01 03:12:25\" ...\n",
      " $ time_closed      : POSIXct[1:857], format: \"2025-01-01 01:57:09\" \"2025-01-01 06:54:17\" ...\n",
      " $ disposition      : chr [1:857] \"Goa\" \"Goa\" \"Nat\" \"Nat\" ...\n",
      " $ disposition_text : chr [1:857] \"Gone on arrival\" \"Gone on arrival\" \"Necessary action taken\" \"Necessary action taken\" ...\n",
      " $ self_initiated   : chr [1:857] \"N\" \"N\" \"N\" \"N\" ...\n",
      " $ beat             : chr [1:857] \"5g02\" \"8g04\" \"7p03\" \"2s02\" ...\n",
      " $ block_address    : chr [1:857] \"025xx blk n prieur st\" \"St charles av & poydras st\" \"070xx bundy rd\" \"089xx edinburgh st\" ...\n",
      " $ zip_code         : num [1:857] 70117 70130 70127 70118 70118 ...\n",
      " $ police_district  : num [1:857] 5 8 7 2 2 7 3 5 8 7 ...\n",
      " $ location         : chr [1:857] \"Point (-90.04995412 29.97710343)\" \"Point (-90.07061588 29.94948919)\" \"Point (-89.98638954 30.03595457)\" \"Point (-90.11889699 29.96951243)\" ...\n"
     ]
    }
   ],
   "source": [
    "# Let's go back and look at the rest of our datatypes\n",
    "str(cfs)"
   ]
  },
  {
   "cell_type": "code",
   "execution_count": null,
   "metadata": {
    "vscode": {
     "languageId": "r"
    }
   },
   "outputs": [
    {
     "name": "stdout",
     "output_type": "stream",
     "text": [
      "╔═════╦═════════════════════════╦═══════╦═════════╗ \n",
      "║ X.  ║ time_create             ║ count ║ percent ║ \n",
      "╠═════╬═════════════════════════╬═══════╬═════════╣ \n",
      "║ 1   ║ 2025-01-01 00:01:31.77  ║ 1     ║ <1%     ║\n",
      "║ 2   ║ 2025-01-01 00:01:54.433 ║ 1     ║ <1%     ║\n",
      "║ 3   ║ 2025-01-01 00:01:55.25  ║ 1     ║ <1%     ║\n",
      "║ 4   ║ 2025-01-01 00:02:04.403 ║ 1     ║ <1%     ║\n",
      "║ 5   ║ 2025-01-01 00:03:08.487 ║ 1     ║ <1%     ║\n",
      "║ 6   ║ 2025-01-01 00:03:14.237 ║ 1     ║ <1%     ║\n",
      "║ 7   ║ 2025-01-01 00:03:36.93  ║ 1     ║ <1%     ║\n",
      "║ 8   ║ 2025-01-01 00:03:48.55  ║ 1     ║ <1%     ║\n",
      "║ 9   ║ 2025-01-01 00:05:07.61  ║ 1     ║ <1%     ║\n",
      "║ 10  ║ 2025-01-01 00:05:34.307 ║ 1     ║ <1%     ║\n",
      "║ 11  ║ 2025-01-01 00:05:39.653 ║ 1     ║ <1%     ║\n",
      "║ 12  ║ 2025-01-01 00:05:49.737 ║ 1     ║ <1%     ║\n",
      "║ 13  ║ 2025-01-01 00:05:56.763 ║ 1     ║ <1%     ║\n",
      "║ 14  ║ 2025-01-01 00:07:05.61  ║ 1     ║ <1%     ║\n",
      "║ 15  ║ 2025-01-01 00:07:19.077 ║ 1     ║ <1%     ║\n",
      "║ 16  ║ 2025-01-01 00:07:47.137 ║ 1     ║ <1%     ║\n",
      "║ 17  ║ 2025-01-01 00:08:34.277 ║ 1     ║ <1%     ║\n",
      "║ 18  ║ 2025-01-01 00:08:43.077 ║ 1     ║ <1%     ║\n",
      "║ 19  ║ 2025-01-01 00:08:47.537 ║ 1     ║ <1%     ║\n",
      "║ 20  ║ 2025-01-01 00:09:05.457 ║ 1     ║ <1%     ║\n",
      "║ 21  ║ 2025-01-01 00:09:59.113 ║ 1     ║ <1%     ║\n",
      "║ 22  ║ 2025-01-01 00:10:15.793 ║ 1     ║ <1%     ║\n",
      "║ 23  ║ 2025-01-01 00:10:56.01  ║ 1     ║ <1%     ║\n",
      "║ 24  ║ 2025-01-01 00:12:53.913 ║ 1     ║ <1%     ║\n",
      "║ 25  ║ 2025-01-01 00:13:15.16  ║ 1     ║ <1%     ║\n",
      "║ 26  ║ 2025-01-01 00:14:50.927 ║ 1     ║ <1%     ║\n",
      "║ 27  ║ 2025-01-01 00:14:52.553 ║ 1     ║ <1%     ║\n",
      "║ 28  ║ 2025-01-01 00:15:35.493 ║ 1     ║ <1%     ║\n",
      "║ 29  ║ 2025-01-01 00:16:17.257 ║ 1     ║ <1%     ║\n",
      "║ 30  ║ 2025-01-01 00:17:46.603 ║ 1     ║ <1%     ║\n",
      "║ 31  ║ 2025-01-01 00:18:21.673 ║ 1     ║ <1%     ║\n",
      "║ 32  ║ 2025-01-01 00:18:30.437 ║ 1     ║ <1%     ║\n",
      "║ 33  ║ 2025-01-01 00:19:49.49  ║ 1     ║ <1%     ║\n",
      "║ 34  ║ 2025-01-01 00:20:12.49  ║ 1     ║ <1%     ║\n",
      "║ 35  ║ 2025-01-01 00:21:22.44  ║ 1     ║ <1%     ║\n",
      "║ 36  ║ 2025-01-01 00:21:29.33  ║ 1     ║ <1%     ║\n",
      "║ 37  ║ 2025-01-01 00:21:53.37  ║ 1     ║ <1%     ║\n",
      "║ 38  ║ 2025-01-01 00:22:06.73  ║ 1     ║ <1%     ║\n",
      "║ 39  ║ 2025-01-01 00:22:20.89  ║ 1     ║ <1%     ║\n",
      "║ 40  ║ 2025-01-01 00:24:24.813 ║ 1     ║ <1%     ║\n",
      "║ 41  ║ 2025-01-01 00:24:38.11  ║ 1     ║ <1%     ║\n",
      "║ 42  ║ 2025-01-01 00:24:58.437 ║ 1     ║ <1%     ║\n",
      "║ 43  ║ 2025-01-01 00:25:09.37  ║ 1     ║ <1%     ║\n",
      "║ 44  ║ 2025-01-01 00:25:30.523 ║ 1     ║ <1%     ║\n",
      "║ 45  ║ 2025-01-01 00:27:13.327 ║ 1     ║ <1%     ║\n",
      "║ 46  ║ 2025-01-01 00:27:17.543 ║ 1     ║ <1%     ║\n",
      "║ 47  ║ 2025-01-01 00:28:19.977 ║ 1     ║ <1%     ║\n",
      "║ 48  ║ 2025-01-01 00:29:15.547 ║ 1     ║ <1%     ║\n",
      "║ 49  ║ 2025-01-01 00:30:00.143 ║ 1     ║ <1%     ║\n",
      "║ 50  ║ 2025-01-01 00:30:01.793 ║ 1     ║ <1%     ║\n",
      "║ 51  ║ 2025-01-01 00:30:56.223 ║ 1     ║ <1%     ║\n",
      "║ 52  ║ 2025-01-01 00:32:39.593 ║ 1     ║ <1%     ║\n",
      "║ 53  ║ 2025-01-01 00:33:16.92  ║ 1     ║ <1%     ║\n",
      "║ 54  ║ 2025-01-01 00:33:31.057 ║ 1     ║ <1%     ║\n",
      "║ 55  ║ 2025-01-01 00:33:57.32  ║ 1     ║ <1%     ║\n",
      "║ 56  ║ 2025-01-01 00:34:12.253 ║ 1     ║ <1%     ║\n",
      "║ 57  ║ 2025-01-01 00:34:42.217 ║ 1     ║ <1%     ║\n",
      "║ 58  ║ 2025-01-01 00:35:42.787 ║ 1     ║ <1%     ║\n",
      "║ 59  ║ 2025-01-01 00:35:54.17  ║ 1     ║ <1%     ║\n",
      "║ 60  ║ 2025-01-01 00:35:58.927 ║ 1     ║ <1%     ║\n",
      "║ 61  ║ 2025-01-01 00:37:45.74  ║ 1     ║ <1%     ║\n",
      "║ 62  ║ 2025-01-01 00:37:52.49  ║ 1     ║ <1%     ║\n",
      "║ 63  ║ 2025-01-01 00:38:22.357 ║ 1     ║ <1%     ║\n",
      "║ 64  ║ 2025-01-01 00:38:38.253 ║ 1     ║ <1%     ║\n",
      "║ 65  ║ 2025-01-01 00:38:46.557 ║ 1     ║ <1%     ║\n",
      "║ 66  ║ 2025-01-01 00:39:09.587 ║ 1     ║ <1%     ║\n",
      "║ 67  ║ 2025-01-01 00:39:38.097 ║ 1     ║ <1%     ║\n",
      "║ 68  ║ 2025-01-01 00:39:53.287 ║ 1     ║ <1%     ║\n",
      "║ 69  ║ 2025-01-01 00:40:14.707 ║ 1     ║ <1%     ║\n",
      "║ 70  ║ 2025-01-01 00:41:35.323 ║ 1     ║ <1%     ║\n",
      "║ 71  ║ 2025-01-01 00:41:44.033 ║ 1     ║ <1%     ║\n",
      "║ 72  ║ 2025-01-01 00:42:47.27  ║ 1     ║ <1%     ║\n",
      "║ 73  ║ 2025-01-01 00:44:03.883 ║ 1     ║ <1%     ║\n",
      "║ 74  ║ 2025-01-01 00:44:22.553 ║ 1     ║ <1%     ║\n",
      "║ 75  ║ 2025-01-01 00:44:29.34  ║ 1     ║ <1%     ║\n",
      "║ 76  ║ 2025-01-01 00:45:31.033 ║ 1     ║ <1%     ║\n",
      "║ 77  ║ 2025-01-01 00:45:45.97  ║ 1     ║ <1%     ║\n",
      "║ 78  ║ 2025-01-01 00:47:27.047 ║ 1     ║ <1%     ║\n",
      "║ 79  ║ 2025-01-01 00:47:32.69  ║ 1     ║ <1%     ║\n",
      "║ 80  ║ 2025-01-01 00:47:44.24  ║ 1     ║ <1%     ║\n",
      "║ 81  ║ 2025-01-01 00:48:04.533 ║ 1     ║ <1%     ║\n",
      "║ 82  ║ 2025-01-01 00:49:50.42  ║ 1     ║ <1%     ║\n",
      "║ 83  ║ 2025-01-01 00:52:38.657 ║ 1     ║ <1%     ║\n",
      "║ 84  ║ 2025-01-01 00:53:41.787 ║ 1     ║ <1%     ║\n",
      "║ 85  ║ 2025-01-01 00:53:56.36  ║ 1     ║ <1%     ║\n",
      "║ 86  ║ 2025-01-01 00:54:12.963 ║ 1     ║ <1%     ║\n",
      "║ 87  ║ 2025-01-01 00:54:44.58  ║ 1     ║ <1%     ║\n",
      "║ 88  ║ 2025-01-01 00:54:52.97  ║ 1     ║ <1%     ║\n",
      "║ 89  ║ 2025-01-01 00:55:12.063 ║ 1     ║ <1%     ║\n",
      "║ 90  ║ 2025-01-01 00:55:21.307 ║ 1     ║ <1%     ║\n",
      "║ 91  ║ 2025-01-01 00:56:55.657 ║ 1     ║ <1%     ║\n",
      "║ 92  ║ 2025-01-01 00:57:41.59  ║ 1     ║ <1%     ║\n",
      "║ 93  ║ 2025-01-01 00:57:55.94  ║ 1     ║ <1%     ║\n",
      "║ 94  ║ 2025-01-01 00:59:29.103 ║ 1     ║ <1%     ║\n",
      "║ 95  ║ 2025-01-01 00:59:52.14  ║ 1     ║ <1%     ║\n",
      "║ 96  ║ 2025-01-01 01:00:04.153 ║ 1     ║ <1%     ║\n",
      "║ 97  ║ 2025-01-01 01:02:14.407 ║ 1     ║ <1%     ║\n",
      "║ 98  ║ 2025-01-01 01:02:14.47  ║ 1     ║ <1%     ║\n",
      "║ 99  ║ 2025-01-01 01:03:54.437 ║ 1     ║ <1%     ║\n",
      "║ 100 ║ 2025-01-01 01:05:52.617 ║ 1     ║ <1%     ║\n",
      "║ 101 ║ 2025-01-01 01:06:49.22  ║ 1     ║ <1%     ║\n",
      "║ 102 ║ 2025-01-01 01:08:13.24  ║ 1     ║ <1%     ║\n",
      "║ 103 ║ 2025-01-01 01:09:39.333 ║ 1     ║ <1%     ║\n",
      "║ 104 ║ 2025-01-01 01:09:58.463 ║ 1     ║ <1%     ║\n",
      "║ 105 ║ 2025-01-01 01:11:09.22  ║ 1     ║ <1%     ║\n",
      "║ 106 ║ 2025-01-01 01:11:41.983 ║ 1     ║ <1%     ║\n",
      "║ 107 ║ 2025-01-01 01:12:05.733 ║ 1     ║ <1%     ║\n",
      "║ 108 ║ 2025-01-01 01:12:16.833 ║ 1     ║ <1%     ║\n",
      "║ 109 ║ 2025-01-01 01:15:24.477 ║ 1     ║ <1%     ║\n",
      "║ 110 ║ 2025-01-01 01:17:37.33  ║ 1     ║ <1%     ║\n",
      "║ 111 ║ 2025-01-01 01:18:16.637 ║ 1     ║ <1%     ║\n",
      "║ 112 ║ 2025-01-01 01:18:39.74  ║ 1     ║ <1%     ║\n",
      "║ 113 ║ 2025-01-01 01:19:30.547 ║ 1     ║ <1%     ║\n",
      "║ 114 ║ 2025-01-01 01:19:38.23  ║ 1     ║ <1%     ║\n",
      "║ 115 ║ 2025-01-01 01:20:10.763 ║ 1     ║ <1%     ║\n",
      "║ 116 ║ 2025-01-01 01:20:55.777 ║ 1     ║ <1%     ║\n",
      "║ 117 ║ 2025-01-01 01:24:53.057 ║ 1     ║ <1%     ║\n",
      "║ 118 ║ 2025-01-01 01:25:52.51  ║ 1     ║ <1%     ║\n",
      "║ 119 ║ 2025-01-01 01:26:16.17  ║ 1     ║ <1%     ║\n",
      "║ 120 ║ 2025-01-01 01:26:27.43  ║ 1     ║ <1%     ║\n",
      "║ 121 ║ 2025-01-01 01:29:35.853 ║ 1     ║ <1%     ║\n",
      "║ 122 ║ 2025-01-01 01:32:38.373 ║ 1     ║ <1%     ║\n",
      "║ 123 ║ 2025-01-01 01:32:39.16  ║ 1     ║ <1%     ║\n",
      "║ 124 ║ 2025-01-01 01:33:20.073 ║ 1     ║ <1%     ║\n",
      "║ 125 ║ 2025-01-01 01:36:50.077 ║ 1     ║ <1%     ║\n",
      "║ 126 ║ 2025-01-01 01:37:07.427 ║ 1     ║ <1%     ║\n",
      "║ 127 ║ 2025-01-01 01:40:14.36  ║ 1     ║ <1%     ║\n",
      "║ 128 ║ 2025-01-01 01:40:18.973 ║ 1     ║ <1%     ║\n",
      "║ 129 ║ 2025-01-01 01:42:24.987 ║ 1     ║ <1%     ║\n",
      "║ 130 ║ 2025-01-01 01:42:31.923 ║ 1     ║ <1%     ║\n",
      "║ 131 ║ 2025-01-01 01:46:15.51  ║ 1     ║ <1%     ║\n",
      "║ 132 ║ 2025-01-01 01:47:35.383 ║ 1     ║ <1%     ║\n",
      "║ 133 ║ 2025-01-01 01:48:14.367 ║ 1     ║ <1%     ║\n",
      "║ 134 ║ 2025-01-01 01:48:44.937 ║ 1     ║ <1%     ║\n",
      "║ 135 ║ 2025-01-01 01:48:46.023 ║ 1     ║ <1%     ║\n",
      "║ 136 ║ 2025-01-01 01:49:12.423 ║ 1     ║ <1%     ║\n",
      "║ 137 ║ 2025-01-01 01:49:24.373 ║ 1     ║ <1%     ║\n",
      "║ 138 ║ 2025-01-01 01:51:36.563 ║ 1     ║ <1%     ║\n",
      "║ 139 ║ 2025-01-01 01:52:28.347 ║ 1     ║ <1%     ║\n",
      "║ 140 ║ 2025-01-01 01:52:46.12  ║ 1     ║ <1%     ║\n",
      "║ 141 ║ 2025-01-01 01:53:06.857 ║ 1     ║ <1%     ║\n",
      "║ 142 ║ 2025-01-01 01:54:19.927 ║ 1     ║ <1%     ║\n",
      "║ 143 ║ 2025-01-01 01:58:46.477 ║ 1     ║ <1%     ║\n",
      "║ 144 ║ 2025-01-01 01:59:28.677 ║ 1     ║ <1%     ║\n",
      "║ 145 ║ 2025-01-01 01:59:53.347 ║ 1     ║ <1%     ║\n",
      "║ 146 ║ 2025-01-01 02:00:09.427 ║ 1     ║ <1%     ║\n",
      "║ 147 ║ 2025-01-01 02:00:24.217 ║ 1     ║ <1%     ║\n",
      "║ 148 ║ 2025-01-01 02:00:35.763 ║ 1     ║ <1%     ║\n",
      "║ 149 ║ 2025-01-01 02:02:38.507 ║ 1     ║ <1%     ║\n",
      "║ 150 ║ 2025-01-01 02:03:19.38  ║ 1     ║ <1%     ║\n",
      "║ 151 ║ 2025-01-01 02:05:20.57  ║ 1     ║ <1%     ║\n",
      "║ 152 ║ 2025-01-01 02:06:06.943 ║ 1     ║ <1%     ║\n",
      "║ 153 ║ 2025-01-01 02:07:26.763 ║ 1     ║ <1%     ║\n",
      "║ 154 ║ 2025-01-01 02:08:23.427 ║ 1     ║ <1%     ║\n",
      "║ 155 ║ 2025-01-01 02:10:40.42  ║ 1     ║ <1%     ║\n",
      "║ 156 ║ 2025-01-01 02:11:38.09  ║ 1     ║ <1%     ║\n",
      "║ 157 ║ 2025-01-01 02:12:15.997 ║ 1     ║ <1%     ║\n",
      "║ 158 ║ 2025-01-01 02:13:42.42  ║ 1     ║ <1%     ║\n",
      "║ 159 ║ 2025-01-01 02:17:31.787 ║ 1     ║ <1%     ║\n",
      "║ 160 ║ 2025-01-01 02:18:48.25  ║ 1     ║ <1%     ║\n",
      "║ 161 ║ 2025-01-01 02:19:29.353 ║ 1     ║ <1%     ║\n",
      "║ 162 ║ 2025-01-01 02:20:46.987 ║ 1     ║ <1%     ║\n",
      "║ 163 ║ 2025-01-01 02:20:49.607 ║ 1     ║ <1%     ║\n",
      "║ 164 ║ 2025-01-01 02:23:30.403 ║ 1     ║ <1%     ║\n",
      "║ 165 ║ 2025-01-01 02:24:48.317 ║ 1     ║ <1%     ║\n",
      "║ 166 ║ 2025-01-01 02:25:28.457 ║ 1     ║ <1%     ║\n",
      "║ 167 ║ 2025-01-01 02:27:35.66  ║ 1     ║ <1%     ║\n",
      "║ 168 ║ 2025-01-01 02:27:54.317 ║ 1     ║ <1%     ║\n",
      "║ 169 ║ 2025-01-01 02:28:21.893 ║ 1     ║ <1%     ║\n",
      "║ 170 ║ 2025-01-01 02:29:11.75  ║ 1     ║ <1%     ║\n",
      "║ 171 ║ 2025-01-01 02:29:37.13  ║ 1     ║ <1%     ║\n",
      "║ 172 ║ 2025-01-01 02:30:02.13  ║ 1     ║ <1%     ║\n",
      "║ 173 ║ 2025-01-01 02:31:58.99  ║ 1     ║ <1%     ║\n",
      "║ 174 ║ 2025-01-01 02:32:12.81  ║ 1     ║ <1%     ║\n",
      "║ 175 ║ 2025-01-01 02:32:44.627 ║ 1     ║ <1%     ║\n",
      "║ 176 ║ 2025-01-01 02:36:20.593 ║ 1     ║ <1%     ║\n",
      "║ 177 ║ 2025-01-01 02:37:38.297 ║ 1     ║ <1%     ║\n",
      "║ 178 ║ 2025-01-01 02:37:56.563 ║ 1     ║ <1%     ║\n",
      "║ 179 ║ 2025-01-01 02:38:35.55  ║ 1     ║ <1%     ║\n",
      "║ 180 ║ 2025-01-01 02:43:03.747 ║ 1     ║ <1%     ║\n",
      "║ 181 ║ 2025-01-01 02:43:11.713 ║ 1     ║ <1%     ║\n",
      "║ 182 ║ 2025-01-01 02:46:28.97  ║ 1     ║ <1%     ║\n",
      "║ 183 ║ 2025-01-01 02:50:55.683 ║ 1     ║ <1%     ║\n",
      "║ 184 ║ 2025-01-01 02:51:17.867 ║ 1     ║ <1%     ║\n",
      "║ 185 ║ 2025-01-01 02:52:17.79  ║ 1     ║ <1%     ║\n",
      "║ 186 ║ 2025-01-01 02:52:43.97  ║ 1     ║ <1%     ║\n",
      "║ 187 ║ 2025-01-01 02:53:43.453 ║ 1     ║ <1%     ║\n",
      "║ 188 ║ 2025-01-01 02:53:55.793 ║ 1     ║ <1%     ║\n",
      "║ 189 ║ 2025-01-01 02:59:40.797 ║ 1     ║ <1%     ║\n",
      "║ 190 ║ 2025-01-01 03:03:24.96  ║ 1     ║ <1%     ║\n",
      "║ 191 ║ 2025-01-01 03:05:04.827 ║ 1     ║ <1%     ║\n",
      "║ 192 ║ 2025-01-01 03:05:07.3   ║ 1     ║ <1%     ║\n",
      "║ 193 ║ 2025-01-01 03:06:54.097 ║ 1     ║ <1%     ║\n",
      "║ 194 ║ 2025-01-01 03:08:10.9   ║ 1     ║ <1%     ║\n",
      "║ 195 ║ 2025-01-01 03:08:30.897 ║ 1     ║ <1%     ║\n",
      "║ 196 ║ 2025-01-01 03:08:41.113 ║ 1     ║ <1%     ║\n",
      "║ 197 ║ 2025-01-01 03:10:17.92  ║ 1     ║ <1%     ║\n",
      "║ 198 ║ 2025-01-01 03:10:32.947 ║ 1     ║ <1%     ║\n",
      "║ 199 ║ 2025-01-01 03:12:08.823 ║ 1     ║ <1%     ║\n",
      "║ 200 ║ 2025-01-01 03:14:28.313 ║ 1     ║ <1%     ║\n",
      "║ 201 ║ 2025-01-01 03:15:23.857 ║ 1     ║ <1%     ║\n",
      "║ 202 ║ 2025-01-01 03:16:06.747 ║ 1     ║ <1%     ║\n",
      "║ 203 ║ 2025-01-01 03:16:23.087 ║ 1     ║ <1%     ║\n",
      "║ 204 ║ 2025-01-01 03:16:49.917 ║ 1     ║ <1%     ║\n",
      "║ 205 ║ 2025-01-01 03:17:44.287 ║ 1     ║ <1%     ║\n",
      "║ 206 ║ 2025-01-01 03:19:16.307 ║ 1     ║ <1%     ║\n",
      "║ 207 ║ 2025-01-01 03:20:04.13  ║ 1     ║ <1%     ║\n",
      "║ 208 ║ 2025-01-01 03:20:15.187 ║ 1     ║ <1%     ║\n",
      "║ 209 ║ 2025-01-01 03:20:54.62  ║ 1     ║ <1%     ║\n",
      "║ 210 ║ 2025-01-01 03:21:34.69  ║ 1     ║ <1%     ║\n",
      "║ 211 ║ 2025-01-01 03:23:48.213 ║ 1     ║ <1%     ║\n",
      "║ 212 ║ 2025-01-01 03:26:52.45  ║ 1     ║ <1%     ║\n",
      "║ 213 ║ 2025-01-01 03:27:04.663 ║ 1     ║ <1%     ║\n",
      "║ 214 ║ 2025-01-01 03:28:41.857 ║ 1     ║ <1%     ║\n",
      "║ 215 ║ 2025-01-01 03:30:45.437 ║ 1     ║ <1%     ║\n",
      "║ 216 ║ 2025-01-01 03:31:21.807 ║ 1     ║ <1%     ║\n",
      "║ 217 ║ 2025-01-01 03:31:33.513 ║ 1     ║ <1%     ║\n",
      "║ 218 ║ 2025-01-01 03:32:23.967 ║ 1     ║ <1%     ║\n",
      "║ 219 ║ 2025-01-01 03:34:24.637 ║ 1     ║ <1%     ║\n",
      "║ 220 ║ 2025-01-01 03:35:50.827 ║ 1     ║ <1%     ║\n",
      "║ 221 ║ 2025-01-01 03:35:58.6   ║ 1     ║ <1%     ║\n",
      "║ 222 ║ 2025-01-01 03:36:26.14  ║ 1     ║ <1%     ║\n",
      "║ 223 ║ 2025-01-01 03:41:56.337 ║ 1     ║ <1%     ║\n",
      "║ 224 ║ 2025-01-01 03:43:21.527 ║ 1     ║ <1%     ║\n",
      "║ 225 ║ 2025-01-01 03:44:25.243 ║ 1     ║ <1%     ║\n",
      "║ 226 ║ 2025-01-01 03:45:10.293 ║ 1     ║ <1%     ║\n",
      "║ 227 ║ 2025-01-01 03:46:31.25  ║ 1     ║ <1%     ║\n",
      "║ 228 ║ 2025-01-01 03:47:29.697 ║ 1     ║ <1%     ║\n",
      "║ 229 ║ 2025-01-01 03:48:50.903 ║ 1     ║ <1%     ║\n",
      "║ 230 ║ 2025-01-01 03:49:01.853 ║ 1     ║ <1%     ║\n",
      "║ 231 ║ 2025-01-01 03:53:38.443 ║ 1     ║ <1%     ║\n",
      "║ 232 ║ 2025-01-01 03:53:56.197 ║ 1     ║ <1%     ║\n",
      "║ 233 ║ 2025-01-01 03:57:03.26  ║ 1     ║ <1%     ║\n",
      "║ 234 ║ 2025-01-01 03:59:37.06  ║ 1     ║ <1%     ║\n",
      "║ 235 ║ 2025-01-01 04:00:49.3   ║ 1     ║ <1%     ║\n",
      "║ 236 ║ 2025-01-01 04:02:21.707 ║ 1     ║ <1%     ║\n",
      "║ 237 ║ 2025-01-01 04:02:41.267 ║ 1     ║ <1%     ║\n",
      "║ 238 ║ 2025-01-01 04:05:02.543 ║ 1     ║ <1%     ║\n",
      "║ 239 ║ 2025-01-01 04:06:46.86  ║ 1     ║ <1%     ║\n",
      "║ 240 ║ 2025-01-01 04:12:58.397 ║ 1     ║ <1%     ║\n",
      "║ 241 ║ 2025-01-01 04:18:35.117 ║ 1     ║ <1%     ║\n",
      "║ 242 ║ 2025-01-01 04:18:50.25  ║ 1     ║ <1%     ║\n",
      "║ 243 ║ 2025-01-01 04:24:04.63  ║ 1     ║ <1%     ║\n",
      "║ 244 ║ 2025-01-01 04:24:57.087 ║ 1     ║ <1%     ║\n",
      "║ 245 ║ 2025-01-01 04:29:26.3   ║ 1     ║ <1%     ║\n",
      "║ 246 ║ 2025-01-01 04:30:23.093 ║ 1     ║ <1%     ║\n",
      "║ 247 ║ 2025-01-01 04:30:31.873 ║ 1     ║ <1%     ║\n",
      "║ 248 ║ 2025-01-01 04:31:16.323 ║ 1     ║ <1%     ║\n",
      "║ 249 ║ 2025-01-01 04:34:05.223 ║ 1     ║ <1%     ║\n",
      "║ 250 ║ 2025-01-01 04:34:11.94  ║ 1     ║ <1%     ║\n",
      "║ 251 ║ 2025-01-01 04:35:38.853 ║ 1     ║ <1%     ║\n",
      "║ 252 ║ 2025-01-01 04:37:21.293 ║ 1     ║ <1%     ║\n",
      "║ 253 ║ 2025-01-01 04:39:16.33  ║ 1     ║ <1%     ║\n",
      "║ 254 ║ 2025-01-01 04:39:18.697 ║ 1     ║ <1%     ║\n",
      "║ 255 ║ 2025-01-01 04:44:42.987 ║ 1     ║ <1%     ║\n",
      "║ 256 ║ 2025-01-01 04:44:46.78  ║ 1     ║ <1%     ║\n",
      "║ 257 ║ 2025-01-01 04:45:34.88  ║ 1     ║ <1%     ║\n",
      "║ 258 ║ 2025-01-01 04:50:37.793 ║ 1     ║ <1%     ║\n",
      "║ 259 ║ 2025-01-01 04:56:02.267 ║ 1     ║ <1%     ║\n",
      "║ 260 ║ 2025-01-01 04:56:30.673 ║ 1     ║ <1%     ║\n",
      "║ 261 ║ 2025-01-01 04:56:37.747 ║ 1     ║ <1%     ║\n",
      "║ 262 ║ 2025-01-01 04:57:02.157 ║ 1     ║ <1%     ║\n",
      "║ 263 ║ 2025-01-01 04:58:51.427 ║ 1     ║ <1%     ║\n",
      "║ 264 ║ 2025-01-01 05:01:22.53  ║ 1     ║ <1%     ║\n",
      "║ 265 ║ 2025-01-01 05:01:53.027 ║ 1     ║ <1%     ║\n",
      "║ 266 ║ 2025-01-01 05:02:21.48  ║ 1     ║ <1%     ║\n",
      "║ 267 ║ 2025-01-01 05:04:28.403 ║ 1     ║ <1%     ║\n",
      "║ 268 ║ 2025-01-01 05:09:48.007 ║ 1     ║ <1%     ║\n",
      "║ 269 ║ 2025-01-01 05:09:57.517 ║ 1     ║ <1%     ║\n",
      "║ 270 ║ 2025-01-01 05:13:28.89  ║ 1     ║ <1%     ║\n",
      "║ 271 ║ 2025-01-01 05:15:03.107 ║ 1     ║ <1%     ║\n",
      "║ 272 ║ 2025-01-01 05:15:42.597 ║ 1     ║ <1%     ║\n",
      "║ 273 ║ 2025-01-01 05:17:12.203 ║ 1     ║ <1%     ║\n",
      "║ 274 ║ 2025-01-01 05:17:26.46  ║ 1     ║ <1%     ║\n",
      "║ 275 ║ 2025-01-01 05:19:28.383 ║ 1     ║ <1%     ║\n",
      "║ 276 ║ 2025-01-01 05:20:41.49  ║ 1     ║ <1%     ║\n",
      "║ 277 ║ 2025-01-01 05:22:17.313 ║ 1     ║ <1%     ║\n",
      "║ 278 ║ 2025-01-01 05:38:30.363 ║ 1     ║ <1%     ║\n",
      "║ 279 ║ 2025-01-01 05:43:28.697 ║ 1     ║ <1%     ║\n",
      "║ 280 ║ 2025-01-01 05:45:35.51  ║ 1     ║ <1%     ║\n",
      "║ 281 ║ 2025-01-01 05:45:41.21  ║ 1     ║ <1%     ║\n",
      "║ 282 ║ 2025-01-01 05:49:42.393 ║ 1     ║ <1%     ║\n",
      "║ 283 ║ 2025-01-01 05:50:23.397 ║ 1     ║ <1%     ║\n",
      "║ 284 ║ 2025-01-01 05:50:35.607 ║ 1     ║ <1%     ║\n",
      "║ 285 ║ 2025-01-01 06:01:24.377 ║ 1     ║ <1%     ║\n",
      "║ 286 ║ 2025-01-01 06:02:35.23  ║ 1     ║ <1%     ║\n",
      "║ 287 ║ 2025-01-01 06:02:38.193 ║ 1     ║ <1%     ║\n",
      "║ 288 ║ 2025-01-01 06:08:38.123 ║ 1     ║ <1%     ║\n",
      "║ 289 ║ 2025-01-01 06:11:57.887 ║ 1     ║ <1%     ║\n",
      "║ 290 ║ 2025-01-01 06:14:33.527 ║ 1     ║ <1%     ║\n",
      "║ 291 ║ 2025-01-01 06:15:52.58  ║ 1     ║ <1%     ║\n",
      "║ 292 ║ 2025-01-01 06:17:54.323 ║ 1     ║ <1%     ║\n",
      "║ 293 ║ 2025-01-01 06:18:58.517 ║ 1     ║ <1%     ║\n",
      "║ 294 ║ 2025-01-01 06:24:23.52  ║ 1     ║ <1%     ║\n",
      "║ 295 ║ 2025-01-01 06:28:30.52  ║ 1     ║ <1%     ║\n",
      "║ 296 ║ 2025-01-01 06:30:10.19  ║ 1     ║ <1%     ║\n",
      "║ 297 ║ 2025-01-01 06:34:24.957 ║ 1     ║ <1%     ║\n",
      "║ 298 ║ 2025-01-01 06:41:23.713 ║ 1     ║ <1%     ║\n",
      "║ 299 ║ 2025-01-01 06:43:17.54  ║ 1     ║ <1%     ║\n",
      "║ 300 ║ 2025-01-01 06:45:21.963 ║ 1     ║ <1%     ║\n",
      "║ 301 ║ 2025-01-01 06:51:13.233 ║ 1     ║ <1%     ║\n",
      "║ 302 ║ 2025-01-01 06:54:11.783 ║ 1     ║ <1%     ║\n",
      "║ 303 ║ 2025-01-01 06:55:10.49  ║ 1     ║ <1%     ║\n",
      "║ 304 ║ 2025-01-01 07:06:30.553 ║ 1     ║ <1%     ║\n",
      "║ 305 ║ 2025-01-01 07:10:16.127 ║ 1     ║ <1%     ║\n",
      "║ 306 ║ 2025-01-01 07:14:30.85  ║ 1     ║ <1%     ║\n",
      "║ 307 ║ 2025-01-01 07:15:12.68  ║ 1     ║ <1%     ║\n",
      "║ 308 ║ 2025-01-01 07:16:50.447 ║ 1     ║ <1%     ║\n",
      "║ 309 ║ 2025-01-01 07:20:45.38  ║ 1     ║ <1%     ║\n",
      "║ 310 ║ 2025-01-01 07:21:39.75  ║ 1     ║ <1%     ║\n",
      "║ 311 ║ 2025-01-01 07:24:46.897 ║ 1     ║ <1%     ║\n",
      "║ 312 ║ 2025-01-01 07:29:46.587 ║ 1     ║ <1%     ║\n",
      "║ 313 ║ 2025-01-01 07:34:38.407 ║ 1     ║ <1%     ║\n",
      "║ 314 ║ 2025-01-01 07:35:44.13  ║ 1     ║ <1%     ║\n",
      "║ 315 ║ 2025-01-01 07:36:00.713 ║ 1     ║ <1%     ║\n",
      "║ 316 ║ 2025-01-01 07:38:50.303 ║ 1     ║ <1%     ║\n",
      "║ 317 ║ 2025-01-01 07:40:37.247 ║ 1     ║ <1%     ║\n",
      "║ 318 ║ 2025-01-01 07:45:01.053 ║ 1     ║ <1%     ║\n",
      "║ 319 ║ 2025-01-01 07:46:36.243 ║ 1     ║ <1%     ║\n",
      "║ 320 ║ 2025-01-01 07:47:58.347 ║ 1     ║ <1%     ║\n",
      "║ 321 ║ 2025-01-01 07:48:25.03  ║ 1     ║ <1%     ║\n",
      "║ 322 ║ 2025-01-01 07:48:32.337 ║ 1     ║ <1%     ║\n",
      "║ 323 ║ 2025-01-01 07:53:17.673 ║ 1     ║ <1%     ║\n",
      "║ 324 ║ 2025-01-01 08:01:33.267 ║ 1     ║ <1%     ║\n",
      "║ 325 ║ 2025-01-01 08:03:08.953 ║ 1     ║ <1%     ║\n",
      "║ 326 ║ 2025-01-01 08:05:25.12  ║ 1     ║ <1%     ║\n",
      "║ 327 ║ 2025-01-01 08:08:23.027 ║ 1     ║ <1%     ║\n",
      "║ 328 ║ 2025-01-01 08:09:58.29  ║ 1     ║ <1%     ║\n",
      "║ 329 ║ 2025-01-01 08:10:39.027 ║ 1     ║ <1%     ║\n",
      "║ 330 ║ 2025-01-01 08:12:21.217 ║ 1     ║ <1%     ║\n",
      "║ 331 ║ 2025-01-01 08:12:43.903 ║ 1     ║ <1%     ║\n",
      "║ 332 ║ 2025-01-01 08:13:30.957 ║ 1     ║ <1%     ║\n",
      "║ 333 ║ 2025-01-01 08:13:41.707 ║ 1     ║ <1%     ║\n",
      "║ 334 ║ 2025-01-01 08:14:48.72  ║ 1     ║ <1%     ║\n",
      "║ 335 ║ 2025-01-01 08:15:21.073 ║ 1     ║ <1%     ║\n",
      "║ 336 ║ 2025-01-01 08:16:49.737 ║ 1     ║ <1%     ║\n",
      "║ 337 ║ 2025-01-01 08:16:56.547 ║ 1     ║ <1%     ║\n",
      "║ 338 ║ 2025-01-01 08:18:56.66  ║ 1     ║ <1%     ║\n",
      "║ 339 ║ 2025-01-01 08:19:34.293 ║ 1     ║ <1%     ║\n",
      "║ 340 ║ 2025-01-01 08:19:52.523 ║ 1     ║ <1%     ║\n",
      "║ 341 ║ 2025-01-01 08:20:00.62  ║ 1     ║ <1%     ║\n",
      "║ 342 ║ 2025-01-01 08:22:32.11  ║ 1     ║ <1%     ║\n",
      "║ 343 ║ 2025-01-01 08:22:35.413 ║ 1     ║ <1%     ║\n",
      "║ 344 ║ 2025-01-01 08:25:24.477 ║ 1     ║ <1%     ║\n",
      "║ 345 ║ 2025-01-01 08:26:25.94  ║ 1     ║ <1%     ║\n",
      "║ 346 ║ 2025-01-01 08:27:29.007 ║ 1     ║ <1%     ║\n",
      "║ 347 ║ 2025-01-01 08:29:57.033 ║ 1     ║ <1%     ║\n",
      "║ 348 ║ 2025-01-01 08:30:41.99  ║ 1     ║ <1%     ║\n",
      "║ 349 ║ 2025-01-01 08:33:31.65  ║ 1     ║ <1%     ║\n",
      "║ 350 ║ 2025-01-01 08:47:07.7   ║ 1     ║ <1%     ║\n",
      "║ 351 ║ 2025-01-01 08:48:25.283 ║ 1     ║ <1%     ║\n",
      "║ 352 ║ 2025-01-01 08:49:46.59  ║ 1     ║ <1%     ║\n",
      "║ 353 ║ 2025-01-01 08:51:58.13  ║ 1     ║ <1%     ║\n",
      "║ 354 ║ 2025-01-01 09:01:26.79  ║ 1     ║ <1%     ║\n",
      "║ 355 ║ 2025-01-01 09:06:54.957 ║ 1     ║ <1%     ║\n",
      "║ 356 ║ 2025-01-01 09:11:54.65  ║ 1     ║ <1%     ║\n",
      "║ 357 ║ 2025-01-01 09:15:20.183 ║ 1     ║ <1%     ║\n",
      "║ 358 ║ 2025-01-01 09:15:21.553 ║ 1     ║ <1%     ║\n",
      "║ 359 ║ 2025-01-01 09:18:14.393 ║ 1     ║ <1%     ║\n",
      "║ 360 ║ 2025-01-01 09:18:23.85  ║ 1     ║ <1%     ║\n",
      "║ 361 ║ 2025-01-01 09:18:53.323 ║ 1     ║ <1%     ║\n",
      "║ 362 ║ 2025-01-01 09:24:19.747 ║ 1     ║ <1%     ║\n",
      "║ 363 ║ 2025-01-01 09:25:07.403 ║ 1     ║ <1%     ║\n",
      "║ 364 ║ 2025-01-01 09:25:49.84  ║ 1     ║ <1%     ║\n",
      "║ 365 ║ 2025-01-01 09:26:07.843 ║ 1     ║ <1%     ║\n",
      "║ 366 ║ 2025-01-01 09:26:28.167 ║ 1     ║ <1%     ║\n",
      "║ 367 ║ 2025-01-01 09:27:16.88  ║ 1     ║ <1%     ║\n",
      "║ 368 ║ 2025-01-01 09:28:35.067 ║ 1     ║ <1%     ║\n",
      "║ 369 ║ 2025-01-01 09:31:06.31  ║ 1     ║ <1%     ║\n",
      "║ 370 ║ 2025-01-01 09:31:57.503 ║ 1     ║ <1%     ║\n",
      "║ 371 ║ 2025-01-01 09:32:58.353 ║ 1     ║ <1%     ║\n",
      "║ 372 ║ 2025-01-01 09:37:39.953 ║ 1     ║ <1%     ║\n",
      "║ 373 ║ 2025-01-01 09:41:01.707 ║ 1     ║ <1%     ║\n",
      "║ 374 ║ 2025-01-01 09:44:53.463 ║ 1     ║ <1%     ║\n",
      "║ 375 ║ 2025-01-01 09:45:26.173 ║ 1     ║ <1%     ║\n",
      "║ 376 ║ 2025-01-01 09:46:33.037 ║ 1     ║ <1%     ║\n",
      "║ 377 ║ 2025-01-01 09:53:03.847 ║ 1     ║ <1%     ║\n",
      "║ 378 ║ 2025-01-01 09:53:19.287 ║ 1     ║ <1%     ║\n",
      "║ 379 ║ 2025-01-01 09:53:58.683 ║ 1     ║ <1%     ║\n",
      "║ 380 ║ 2025-01-01 09:57:45.707 ║ 1     ║ <1%     ║\n",
      "║ 381 ║ 2025-01-01 09:59:04.397 ║ 1     ║ <1%     ║\n",
      "║ 382 ║ 2025-01-01 10:02:03.12  ║ 1     ║ <1%     ║\n",
      "║ 383 ║ 2025-01-01 10:02:08.003 ║ 1     ║ <1%     ║\n",
      "║ 384 ║ 2025-01-01 10:03:29.12  ║ 1     ║ <1%     ║\n",
      "║ 385 ║ 2025-01-01 10:04:23.49  ║ 1     ║ <1%     ║\n",
      "║ 386 ║ 2025-01-01 10:11:11.22  ║ 1     ║ <1%     ║\n",
      "║ 387 ║ 2025-01-01 10:11:39.91  ║ 1     ║ <1%     ║\n",
      "║ 388 ║ 2025-01-01 10:15:35.223 ║ 1     ║ <1%     ║\n",
      "║ 389 ║ 2025-01-01 10:16:03.687 ║ 1     ║ <1%     ║\n",
      "║ 390 ║ 2025-01-01 10:16:56.733 ║ 1     ║ <1%     ║\n",
      "║ 391 ║ 2025-01-01 10:18:42.153 ║ 1     ║ <1%     ║\n",
      "║ 392 ║ 2025-01-01 10:19:55.157 ║ 1     ║ <1%     ║\n",
      "║ 393 ║ 2025-01-01 10:25:28.777 ║ 1     ║ <1%     ║\n",
      "║ 394 ║ 2025-01-01 10:25:37.743 ║ 1     ║ <1%     ║\n",
      "║ 395 ║ 2025-01-01 10:26:34.237 ║ 1     ║ <1%     ║\n",
      "║ 396 ║ 2025-01-01 10:38:55.017 ║ 1     ║ <1%     ║\n",
      "║ 397 ║ 2025-01-01 10:40:47.25  ║ 1     ║ <1%     ║\n",
      "║ 398 ║ 2025-01-01 10:41:58.77  ║ 1     ║ <1%     ║\n",
      "║ 399 ║ 2025-01-01 10:43:50.047 ║ 1     ║ <1%     ║\n",
      "║ 400 ║ 2025-01-01 10:45:43.84  ║ 1     ║ <1%     ║\n",
      "║ 401 ║ 2025-01-01 10:48:36.783 ║ 1     ║ <1%     ║\n",
      "║ 402 ║ 2025-01-01 10:49:34.963 ║ 1     ║ <1%     ║\n",
      "║ 403 ║ 2025-01-01 10:50:01.957 ║ 1     ║ <1%     ║\n",
      "║ 404 ║ 2025-01-01 10:50:45.693 ║ 1     ║ <1%     ║\n",
      "║ 405 ║ 2025-01-01 10:56:37.503 ║ 1     ║ <1%     ║\n",
      "║ 406 ║ 2025-01-01 10:56:54.077 ║ 1     ║ <1%     ║\n",
      "║ 407 ║ 2025-01-01 10:58:49.133 ║ 1     ║ <1%     ║\n",
      "║ 408 ║ 2025-01-01 11:00:04.433 ║ 1     ║ <1%     ║\n",
      "║ 409 ║ 2025-01-01 11:02:20.223 ║ 1     ║ <1%     ║\n",
      "║ 410 ║ 2025-01-01 11:03:52.8   ║ 1     ║ <1%     ║\n",
      "║ 411 ║ 2025-01-01 11:06:34.023 ║ 1     ║ <1%     ║\n",
      "║ 412 ║ 2025-01-01 11:12:13.08  ║ 1     ║ <1%     ║\n",
      "║ 413 ║ 2025-01-01 11:19:12.197 ║ 1     ║ <1%     ║\n",
      "║ 414 ║ 2025-01-01 11:23:00.29  ║ 1     ║ <1%     ║\n",
      "║ 415 ║ 2025-01-01 11:23:11.363 ║ 1     ║ <1%     ║\n",
      "║ 416 ║ 2025-01-01 11:24:03.52  ║ 1     ║ <1%     ║\n",
      "║ 417 ║ 2025-01-01 11:27:33.507 ║ 1     ║ <1%     ║\n",
      "║ 418 ║ 2025-01-01 11:34:42.893 ║ 1     ║ <1%     ║\n",
      "║ 419 ║ 2025-01-01 11:36:11.673 ║ 1     ║ <1%     ║\n",
      "║ 420 ║ 2025-01-01 11:38:15.223 ║ 1     ║ <1%     ║\n",
      "║ 421 ║ 2025-01-01 11:41:18.677 ║ 1     ║ <1%     ║\n",
      "║ 422 ║ 2025-01-01 11:41:27.707 ║ 1     ║ <1%     ║\n",
      "║ 423 ║ 2025-01-01 11:42:10.387 ║ 1     ║ <1%     ║\n",
      "║ 424 ║ 2025-01-01 11:49:01.19  ║ 1     ║ <1%     ║\n",
      "║ 425 ║ 2025-01-01 11:53:26.95  ║ 1     ║ <1%     ║\n",
      "║ 426 ║ 2025-01-01 11:57:06.78  ║ 1     ║ <1%     ║\n",
      "║ 427 ║ 2025-01-01 11:57:54.383 ║ 1     ║ <1%     ║\n",
      "║ 428 ║ 2025-01-01 12:00:04.807 ║ 1     ║ <1%     ║\n",
      "║ 429 ║ 2025-01-01 12:03:18.833 ║ 1     ║ <1%     ║\n",
      "║ 430 ║ 2025-01-01 12:04:44.64  ║ 1     ║ <1%     ║\n",
      "║ 431 ║ 2025-01-01 12:05:09.28  ║ 1     ║ <1%     ║\n",
      "║ 432 ║ 2025-01-01 12:05:31.527 ║ 1     ║ <1%     ║\n",
      "║ 433 ║ 2025-01-01 12:09:23.427 ║ 1     ║ <1%     ║\n",
      "║ 434 ║ 2025-01-01 12:09:47.69  ║ 1     ║ <1%     ║\n",
      "║ 435 ║ 2025-01-01 12:12:16.207 ║ 1     ║ <1%     ║\n",
      "║ 436 ║ 2025-01-01 12:12:19.57  ║ 1     ║ <1%     ║\n",
      "║ 437 ║ 2025-01-01 12:16:47.46  ║ 1     ║ <1%     ║\n",
      "║ 438 ║ 2025-01-01 12:21:18.25  ║ 1     ║ <1%     ║\n",
      "║ 439 ║ 2025-01-01 12:25:49.463 ║ 1     ║ <1%     ║\n",
      "║ 440 ║ 2025-01-01 12:27:30.647 ║ 1     ║ <1%     ║\n",
      "║ 441 ║ 2025-01-01 12:27:45.49  ║ 1     ║ <1%     ║\n",
      "║ 442 ║ 2025-01-01 12:34:01.743 ║ 1     ║ <1%     ║\n",
      "║ 443 ║ 2025-01-01 12:34:19.627 ║ 1     ║ <1%     ║\n",
      "║ 444 ║ 2025-01-01 12:35:22.923 ║ 1     ║ <1%     ║\n",
      "║ 445 ║ 2025-01-01 12:36:14.617 ║ 1     ║ <1%     ║\n",
      "║ 446 ║ 2025-01-01 12:36:29.003 ║ 1     ║ <1%     ║\n",
      "║ 447 ║ 2025-01-01 12:37:10.977 ║ 1     ║ <1%     ║\n",
      "║ 448 ║ 2025-01-01 12:38:22.127 ║ 1     ║ <1%     ║\n",
      "║ 449 ║ 2025-01-01 12:43:39.493 ║ 1     ║ <1%     ║\n",
      "║ 450 ║ 2025-01-01 12:47:07.943 ║ 1     ║ <1%     ║\n",
      "║ 451 ║ 2025-01-01 12:48:27.01  ║ 1     ║ <1%     ║\n",
      "║ 452 ║ 2025-01-01 12:52:18.617 ║ 1     ║ <1%     ║\n",
      "║ 453 ║ 2025-01-01 12:52:36.12  ║ 1     ║ <1%     ║\n",
      "║ 454 ║ 2025-01-01 12:52:59.387 ║ 1     ║ <1%     ║\n",
      "║ 455 ║ 2025-01-01 12:57:18.823 ║ 1     ║ <1%     ║\n",
      "║ 456 ║ 2025-01-01 12:58:45.273 ║ 1     ║ <1%     ║\n",
      "║ 457 ║ 2025-01-01 12:59:11.023 ║ 1     ║ <1%     ║\n",
      "║ 458 ║ 2025-01-01 12:59:39.997 ║ 1     ║ <1%     ║\n",
      "║ 459 ║ 2025-01-01 13:00:59.98  ║ 1     ║ <1%     ║\n",
      "║ 460 ║ 2025-01-01 13:01:36.71  ║ 1     ║ <1%     ║\n",
      "║ 461 ║ 2025-01-01 13:06:23.837 ║ 1     ║ <1%     ║\n",
      "║ 462 ║ 2025-01-01 13:09:06.513 ║ 1     ║ <1%     ║\n",
      "║ 463 ║ 2025-01-01 13:09:58.333 ║ 1     ║ <1%     ║\n",
      "║ 464 ║ 2025-01-01 13:10:51.69  ║ 1     ║ <1%     ║\n",
      "║ 465 ║ 2025-01-01 13:15:47.04  ║ 1     ║ <1%     ║\n",
      "║ 466 ║ 2025-01-01 13:16:59.503 ║ 1     ║ <1%     ║\n",
      "║ 467 ║ 2025-01-01 13:19:43.443 ║ 1     ║ <1%     ║\n",
      "║ 468 ║ 2025-01-01 13:20:05.277 ║ 1     ║ <1%     ║\n",
      "║ 469 ║ 2025-01-01 13:20:11.507 ║ 1     ║ <1%     ║\n",
      "║ 470 ║ 2025-01-01 13:20:40.563 ║ 1     ║ <1%     ║\n",
      "║ 471 ║ 2025-01-01 13:22:21.983 ║ 1     ║ <1%     ║\n",
      "║ 472 ║ 2025-01-01 13:22:34.71  ║ 1     ║ <1%     ║\n",
      "║ 473 ║ 2025-01-01 13:24:23.1   ║ 1     ║ <1%     ║\n",
      "║ 474 ║ 2025-01-01 13:26:40.54  ║ 1     ║ <1%     ║\n",
      "║ 475 ║ 2025-01-01 13:28:14.15  ║ 1     ║ <1%     ║\n",
      "║ 476 ║ 2025-01-01 13:28:47.7   ║ 1     ║ <1%     ║\n",
      "║ 477 ║ 2025-01-01 13:31:26.793 ║ 1     ║ <1%     ║\n",
      "║ 478 ║ 2025-01-01 13:33:25.483 ║ 1     ║ <1%     ║\n",
      "║ 479 ║ 2025-01-01 13:34:44.183 ║ 1     ║ <1%     ║\n",
      "║ 480 ║ 2025-01-01 13:36:29.703 ║ 1     ║ <1%     ║\n",
      "║ 481 ║ 2025-01-01 13:40:58.453 ║ 1     ║ <1%     ║\n",
      "║ 482 ║ 2025-01-01 13:43:24.357 ║ 1     ║ <1%     ║\n",
      "║ 483 ║ 2025-01-01 13:44:32.423 ║ 1     ║ <1%     ║\n",
      "║ 484 ║ 2025-01-01 13:46:44.53  ║ 1     ║ <1%     ║\n",
      "║ 485 ║ 2025-01-01 13:47:25.397 ║ 1     ║ <1%     ║\n",
      "║ 486 ║ 2025-01-01 13:49:20.267 ║ 1     ║ <1%     ║\n",
      "║ 487 ║ 2025-01-01 13:57:53.87  ║ 1     ║ <1%     ║\n",
      "║ 488 ║ 2025-01-01 13:58:37.713 ║ 1     ║ <1%     ║\n",
      "║ 489 ║ 2025-01-01 13:59:29.87  ║ 1     ║ <1%     ║\n",
      "║ 490 ║ 2025-01-01 14:02:12.227 ║ 1     ║ <1%     ║\n",
      "║ 491 ║ 2025-01-01 14:03:11.38  ║ 1     ║ <1%     ║\n",
      "║ 492 ║ 2025-01-01 14:03:56.173 ║ 1     ║ <1%     ║\n",
      "║ 493 ║ 2025-01-01 14:04:19.123 ║ 1     ║ <1%     ║\n",
      "║ 494 ║ 2025-01-01 14:08:54.603 ║ 1     ║ <1%     ║\n",
      "║ 495 ║ 2025-01-01 14:11:11.73  ║ 1     ║ <1%     ║\n",
      "║ 496 ║ 2025-01-01 14:13:45.07  ║ 1     ║ <1%     ║\n",
      "║ 497 ║ 2025-01-01 14:15:31.11  ║ 1     ║ <1%     ║\n",
      "║ 498 ║ 2025-01-01 14:15:31.243 ║ 1     ║ <1%     ║\n",
      "║ 499 ║ 2025-01-01 14:17:12.387 ║ 1     ║ <1%     ║\n",
      "║ 500 ║ 2025-01-01 14:17:45.067 ║ 1     ║ <1%     ║\n",
      "║ 501 ║ 2025-01-01 14:18:04.633 ║ 1     ║ <1%     ║\n",
      "║ 502 ║ 2025-01-01 14:21:05.747 ║ 1     ║ <1%     ║\n",
      "║ 503 ║ 2025-01-01 14:22:31.61  ║ 1     ║ <1%     ║\n",
      "║ 504 ║ 2025-01-01 14:24:14.783 ║ 1     ║ <1%     ║\n",
      "║ 505 ║ 2025-01-01 14:27:00.417 ║ 1     ║ <1%     ║\n",
      "║ 506 ║ 2025-01-01 14:27:19.347 ║ 1     ║ <1%     ║\n",
      "║ 507 ║ 2025-01-01 14:30:43.23  ║ 1     ║ <1%     ║\n",
      "║ 508 ║ 2025-01-01 14:34:41.997 ║ 1     ║ <1%     ║\n",
      "║ 509 ║ 2025-01-01 14:34:55.403 ║ 1     ║ <1%     ║\n",
      "║ 510 ║ 2025-01-01 14:37:05.937 ║ 1     ║ <1%     ║\n",
      "║ 511 ║ 2025-01-01 14:38:30.893 ║ 1     ║ <1%     ║\n",
      "║ 512 ║ 2025-01-01 14:41:02.103 ║ 1     ║ <1%     ║\n",
      "║ 513 ║ 2025-01-01 14:42:03.703 ║ 1     ║ <1%     ║\n",
      "║ 514 ║ 2025-01-01 14:45:33.257 ║ 1     ║ <1%     ║\n",
      "║ 515 ║ 2025-01-01 14:45:43.82  ║ 1     ║ <1%     ║\n",
      "║ 516 ║ 2025-01-01 14:46:15.757 ║ 1     ║ <1%     ║\n",
      "║ 517 ║ 2025-01-01 14:47:24.39  ║ 1     ║ <1%     ║\n",
      "║ 518 ║ 2025-01-01 14:48:36.707 ║ 1     ║ <1%     ║\n",
      "║ 519 ║ 2025-01-01 14:52:24.717 ║ 1     ║ <1%     ║\n",
      "║ 520 ║ 2025-01-01 14:52:38.667 ║ 1     ║ <1%     ║\n",
      "║ 521 ║ 2025-01-01 14:53:12.913 ║ 1     ║ <1%     ║\n",
      "║ 522 ║ 2025-01-01 14:58:37.813 ║ 1     ║ <1%     ║\n",
      "║ 523 ║ 2025-01-01 15:00:00.757 ║ 1     ║ <1%     ║\n",
      "║ 524 ║ 2025-01-01 15:00:11.76  ║ 1     ║ <1%     ║\n",
      "║ 525 ║ 2025-01-01 15:01:17.647 ║ 1     ║ <1%     ║\n",
      "║ 526 ║ 2025-01-01 15:01:51.56  ║ 1     ║ <1%     ║\n",
      "║ 527 ║ 2025-01-01 15:03:44.297 ║ 1     ║ <1%     ║\n",
      "║ 528 ║ 2025-01-01 15:03:56.583 ║ 1     ║ <1%     ║\n",
      "║ 529 ║ 2025-01-01 15:04:24.083 ║ 1     ║ <1%     ║\n",
      "║ 530 ║ 2025-01-01 15:04:42.093 ║ 1     ║ <1%     ║\n",
      "║ 531 ║ 2025-01-01 15:07:47.463 ║ 1     ║ <1%     ║\n",
      "║ 532 ║ 2025-01-01 15:08:15.487 ║ 1     ║ <1%     ║\n",
      "║ 533 ║ 2025-01-01 15:08:30.873 ║ 1     ║ <1%     ║\n",
      "║ 534 ║ 2025-01-01 15:17:08.793 ║ 1     ║ <1%     ║\n",
      "║ 535 ║ 2025-01-01 15:17:26.17  ║ 1     ║ <1%     ║\n",
      "║ 536 ║ 2025-01-01 15:19:49.647 ║ 1     ║ <1%     ║\n",
      "║ 537 ║ 2025-01-01 15:20:29.22  ║ 1     ║ <1%     ║\n",
      "║ 538 ║ 2025-01-01 15:21:15.043 ║ 1     ║ <1%     ║\n",
      "║ 539 ║ 2025-01-01 15:21:50.44  ║ 1     ║ <1%     ║\n",
      "║ 540 ║ 2025-01-01 15:22:34.027 ║ 1     ║ <1%     ║\n",
      "║ 541 ║ 2025-01-01 15:26:11.86  ║ 1     ║ <1%     ║\n",
      "║ 542 ║ 2025-01-01 15:27:36.617 ║ 1     ║ <1%     ║\n",
      "║ 543 ║ 2025-01-01 15:28:33.1   ║ 1     ║ <1%     ║\n",
      "║ 544 ║ 2025-01-01 15:35:34.057 ║ 1     ║ <1%     ║\n",
      "║ 545 ║ 2025-01-01 15:35:44.49  ║ 1     ║ <1%     ║\n",
      "║ 546 ║ 2025-01-01 15:37:19.967 ║ 1     ║ <1%     ║\n",
      "║ 547 ║ 2025-01-01 15:38:49.317 ║ 1     ║ <1%     ║\n",
      "║ 548 ║ 2025-01-01 15:41:13.033 ║ 1     ║ <1%     ║\n",
      "║ 549 ║ 2025-01-01 15:41:52.88  ║ 1     ║ <1%     ║\n",
      "║ 550 ║ 2025-01-01 15:45:00.697 ║ 1     ║ <1%     ║\n",
      "║ 551 ║ 2025-01-01 15:45:46.753 ║ 1     ║ <1%     ║\n",
      "║ 552 ║ 2025-01-01 15:46:21.67  ║ 1     ║ <1%     ║\n",
      "║ 553 ║ 2025-01-01 15:46:44.143 ║ 1     ║ <1%     ║\n",
      "║ 554 ║ 2025-01-01 15:47:30.517 ║ 1     ║ <1%     ║\n",
      "║ 555 ║ 2025-01-01 15:49:41.647 ║ 1     ║ <1%     ║\n",
      "║ 556 ║ 2025-01-01 15:50:56.98  ║ 1     ║ <1%     ║\n",
      "║ 557 ║ 2025-01-01 15:51:12.35  ║ 1     ║ <1%     ║\n",
      "║ 558 ║ 2025-01-01 15:52:30.297 ║ 1     ║ <1%     ║\n",
      "║ 559 ║ 2025-01-01 15:53:09.723 ║ 1     ║ <1%     ║\n",
      "║ 560 ║ 2025-01-01 15:53:36.367 ║ 1     ║ <1%     ║\n",
      "║ 561 ║ 2025-01-01 15:58:36.77  ║ 1     ║ <1%     ║\n",
      "║ 562 ║ 2025-01-01 15:58:39.113 ║ 1     ║ <1%     ║\n",
      "║ 563 ║ 2025-01-01 15:58:43.627 ║ 1     ║ <1%     ║\n",
      "║ 564 ║ 2025-01-01 16:00:04.833 ║ 1     ║ <1%     ║\n",
      "║ 565 ║ 2025-01-01 16:04:25.013 ║ 1     ║ <1%     ║\n",
      "║ 566 ║ 2025-01-01 16:05:36.87  ║ 1     ║ <1%     ║\n",
      "║ 567 ║ 2025-01-01 16:05:57.953 ║ 1     ║ <1%     ║\n",
      "║ 568 ║ 2025-01-01 16:06:58.767 ║ 1     ║ <1%     ║\n",
      "║ 569 ║ 2025-01-01 16:07:10.24  ║ 1     ║ <1%     ║\n",
      "║ 570 ║ 2025-01-01 16:09:04.973 ║ 1     ║ <1%     ║\n",
      "║ 571 ║ 2025-01-01 16:13:17.48  ║ 1     ║ <1%     ║\n",
      "║ 572 ║ 2025-01-01 16:15:58.023 ║ 1     ║ <1%     ║\n",
      "║ 573 ║ 2025-01-01 16:17:15.713 ║ 1     ║ <1%     ║\n",
      "║ 574 ║ 2025-01-01 16:17:45.513 ║ 1     ║ <1%     ║\n",
      "║ 575 ║ 2025-01-01 16:19:21.183 ║ 1     ║ <1%     ║\n",
      "║ 576 ║ 2025-01-01 16:20:14.683 ║ 1     ║ <1%     ║\n",
      "║ 577 ║ 2025-01-01 16:21:29.903 ║ 1     ║ <1%     ║\n",
      "║ 578 ║ 2025-01-01 16:21:34.417 ║ 1     ║ <1%     ║\n",
      "║ 579 ║ 2025-01-01 16:23:52.67  ║ 1     ║ <1%     ║\n",
      "║ 580 ║ 2025-01-01 16:24:03.793 ║ 1     ║ <1%     ║\n",
      "║ 581 ║ 2025-01-01 16:25:29.553 ║ 1     ║ <1%     ║\n",
      "║ 582 ║ 2025-01-01 16:29:08.49  ║ 1     ║ <1%     ║\n",
      "║ 583 ║ 2025-01-01 16:29:44.9   ║ 1     ║ <1%     ║\n",
      "║ 584 ║ 2025-01-01 16:33:00.437 ║ 1     ║ <1%     ║\n",
      "║ 585 ║ 2025-01-01 16:33:22.9   ║ 1     ║ <1%     ║\n",
      "║ 586 ║ 2025-01-01 16:39:13.953 ║ 1     ║ <1%     ║\n",
      "║ 587 ║ 2025-01-01 16:41:25.66  ║ 1     ║ <1%     ║\n",
      "║ 588 ║ 2025-01-01 16:41:38.86  ║ 1     ║ <1%     ║\n",
      "║ 589 ║ 2025-01-01 16:42:39.09  ║ 1     ║ <1%     ║\n",
      "║ 590 ║ 2025-01-01 16:42:39.923 ║ 1     ║ <1%     ║\n",
      "║ 591 ║ 2025-01-01 16:48:40.46  ║ 1     ║ <1%     ║\n",
      "║ 592 ║ 2025-01-01 16:48:55.517 ║ 1     ║ <1%     ║\n",
      "║ 593 ║ 2025-01-01 16:49:07.557 ║ 1     ║ <1%     ║\n",
      "║ 594 ║ 2025-01-01 16:53:17.593 ║ 1     ║ <1%     ║\n",
      "║ 595 ║ 2025-01-01 16:53:47.697 ║ 1     ║ <1%     ║\n",
      "║ 596 ║ 2025-01-01 16:55:49.787 ║ 1     ║ <1%     ║\n",
      "║ 597 ║ 2025-01-01 16:59:38.12  ║ 1     ║ <1%     ║\n",
      "║ 598 ║ 2025-01-01 17:00:16.213 ║ 1     ║ <1%     ║\n",
      "║ 599 ║ 2025-01-01 17:03:30.83  ║ 1     ║ <1%     ║\n",
      "║ 600 ║ 2025-01-01 17:06:07.183 ║ 1     ║ <1%     ║\n",
      "║ 601 ║ 2025-01-01 17:06:41.813 ║ 1     ║ <1%     ║\n",
      "║ 602 ║ 2025-01-01 17:07:20.507 ║ 1     ║ <1%     ║\n",
      "║ 603 ║ 2025-01-01 17:08:20.6   ║ 1     ║ <1%     ║\n",
      "║ 604 ║ 2025-01-01 17:11:04.973 ║ 1     ║ <1%     ║\n",
      "║ 605 ║ 2025-01-01 17:13:03.117 ║ 1     ║ <1%     ║\n",
      "║ 606 ║ 2025-01-01 17:14:42.617 ║ 1     ║ <1%     ║\n",
      "║ 607 ║ 2025-01-01 17:20:37.883 ║ 1     ║ <1%     ║\n",
      "║ 608 ║ 2025-01-01 17:22:43.04  ║ 1     ║ <1%     ║\n",
      "║ 609 ║ 2025-01-01 17:24:46.293 ║ 1     ║ <1%     ║\n",
      "║ 610 ║ 2025-01-01 17:26:32.22  ║ 1     ║ <1%     ║\n",
      "║ 611 ║ 2025-01-01 17:28:18.733 ║ 1     ║ <1%     ║\n",
      "║ 612 ║ 2025-01-01 17:28:50.933 ║ 1     ║ <1%     ║\n",
      "║ 613 ║ 2025-01-01 17:28:59.073 ║ 1     ║ <1%     ║\n",
      "║ 614 ║ 2025-01-01 17:29:37.89  ║ 1     ║ <1%     ║\n",
      "║ 615 ║ 2025-01-01 17:31:53.317 ║ 1     ║ <1%     ║\n",
      "║ 616 ║ 2025-01-01 17:32:20.377 ║ 1     ║ <1%     ║\n",
      "║ 617 ║ 2025-01-01 17:32:41.38  ║ 1     ║ <1%     ║\n",
      "║ 618 ║ 2025-01-01 17:40:45.297 ║ 1     ║ <1%     ║\n",
      "║ 619 ║ 2025-01-01 17:41:15.9   ║ 1     ║ <1%     ║\n",
      "║ 620 ║ 2025-01-01 17:42:43.75  ║ 1     ║ <1%     ║\n",
      "║ 621 ║ 2025-01-01 17:43:14.65  ║ 1     ║ <1%     ║\n",
      "║ 622 ║ 2025-01-01 17:44:49.197 ║ 1     ║ <1%     ║\n",
      "║ 623 ║ 2025-01-01 17:46:28.237 ║ 1     ║ <1%     ║\n",
      "║ 624 ║ 2025-01-01 17:46:55.77  ║ 1     ║ <1%     ║\n",
      "║ 625 ║ 2025-01-01 17:47:42.42  ║ 1     ║ <1%     ║\n",
      "║ 626 ║ 2025-01-01 17:48:38.737 ║ 1     ║ <1%     ║\n",
      "║ 627 ║ 2025-01-01 17:49:00.28  ║ 1     ║ <1%     ║\n",
      "║ 628 ║ 2025-01-01 17:51:33.403 ║ 1     ║ <1%     ║\n",
      "║ 629 ║ 2025-01-01 17:52:14.803 ║ 1     ║ <1%     ║\n",
      "║ 630 ║ 2025-01-01 17:53:17.487 ║ 1     ║ <1%     ║\n",
      "║ 631 ║ 2025-01-01 17:53:27.707 ║ 1     ║ <1%     ║\n",
      "║ 632 ║ 2025-01-01 17:54:13.367 ║ 1     ║ <1%     ║\n",
      "║ 633 ║ 2025-01-01 17:55:20.087 ║ 1     ║ <1%     ║\n",
      "║ 634 ║ 2025-01-01 17:56:39.687 ║ 1     ║ <1%     ║\n",
      "║ 635 ║ 2025-01-01 17:59:25.003 ║ 1     ║ <1%     ║\n",
      "║ 636 ║ 2025-01-01 17:59:56.117 ║ 1     ║ <1%     ║\n",
      "║ 637 ║ 2025-01-01 18:00:08.757 ║ 1     ║ <1%     ║\n",
      "║ 638 ║ 2025-01-01 18:00:41     ║ 1     ║ <1%     ║\n",
      "║ 639 ║ 2025-01-01 18:01:35.57  ║ 1     ║ <1%     ║\n",
      "║ 640 ║ 2025-01-01 18:05:49.293 ║ 1     ║ <1%     ║\n",
      "║ 641 ║ 2025-01-01 18:10:02.74  ║ 1     ║ <1%     ║\n",
      "║ 642 ║ 2025-01-01 18:11:43.9   ║ 1     ║ <1%     ║\n",
      "║ 643 ║ 2025-01-01 18:12:40.463 ║ 1     ║ <1%     ║\n",
      "║ 644 ║ 2025-01-01 18:15:42.723 ║ 1     ║ <1%     ║\n",
      "║ 645 ║ 2025-01-01 18:16:42.007 ║ 1     ║ <1%     ║\n",
      "║ 646 ║ 2025-01-01 18:17:08.99  ║ 1     ║ <1%     ║\n",
      "║ 647 ║ 2025-01-01 18:18:30.27  ║ 1     ║ <1%     ║\n",
      "║ 648 ║ 2025-01-01 18:18:36.887 ║ 1     ║ <1%     ║\n",
      "║ 649 ║ 2025-01-01 18:22:00.29  ║ 1     ║ <1%     ║\n",
      "║ 650 ║ 2025-01-01 18:22:30.54  ║ 1     ║ <1%     ║\n",
      "║ 651 ║ 2025-01-01 18:23:43.87  ║ 1     ║ <1%     ║\n",
      "║ 652 ║ 2025-01-01 18:24:16.44  ║ 1     ║ <1%     ║\n",
      "║ 653 ║ 2025-01-01 18:24:38.673 ║ 1     ║ <1%     ║\n",
      "║ 654 ║ 2025-01-01 18:24:48.777 ║ 1     ║ <1%     ║\n",
      "║ 655 ║ 2025-01-01 18:27:56.15  ║ 1     ║ <1%     ║\n",
      "║ 656 ║ 2025-01-01 18:28:24.847 ║ 1     ║ <1%     ║\n",
      "║ 657 ║ 2025-01-01 18:28:51     ║ 1     ║ <1%     ║\n",
      "║ 658 ║ 2025-01-01 18:32:37.24  ║ 1     ║ <1%     ║\n",
      "║ 659 ║ 2025-01-01 18:35:10.637 ║ 1     ║ <1%     ║\n",
      "║ 660 ║ 2025-01-01 18:37:07.18  ║ 1     ║ <1%     ║\n",
      "║ 661 ║ 2025-01-01 18:38:01.713 ║ 1     ║ <1%     ║\n",
      "║ 662 ║ 2025-01-01 18:39:00.38  ║ 1     ║ <1%     ║\n",
      "║ 663 ║ 2025-01-01 18:40:21.057 ║ 1     ║ <1%     ║\n",
      "║ 664 ║ 2025-01-01 18:40:39.96  ║ 1     ║ <1%     ║\n",
      "║ 665 ║ 2025-01-01 18:40:51.27  ║ 1     ║ <1%     ║\n",
      "║ 666 ║ 2025-01-01 18:41:40.47  ║ 1     ║ <1%     ║\n",
      "║ 667 ║ 2025-01-01 18:42:07.583 ║ 1     ║ <1%     ║\n",
      "║ 668 ║ 2025-01-01 18:43:18.333 ║ 1     ║ <1%     ║\n",
      "║ 669 ║ 2025-01-01 18:43:50.273 ║ 1     ║ <1%     ║\n",
      "║ 670 ║ 2025-01-01 18:44:01.417 ║ 1     ║ <1%     ║\n",
      "║ 671 ║ 2025-01-01 18:47:00.567 ║ 1     ║ <1%     ║\n",
      "║ 672 ║ 2025-01-01 18:48:31.093 ║ 1     ║ <1%     ║\n",
      "║ 673 ║ 2025-01-01 18:48:31.46  ║ 1     ║ <1%     ║\n",
      "║ 674 ║ 2025-01-01 18:49:37.657 ║ 1     ║ <1%     ║\n",
      "║ 675 ║ 2025-01-01 18:49:43.867 ║ 1     ║ <1%     ║\n",
      "║ 676 ║ 2025-01-01 18:52:52.28  ║ 1     ║ <1%     ║\n",
      "║ 677 ║ 2025-01-01 18:55:40.57  ║ 1     ║ <1%     ║\n",
      "║ 678 ║ 2025-01-01 18:55:59.17  ║ 1     ║ <1%     ║\n",
      "║ 679 ║ 2025-01-01 18:57:02.813 ║ 1     ║ <1%     ║\n",
      "║ 680 ║ 2025-01-01 18:59:02.07  ║ 1     ║ <1%     ║\n",
      "║ 681 ║ 2025-01-01 18:59:28.397 ║ 1     ║ <1%     ║\n",
      "║ 682 ║ 2025-01-01 18:59:44.027 ║ 1     ║ <1%     ║\n",
      "║ 683 ║ 2025-01-01 19:01:14.953 ║ 1     ║ <1%     ║\n",
      "║ 684 ║ 2025-01-01 19:04:04.91  ║ 1     ║ <1%     ║\n",
      "║ 685 ║ 2025-01-01 19:05:54.087 ║ 1     ║ <1%     ║\n",
      "║ 686 ║ 2025-01-01 19:12:26.213 ║ 1     ║ <1%     ║\n",
      "║ 687 ║ 2025-01-01 19:13:01.307 ║ 1     ║ <1%     ║\n",
      "║ 688 ║ 2025-01-01 19:15:27.787 ║ 1     ║ <1%     ║\n",
      "║ 689 ║ 2025-01-01 19:16:13.44  ║ 1     ║ <1%     ║\n",
      "║ 690 ║ 2025-01-01 19:18:01.877 ║ 1     ║ <1%     ║\n",
      "║ 691 ║ 2025-01-01 19:20:44.827 ║ 1     ║ <1%     ║\n",
      "║ 692 ║ 2025-01-01 19:20:53.02  ║ 1     ║ <1%     ║\n",
      "║ 693 ║ 2025-01-01 19:22:53.303 ║ 1     ║ <1%     ║\n",
      "║ 694 ║ 2025-01-01 19:24:28.68  ║ 1     ║ <1%     ║\n",
      "║ 695 ║ 2025-01-01 19:25:31.787 ║ 1     ║ <1%     ║\n",
      "║ 696 ║ 2025-01-01 19:25:49.443 ║ 1     ║ <1%     ║\n",
      "║ 697 ║ 2025-01-01 19:26:06.573 ║ 1     ║ <1%     ║\n",
      "║ 698 ║ 2025-01-01 19:30:47.76  ║ 1     ║ <1%     ║\n",
      "║ 699 ║ 2025-01-01 19:31:24.673 ║ 1     ║ <1%     ║\n",
      "║ 700 ║ 2025-01-01 19:33:03.243 ║ 1     ║ <1%     ║\n",
      "║ 701 ║ 2025-01-01 19:34:23.767 ║ 1     ║ <1%     ║\n",
      "║ 702 ║ 2025-01-01 19:35:26.24  ║ 1     ║ <1%     ║\n",
      "║ 703 ║ 2025-01-01 19:36:54.91  ║ 1     ║ <1%     ║\n",
      "║ 704 ║ 2025-01-01 19:37:48.493 ║ 1     ║ <1%     ║\n",
      "║ 705 ║ 2025-01-01 19:39:16.433 ║ 1     ║ <1%     ║\n",
      "║ 706 ║ 2025-01-01 19:39:17.957 ║ 1     ║ <1%     ║\n",
      "║ 707 ║ 2025-01-01 19:39:48.963 ║ 1     ║ <1%     ║\n",
      "║ 708 ║ 2025-01-01 19:40:00.497 ║ 1     ║ <1%     ║\n",
      "║ 709 ║ 2025-01-01 19:41:35.063 ║ 1     ║ <1%     ║\n",
      "║ 710 ║ 2025-01-01 19:42:27.537 ║ 1     ║ <1%     ║\n",
      "║ 711 ║ 2025-01-01 19:43:32.5   ║ 1     ║ <1%     ║\n",
      "║ 712 ║ 2025-01-01 19:43:35.96  ║ 1     ║ <1%     ║\n",
      "║ 713 ║ 2025-01-01 19:45:27.853 ║ 1     ║ <1%     ║\n",
      "║ 714 ║ 2025-01-01 19:46:22.793 ║ 1     ║ <1%     ║\n",
      "║ 715 ║ 2025-01-01 19:46:36.747 ║ 1     ║ <1%     ║\n",
      "║ 716 ║ 2025-01-01 19:47:42.383 ║ 1     ║ <1%     ║\n",
      "║ 717 ║ 2025-01-01 19:47:47.08  ║ 1     ║ <1%     ║\n",
      "║ 718 ║ 2025-01-01 19:48:44.017 ║ 1     ║ <1%     ║\n",
      "║ 719 ║ 2025-01-01 19:53:20.547 ║ 1     ║ <1%     ║\n",
      "║ 720 ║ 2025-01-01 19:55:56.147 ║ 1     ║ <1%     ║\n",
      "║ 721 ║ 2025-01-01 19:58:21.263 ║ 1     ║ <1%     ║\n",
      "║ 722 ║ 2025-01-01 20:01:36.143 ║ 1     ║ <1%     ║\n",
      "║ 723 ║ 2025-01-01 20:02:29.087 ║ 1     ║ <1%     ║\n",
      "║ 724 ║ 2025-01-01 20:04:35.017 ║ 1     ║ <1%     ║\n",
      "║ 725 ║ 2025-01-01 20:05:15.64  ║ 1     ║ <1%     ║\n",
      "║ 726 ║ 2025-01-01 20:05:27.347 ║ 1     ║ <1%     ║\n",
      "║ 727 ║ 2025-01-01 20:06:32.957 ║ 1     ║ <1%     ║\n",
      "║ 728 ║ 2025-01-01 20:06:33.937 ║ 1     ║ <1%     ║\n",
      "║ 729 ║ 2025-01-01 20:07:36.587 ║ 1     ║ <1%     ║\n",
      "║ 730 ║ 2025-01-01 20:08:34.8   ║ 1     ║ <1%     ║\n",
      "║ 731 ║ 2025-01-01 20:10:28.283 ║ 1     ║ <1%     ║\n",
      "║ 732 ║ 2025-01-01 20:11:06.283 ║ 1     ║ <1%     ║\n",
      "║ 733 ║ 2025-01-01 20:12:17.607 ║ 1     ║ <1%     ║\n",
      "║ 734 ║ 2025-01-01 20:14:55.523 ║ 1     ║ <1%     ║\n",
      "║ 735 ║ 2025-01-01 20:15:58.57  ║ 1     ║ <1%     ║\n",
      "║ 736 ║ 2025-01-01 20:16:19.763 ║ 1     ║ <1%     ║\n",
      "║ 737 ║ 2025-01-01 20:18:09.937 ║ 1     ║ <1%     ║\n",
      "║ 738 ║ 2025-01-01 20:19:24.24  ║ 1     ║ <1%     ║\n",
      "║ 739 ║ 2025-01-01 20:19:53.967 ║ 1     ║ <1%     ║\n",
      "║ 740 ║ 2025-01-01 20:20:12.273 ║ 1     ║ <1%     ║\n",
      "║ 741 ║ 2025-01-01 20:22:01.227 ║ 1     ║ <1%     ║\n",
      "║ 742 ║ 2025-01-01 20:25:38.513 ║ 1     ║ <1%     ║\n",
      "║ 743 ║ 2025-01-01 20:26:08.723 ║ 1     ║ <1%     ║\n",
      "║ 744 ║ 2025-01-01 20:26:24.573 ║ 1     ║ <1%     ║\n",
      "║ 745 ║ 2025-01-01 20:26:24.723 ║ 1     ║ <1%     ║\n",
      "║ 746 ║ 2025-01-01 20:28:00.33  ║ 1     ║ <1%     ║\n",
      "║ 747 ║ 2025-01-01 20:29:39.553 ║ 1     ║ <1%     ║\n",
      "║ 748 ║ 2025-01-01 20:30:07.54  ║ 1     ║ <1%     ║\n",
      "║ 749 ║ 2025-01-01 20:30:15.943 ║ 1     ║ <1%     ║\n",
      "║ 750 ║ 2025-01-01 20:33:13.093 ║ 1     ║ <1%     ║\n",
      "║ 751 ║ 2025-01-01 20:34:04.213 ║ 1     ║ <1%     ║\n",
      "║ 752 ║ 2025-01-01 20:39:34.213 ║ 1     ║ <1%     ║\n",
      "║ 753 ║ 2025-01-01 20:44:49.27  ║ 1     ║ <1%     ║\n",
      "║ 754 ║ 2025-01-01 20:46:28.063 ║ 1     ║ <1%     ║\n",
      "║ 755 ║ 2025-01-01 20:48:50.823 ║ 1     ║ <1%     ║\n",
      "║ 756 ║ 2025-01-01 20:50:45.08  ║ 1     ║ <1%     ║\n",
      "║ 757 ║ 2025-01-01 20:50:59.48  ║ 1     ║ <1%     ║\n",
      "║ 758 ║ 2025-01-01 20:55:12.663 ║ 1     ║ <1%     ║\n",
      "║ 759 ║ 2025-01-01 20:56:48.01  ║ 1     ║ <1%     ║\n",
      "║ 760 ║ 2025-01-01 20:56:52.88  ║ 1     ║ <1%     ║\n",
      "║ 761 ║ 2025-01-01 20:57:01.263 ║ 1     ║ <1%     ║\n",
      "║ 762 ║ 2025-01-01 20:57:08.38  ║ 1     ║ <1%     ║\n",
      "║ 763 ║ 2025-01-01 20:57:44.667 ║ 1     ║ <1%     ║\n",
      "║ 764 ║ 2025-01-01 21:04:15.3   ║ 1     ║ <1%     ║\n",
      "║ 765 ║ 2025-01-01 21:04:59.717 ║ 1     ║ <1%     ║\n",
      "║ 766 ║ 2025-01-01 21:05:30.523 ║ 1     ║ <1%     ║\n",
      "║ 767 ║ 2025-01-01 21:05:40.46  ║ 1     ║ <1%     ║\n",
      "║ 768 ║ 2025-01-01 21:07:26.88  ║ 1     ║ <1%     ║\n",
      "║ 769 ║ 2025-01-01 21:08:04.287 ║ 1     ║ <1%     ║\n",
      "║ 770 ║ 2025-01-01 21:08:33.463 ║ 1     ║ <1%     ║\n",
      "║ 771 ║ 2025-01-01 21:10:20.197 ║ 1     ║ <1%     ║\n",
      "║ 772 ║ 2025-01-01 21:12:46.607 ║ 1     ║ <1%     ║\n",
      "║ 773 ║ 2025-01-01 21:13:55.19  ║ 1     ║ <1%     ║\n",
      "║ 774 ║ 2025-01-01 21:14:31.567 ║ 1     ║ <1%     ║\n",
      "║ 775 ║ 2025-01-01 21:14:45.843 ║ 1     ║ <1%     ║\n",
      "║ 776 ║ 2025-01-01 21:14:55.597 ║ 1     ║ <1%     ║\n",
      "║ 777 ║ 2025-01-01 21:14:57.04  ║ 1     ║ <1%     ║\n",
      "║ 778 ║ 2025-01-01 21:17:18.787 ║ 1     ║ <1%     ║\n",
      "║ 779 ║ 2025-01-01 21:20:16.667 ║ 1     ║ <1%     ║\n",
      "║ 780 ║ 2025-01-01 21:20:44.113 ║ 1     ║ <1%     ║\n",
      "║ 781 ║ 2025-01-01 21:23:16.393 ║ 1     ║ <1%     ║\n",
      "║ 782 ║ 2025-01-01 21:26:19.527 ║ 1     ║ <1%     ║\n",
      "║ 783 ║ 2025-01-01 21:30:04.493 ║ 1     ║ <1%     ║\n",
      "║ 784 ║ 2025-01-01 21:31:34.63  ║ 1     ║ <1%     ║\n",
      "║ 785 ║ 2025-01-01 21:31:47.67  ║ 1     ║ <1%     ║\n",
      "║ 786 ║ 2025-01-01 21:31:49.607 ║ 1     ║ <1%     ║\n",
      "║ 787 ║ 2025-01-01 21:33:37.01  ║ 1     ║ <1%     ║\n",
      "║ 788 ║ 2025-01-01 21:34:20.773 ║ 1     ║ <1%     ║\n",
      "║ 789 ║ 2025-01-01 21:35:41.707 ║ 1     ║ <1%     ║\n",
      "║ 790 ║ 2025-01-01 21:37:16.053 ║ 1     ║ <1%     ║\n",
      "║ 791 ║ 2025-01-01 21:47:08.68  ║ 1     ║ <1%     ║\n",
      "║ 792 ║ 2025-01-01 21:48:45.147 ║ 1     ║ <1%     ║\n",
      "║ 793 ║ 2025-01-01 21:50:16.877 ║ 1     ║ <1%     ║\n",
      "║ 794 ║ 2025-01-01 21:51:22.997 ║ 1     ║ <1%     ║\n",
      "║ 795 ║ 2025-01-01 21:53:07.03  ║ 1     ║ <1%     ║\n",
      "║ 796 ║ 2025-01-01 21:57:08.4   ║ 1     ║ <1%     ║\n",
      "║ 797 ║ 2025-01-01 21:58:56.513 ║ 1     ║ <1%     ║\n",
      "║ 798 ║ 2025-01-01 22:00:28.543 ║ 1     ║ <1%     ║\n",
      "║ 799 ║ 2025-01-01 22:01:05.507 ║ 1     ║ <1%     ║\n",
      "║ 800 ║ 2025-01-01 22:02:08.863 ║ 1     ║ <1%     ║\n",
      "║ 801 ║ 2025-01-01 22:02:29.98  ║ 1     ║ <1%     ║\n",
      "║ 802 ║ 2025-01-01 22:04:28.03  ║ 1     ║ <1%     ║\n",
      "║ 803 ║ 2025-01-01 22:07:39.63  ║ 1     ║ <1%     ║\n",
      "║ 804 ║ 2025-01-01 22:10:12.293 ║ 1     ║ <1%     ║\n",
      "║ 805 ║ 2025-01-01 22:10:54.143 ║ 1     ║ <1%     ║\n",
      "║ 806 ║ 2025-01-01 22:11:22.763 ║ 1     ║ <1%     ║\n",
      "║ 807 ║ 2025-01-01 22:12:22.083 ║ 1     ║ <1%     ║\n",
      "║ 808 ║ 2025-01-01 22:12:26.867 ║ 1     ║ <1%     ║\n",
      "║ 809 ║ 2025-01-01 22:13:17.34  ║ 1     ║ <1%     ║\n",
      "║ 810 ║ 2025-01-01 22:13:34.7   ║ 1     ║ <1%     ║\n",
      "║ 811 ║ 2025-01-01 22:14:50.17  ║ 1     ║ <1%     ║\n",
      "║ 812 ║ 2025-01-01 22:19:16.597 ║ 1     ║ <1%     ║\n",
      "║ 813 ║ 2025-01-01 22:21:34.87  ║ 1     ║ <1%     ║\n",
      "║ 814 ║ 2025-01-01 22:21:45.62  ║ 1     ║ <1%     ║\n",
      "║ 815 ║ 2025-01-01 22:21:47.153 ║ 1     ║ <1%     ║\n",
      "║ 816 ║ 2025-01-01 22:23:09.883 ║ 1     ║ <1%     ║\n",
      "║ 817 ║ 2025-01-01 22:23:16.923 ║ 1     ║ <1%     ║\n",
      "║ 818 ║ 2025-01-01 22:27:21.713 ║ 1     ║ <1%     ║\n",
      "║ 819 ║ 2025-01-01 22:30:54.077 ║ 1     ║ <1%     ║\n",
      "║ 820 ║ 2025-01-01 22:32:00.65  ║ 1     ║ <1%     ║\n",
      "║ 821 ║ 2025-01-01 22:40:09.363 ║ 1     ║ <1%     ║\n",
      "║ 822 ║ 2025-01-01 22:42:28.11  ║ 1     ║ <1%     ║\n",
      "║ 823 ║ 2025-01-01 22:43:24.477 ║ 1     ║ <1%     ║\n",
      "║ 824 ║ 2025-01-01 22:43:38.66  ║ 1     ║ <1%     ║\n",
      "║ 825 ║ 2025-01-01 22:44:36.767 ║ 1     ║ <1%     ║\n",
      "║ 826 ║ 2025-01-01 22:46:46.26  ║ 1     ║ <1%     ║\n",
      "║ 827 ║ 2025-01-01 22:47:42.297 ║ 1     ║ <1%     ║\n",
      "║ 828 ║ 2025-01-01 22:48:32.887 ║ 1     ║ <1%     ║\n",
      "║ 829 ║ 2025-01-01 22:53:01.653 ║ 1     ║ <1%     ║\n",
      "║ 830 ║ 2025-01-01 22:58:49.1   ║ 1     ║ <1%     ║\n",
      "║ 831 ║ 2025-01-01 23:01:23.233 ║ 1     ║ <1%     ║\n",
      "║ 832 ║ 2025-01-01 23:02:00.06  ║ 1     ║ <1%     ║\n",
      "║ 833 ║ 2025-01-01 23:05:46.37  ║ 1     ║ <1%     ║\n",
      "║ 834 ║ 2025-01-01 23:06:02.637 ║ 1     ║ <1%     ║\n",
      "║ 835 ║ 2025-01-01 23:07:30.18  ║ 1     ║ <1%     ║\n",
      "║ 836 ║ 2025-01-01 23:08:15.573 ║ 1     ║ <1%     ║\n",
      "║ 837 ║ 2025-01-01 23:13:19.917 ║ 1     ║ <1%     ║\n",
      "║ 838 ║ 2025-01-01 23:13:22.457 ║ 1     ║ <1%     ║\n",
      "║ 839 ║ 2025-01-01 23:16:49.337 ║ 1     ║ <1%     ║\n",
      "║ 840 ║ 2025-01-01 23:16:50.07  ║ 1     ║ <1%     ║\n",
      "║ 841 ║ 2025-01-01 23:22:33.677 ║ 1     ║ <1%     ║\n",
      "║ 842 ║ 2025-01-01 23:23:41.73  ║ 1     ║ <1%     ║\n",
      "║ 843 ║ 2025-01-01 23:23:52.43  ║ 1     ║ <1%     ║\n",
      "║ 844 ║ 2025-01-01 23:23:59.22  ║ 1     ║ <1%     ║\n",
      "║ 845 ║ 2025-01-01 23:29:34.957 ║ 1     ║ <1%     ║\n",
      "║ 846 ║ 2025-01-01 23:30:30.357 ║ 1     ║ <1%     ║\n",
      "║ 847 ║ 2025-01-01 23:31:57.703 ║ 1     ║ <1%     ║\n",
      "║ 848 ║ 2025-01-01 23:39:18.75  ║ 1     ║ <1%     ║\n",
      "║ 849 ║ 2025-01-01 23:40:53.51  ║ 1     ║ <1%     ║\n",
      "║ 850 ║ 2025-01-01 23:45:33.91  ║ 1     ║ <1%     ║\n",
      "║ 851 ║ 2025-01-01 23:46:12.257 ║ 1     ║ <1%     ║\n",
      "║ 852 ║ 2025-01-01 23:47:13.37  ║ 1     ║ <1%     ║\n",
      "║ 853 ║ 2025-01-01 23:50:00.237 ║ 1     ║ <1%     ║\n",
      "║ 854 ║ 2025-01-01 23:50:19.49  ║ 1     ║ <1%     ║\n",
      "║ 855 ║ 2025-01-01 23:53:03.44  ║ 1     ║ <1%     ║\n",
      "║ 856 ║ 2025-01-01 23:57:59.947 ║ 1     ║ <1%     ║\n",
      "║ 857 ║ 2025-01-01 23:59:22.18  ║ 1     ║ <1%     ║ \n",
      "╚═════╩═════════════════════════╩═══════╩═════════╝ \n"
     ]
    }
   ],
   "source": [
    "# Let's investigate the time_create column \n",
    "cfs |> \n",
    "  count_table(time_create) |> \n",
    "  affiche()"
   ]
  },
  {
   "cell_type": "code",
   "execution_count": 343,
   "metadata": {
    "vscode": {
     "languageId": "r"
    }
   },
   "outputs": [
    {
     "name": "stdout",
     "output_type": "stream",
     "text": [
      "tibble [857 × 4] (S3: tbl_df/tbl/data.frame)\n",
      " $ time_create  : POSIXct[1:857], format: \"2025-01-01 00:01:31\" \"2025-01-01 00:01:54\" ...\n",
      " $ time_dispatch: POSIXct[1:857], format: \"2025-01-01 01:49:00\" \"2025-01-01 03:07:01\" ...\n",
      " $ time_arrive  : POSIXct[1:857], format: NA \"2025-01-01 03:12:25\" ...\n",
      " $ time_closed  : POSIXct[1:857], format: \"2025-01-01 01:57:09\" \"2025-01-01 06:54:17\" ...\n"
     ]
    }
   ],
   "source": [
    "# We can tell that R recognizes our date fields correctly (POSIXct)\n",
    "# But we could re-cast them if they were stored as character strings\n",
    "time_cols <- c(\"time_create\", \"time_dispatch\", \"time_arrive\", \"time_closed\")\n",
    "\n",
    "for (col in time_cols) {\n",
    "  cfs[[col]] <- as.POSIXct(cfs[[col]])\n",
    "}\n",
    "\n",
    "# Now let's select() the date columns and see their datatypes\n",
    "# Note: We'll use a handy argument within select() called all_of()\n",
    "cfs |> select(all_of(time_cols)) |> str()"
   ]
  },
  {
   "cell_type": "code",
   "execution_count": null,
   "metadata": {
    "vscode": {
     "languageId": "r"
    }
   },
   "outputs": [
    {
     "name": "stdout",
     "output_type": "stream",
     "text": [
      "tibble [857 × 21] (S3: tbl_df/tbl/data.frame)\n",
      " $ nopd_item        : chr [1:857] \"A0000125\" \"A0000225\" \"A0000325\" \"A0000425\" ...\n",
      " $ type             : chr [1:857] \"94\" \"20\" \"94f\" \"94f\" ...\n",
      " $ type_text        : chr [1:857] \"Discharging firearm\" \"Auto accident\" \"Fireworks\" \"Fireworks\" ...\n",
      " $ priority         : chr [1:857] \"1\" \"1\" \"2j\" \"2j\" ...\n",
      " $ initial_type     : chr [1:857] \"94\" \"20\" \"103\" \"103\" ...\n",
      " $ initial_type_text: chr [1:857] \"Discharging firearm\" \"Auto accident\" \"Disturbance (other)\" \"Disturbance (other)\" ...\n",
      " $ initial_priority : chr [1:857] \"2c\" \"1e\" \"1c\" \"1c\" ...\n",
      " $ map_x            : num [1:857] 3687148 3680718 3707020 3665351 3664671 ...\n",
      " $ map_y            : num [1:857] 539441 529326 561072 536442 536451 ...\n",
      " $ time_create      : POSIXct[1:857], format: \"2025-01-01 00:01:31\" \"2025-01-01 00:01:54\" ...\n",
      " $ time_dispatch    : POSIXct[1:857], format: \"2025-01-01 01:49:00\" \"2025-01-01 03:07:01\" ...\n",
      " $ time_arrive      : POSIXct[1:857], format: NA \"2025-01-01 03:12:25\" ...\n",
      " $ time_closed      : POSIXct[1:857], format: \"2025-01-01 01:57:09\" \"2025-01-01 06:54:17\" ...\n",
      " $ disposition      : chr [1:857] \"Goa\" \"Goa\" \"Nat\" \"Nat\" ...\n",
      " $ disposition_text : chr [1:857] \"Gone on arrival\" \"Gone on arrival\" \"Necessary action taken\" \"Necessary action taken\" ...\n",
      " $ self_initiated   : chr [1:857] \"N\" \"N\" \"N\" \"N\" ...\n",
      " $ beat             : chr [1:857] \"5g02\" \"8g04\" \"7p03\" \"2s02\" ...\n",
      " $ block_address    : chr [1:857] \"025xx blk n prieur st\" \"St charles av & poydras st\" \"070xx bundy rd\" \"089xx edinburgh st\" ...\n",
      " $ zipcode          : chr [1:857] \"70117\" \"70130\" \"70127\" \"70118\" ...\n",
      " $ police_district  : num [1:857] 5 8 7 2 2 7 3 5 8 7 ...\n",
      " $ location         : chr [1:857] \"Point (-90.04995412 29.97710343)\" \"Point (-90.07061588 29.94948919)\" \"Point (-89.98638954 30.03595457)\" \"Point (-90.11889699 29.96951243)\" ...\n"
     ]
    }
   ],
   "source": [
    "# Let's go back to our columns\n",
    "# And all of our datatypes look pretty good\n",
    "str(cfs)"
   ]
  },
  {
   "cell_type": "markdown",
   "metadata": {},
   "source": [
    "#### 5. Replacing missing values"
   ]
  },
  {
   "cell_type": "markdown",
   "metadata": {},
   "source": [
    "##### A. Replacing 0s"
   ]
  },
  {
   "cell_type": "code",
   "execution_count": 87,
   "metadata": {
    "vscode": {
     "languageId": "r"
    }
   },
   "outputs": [
    {
     "name": "stdout",
     "output_type": "stream",
     "text": [
      "╔════╦═════════════════╦═══════╦═════════╗ \n",
      "║ X. ║ police_district ║ count ║ percent ║ \n",
      "╠════╬═════════════════╬═══════╬═════════╣ \n",
      "║ 1  ║ 8               ║ 193   ║ 23%     ║\n",
      "║ 2  ║ 3               ║ 137   ║ 16%     ║\n",
      "║ 3  ║ 7               ║ 119   ║ 14%     ║\n",
      "║ 4  ║ 1               ║ 101   ║ 12%     ║\n",
      "║ 5  ║ 6               ║ 89    ║ 10%     ║\n",
      "║ 6  ║ 2               ║ 79    ║ 9%      ║\n",
      "║ 7  ║ 5               ║ 76    ║ 9%      ║\n",
      "║ 8  ║ 4               ║ 55    ║ 6%      ║\n",
      "║ 9  ║ 0               ║ 8     ║ 1%      ║ \n",
      "╚════╩═════════════════╩═══════╩═════════╝ \n"
     ]
    }
   ],
   "source": [
    "# With some digging, we can find that some columns have 0s \n",
    "# They're map_x, map_y, and police_district '\n",
    "# Here's police district \n",
    "cfs |> \n",
    "  count_table(police_district) |> \n",
    "  affiche()"
   ]
  },
  {
   "cell_type": "code",
   "execution_count": 88,
   "metadata": {
    "vscode": {
     "languageId": "r"
    }
   },
   "outputs": [
    {
     "name": "stdout",
     "output_type": "stream",
     "text": [
      "╔════╦═════════════════╦═══════╦═════════╗ \n",
      "║ X. ║ police_district ║ count ║ percent ║ \n",
      "╠════╬═════════════════╬═══════╬═════════╣ \n",
      "║ 1  ║ 8               ║ 193   ║ 23%     ║\n",
      "║ 2  ║ 3               ║ 137   ║ 16%     ║\n",
      "║ 3  ║ 7               ║ 119   ║ 14%     ║\n",
      "║ 4  ║ 1               ║ 101   ║ 12%     ║\n",
      "║ 5  ║ 6               ║ 89    ║ 10%     ║\n",
      "║ 6  ║ 2               ║ 79    ║ 9%      ║\n",
      "║ 7  ║ 5               ║ 76    ║ 9%      ║\n",
      "║ 8  ║ 4               ║ 55    ║ 6%      ║\n",
      "║ 9  ║ \u001b[91;3mNA\u001b[0m              ║ 8     ║ 1%      ║ \n",
      "╚════╩═════════════════╩═══════╩═════════╝ \n"
     ]
    }
   ],
   "source": [
    "# Replace 0s in map_x, map_y, and police_district \n",
    "zero_cols <- c(\"map_x\", \"map_y\", \"police_district\")\n",
    "\n",
    "# In R, we'll use a handy function from {naniar}\n",
    "cfs <- cfs %>% \n",
    "  naniar::replace_with_na_at(.vars = zero_cols, ~.x == 0)\n",
    "\n",
    "# Now, let's see what police districts look like\n",
    "cfs |> \n",
    "  count_table(police_district) |> \n",
    "  affiche()"
   ]
  },
  {
   "cell_type": "markdown",
   "metadata": {},
   "source": [
    "##### B. Replacing Nones"
   ]
  },
  {
   "cell_type": "code",
   "execution_count": 90,
   "metadata": {
    "vscode": {
     "languageId": "r"
    }
   },
   "outputs": [
    {
     "name": "stdout",
     "output_type": "stream",
     "text": [
      "╔════╦══════╦═══════╦═════════╗ \n",
      "║ X. ║ beat ║ count ║ percent ║ \n",
      "╠════╬══════╬═══════╬═════════╣ \n",
      "║ 1  ║ None ║ 9     ║ 1%      ║ \n",
      "╚════╩══════╩═══════╩═════════╝ \n"
     ]
    }
   ],
   "source": [
    "# After more digging, you'll find that both beat also has some \"None\" values\n",
    "cfs |> count_table(beat) |> \n",
    "  filter(beat == \"None\") |> \n",
    "  affiche()"
   ]
  },
  {
   "cell_type": "code",
   "execution_count": 91,
   "metadata": {
    "vscode": {
     "languageId": "r"
    }
   },
   "outputs": [
    {
     "name": "stdout",
     "output_type": "stream",
     "text": [
      "╔════╦══════╦═══════╦═════════╗ \n",
      "║ X. ║ beat ║ count ║ percent ║ \n",
      "╠════╬══════╬═══════╬═════════╣ \n",
      "║ 1  ║ \u001b[91;3mNA\u001b[0m   ║ 9     ║ 1%      ║ \n",
      "╚════╩══════╩═══════╩═════════╝ \n"
     ]
    }
   ],
   "source": [
    "# We can use the same approach we used with replacing 0s\n",
    "cfs <- cfs %>% \n",
    "  naniar::replace_with_na_at(.vars = \"beat\", ~.x == \"None\")\n",
    "\n",
    "# Now let's see if they were succesfully transormed to NAs\n",
    "cfs |> count_table(beat) |> \n",
    "  filter(is.na(beat)) |> \n",
    "  affiche()"
   ]
  },
  {
   "cell_type": "code",
   "execution_count": 92,
   "metadata": {
    "vscode": {
     "languageId": "r"
    }
   },
   "outputs": [
    {
     "name": "stdout",
     "output_type": "stream",
     "text": [
      "╔════╦═══════════════════╦══════════╦════════════╗ \n",
      "║ X. ║ col               ║ na_count ║ na_percent ║ \n",
      "╠════╬═══════════════════╬══════════╬════════════╣ \n",
      "║ 1  ║ time_dispatch     ║ 473      ║ 55%        ║\n",
      "║ 2  ║ time_arrive       ║ 240      ║ 28%        ║\n",
      "║ 3  ║ zip_code          ║ 18       ║ 2%         ║\n",
      "║ 4  ║ beat              ║ 9        ║ 1%         ║\n",
      "║ 5  ║ map_x             ║ 8        ║ <1%        ║\n",
      "║ 6  ║ map_y             ║ 8        ║ <1%        ║\n",
      "║ 7  ║ police_district   ║ 8        ║ <1%        ║\n",
      "║ 8  ║ nopd_item         ║ 0        ║ 0%         ║\n",
      "║ 9  ║ type              ║ 0        ║ 0%         ║\n",
      "║ 10 ║ type_text         ║ 0        ║ 0%         ║\n",
      "║ 11 ║ priority          ║ 0        ║ 0%         ║\n",
      "║ 12 ║ initial_type      ║ 0        ║ 0%         ║\n",
      "║ 13 ║ initial_type_text ║ 0        ║ 0%         ║\n",
      "║ 14 ║ initial_priority  ║ 0        ║ 0%         ║\n",
      "║ 15 ║ time_create       ║ 0        ║ 0%         ║\n",
      "║ 16 ║ time_closed       ║ 0        ║ 0%         ║\n",
      "║ 17 ║ disposition       ║ 0        ║ 0%         ║\n",
      "║ 18 ║ disposition_text  ║ 0        ║ 0%         ║\n",
      "║ 19 ║ self_initiated    ║ 0        ║ 0%         ║\n",
      "║ 20 ║ block_address     ║ 0        ║ 0%         ║\n",
      "║ 21 ║ location          ║ 0        ║ 0%         ║ \n",
      "╚════╩═══════════════════╩══════════╩════════════╝ \n"
     ]
    }
   ],
   "source": [
    "# Now we can look at our missing values by column:\n",
    "cfs |> count_na() |> affiche()"
   ]
  },
  {
   "cell_type": "markdown",
   "metadata": {},
   "source": [
    "#### 6. Using regex to update a column"
   ]
  },
  {
   "cell_type": "code",
   "execution_count": null,
   "metadata": {
    "vscode": {
     "languageId": "r"
    }
   },
   "outputs": [
    {
     "name": "stdout",
     "output_type": "stream",
     "text": [
      "╔════╦══════════╦════════╗ \n",
      "║ X. ║ beat     ║ beat_2 ║ \n",
      "╠════╬══════════╬════════╣ \n",
      "║ 1  ║ 1.00e+03 ║ 1e03   ║\n",
      "║ 2  ║ 5.00e+01 ║ 5e01   ║\n",
      "║ 3  ║ 8.00e+05 ║ 8e05   ║\n",
      "║ 4  ║ 3.00e+02 ║ 3e02   ║\n",
      "║ 5  ║ 4.00e+03 ║ 4e03   ║\n",
      "║ 6  ║ 8.00e+03 ║ 8e03   ║\n",
      "║ 7  ║ 6.00e+02 ║ 6e02   ║\n",
      "║ 8  ║ 8.00e+02 ║ 8e02   ║\n",
      "║ 9  ║ 6.00e+01 ║ 6e01   ║\n",
      "║ 10 ║ 2.00e+02 ║ 2e02   ║\n",
      "║ 11 ║ 1.00e+01 ║ 1e01   ║\n",
      "║ 12 ║ 5.00e+04 ║ 5e04   ║\n",
      "║ 13 ║ 8.00e+04 ║ 8e04   ║\n",
      "║ 14 ║ 1.00e+04 ║ 1e04   ║\n",
      "║ 15 ║ 7.00e+01 ║ 7e01   ║\n",
      "║ 16 ║ 8.00e+01 ║ 8e01   ║\n",
      "║ 17 ║ 3.00e+01 ║ 3e01   ║\n",
      "║ 18 ║ 5.00e+02 ║ 5e02   ║\n",
      "║ 19 ║ 6.00e+04 ║ 6e04   ║\n",
      "║ 20 ║ 4.00e+04 ║ 4e04   ║\n",
      "║ 21 ║ 2.00e+01 ║ 2e01   ║\n",
      "║ 22 ║ 5.00e+03 ║ 5e03   ║ \n",
      "╚════╩══════════╩════════╝ \n"
     ]
    }
   ],
   "source": [
    "# Next, let's take a look at other unexpected beat values\n",
    "# We're looking for strings that don't follow the conventional pattern of ...\n",
    "# ... 1 digit followed by 1 letter, then 2 more digits (eg 1b01)\n",
    "# This is a common issue resulting from programs like Excel auto-parsing certain fields\n",
    "# Basically, we want 1.00e+03 to become 1e03, etc \n",
    "# We'll create a new column with an if_else() requiring a condition and arguments for true or false\n",
    "cfs <- cfs |> mutate(\n",
    "  beat_2 = if_else(\n",
    "    condition = !grepl(\"\\\\d{1}[a-z]\\\\d{2}\", beat) & !is.na(beat),\n",
    "    true = str_replace(beat, \n",
    "                       pattern = \"(\\\\d{1})\\\\.00(e)\\\\+(\\\\d{2})\", \n",
    "                       replacement = \"\\\\1\\\\2\\\\3\"),\n",
    "    false = beat \n",
    "    )\n",
    "  ) \n",
    "\n",
    "cfs |> \n",
    "  filter(!grepl(\"\\\\d{1}[a-z]\\\\d{2}\", beat) & !is.na(beat)) |> \n",
    "  distinct(beat, beat_2) |> \n",
    "  affiche()"
   ]
  },
  {
   "cell_type": "code",
   "execution_count": 351,
   "metadata": {
    "vscode": {
     "languageId": "r"
    }
   },
   "outputs": [
    {
     "name": "stdout",
     "output_type": "stream",
     "text": [
      "╔════╦══════╦═══════╦═════════╗ \n",
      "║ X. ║ beat ║ count ║ percent ║ \n",
      "╠════╬══════╬═══════╬═════════╣ \n",
      "║ 1  ║ 1e01 ║ 9     ║ 1%      ║\n",
      "║ 2  ║ 8e05 ║ 9     ║ 1%      ║\n",
      "║ 3  ║ 1e03 ║ 8     ║ 1%      ║\n",
      "║ 4  ║ 3e02 ║ 6     ║ 1%      ║\n",
      "║ 5  ║ 4e04 ║ 6     ║ 1%      ║\n",
      "║ 6  ║ 5e01 ║ 5     ║ 1%      ║\n",
      "║ 7  ║ 8e02 ║ 5     ║ 1%      ║\n",
      "║ 8  ║ 8e03 ║ 5     ║ 1%      ║\n",
      "║ 9  ║ 2e02 ║ 4     ║ <1%     ║\n",
      "║ 10 ║ 8e01 ║ 4     ║ <1%     ║\n",
      "║ 11 ║ 7e01 ║ 3     ║ <1%     ║\n",
      "║ 12 ║ 8e04 ║ 3     ║ <1%     ║\n",
      "║ 13 ║ 1e04 ║ 2     ║ <1%     ║\n",
      "║ 14 ║ 4e03 ║ 2     ║ <1%     ║\n",
      "║ 15 ║ 5e02 ║ 2     ║ <1%     ║\n",
      "║ 16 ║ 5e03 ║ 2     ║ <1%     ║\n",
      "║ 17 ║ 5e04 ║ 2     ║ <1%     ║\n",
      "║ 18 ║ 6e01 ║ 2     ║ <1%     ║\n",
      "║ 19 ║ 6e02 ║ 2     ║ <1%     ║\n",
      "║ 20 ║ 6e04 ║ 2     ║ <1%     ║\n",
      "║ 21 ║ 2e01 ║ 1     ║ <1%     ║\n",
      "║ 22 ║ 3e01 ║ 1     ║ <1%     ║ \n",
      "╚════╩══════╩═══════╩═════════╝ \n"
     ]
    }
   ],
   "source": [
    "# Now we can update beat with our beat_2 column\n",
    "cfs$beat <- cfs$beat_2\n",
    "\n",
    "# Then drop the beat_2 column\n",
    "cfs$beat_2 <- NULL\n",
    "\n",
    "# And look at the new beat values that were updated\n",
    "cfs |> \n",
    "  count_table(beat) |> \n",
    "  filter(grepl(\"e\", beat)) |> \n",
    "  affiche()"
   ]
  },
  {
   "cell_type": "markdown",
   "metadata": {},
   "source": [
    "#### 7. Creating booleans"
   ]
  },
  {
   "cell_type": "code",
   "execution_count": 93,
   "metadata": {
    "vscode": {
     "languageId": "r"
    }
   },
   "outputs": [
    {
     "name": "stdout",
     "output_type": "stream",
     "text": [
      "╔════╦════════════════╦═══════╦═════════╗ \n",
      "║ X. ║ self_initiated ║ count ║ percent ║ \n",
      "╠════╬════════════════╬═══════╬═════════╣ \n",
      "║ 1  ║ N              ║ 646   ║ 75%     ║\n",
      "║ 2  ║ Y              ║ 211   ║ 25%     ║ \n",
      "╚════╩════════════════╩═══════╩═════════╝ \n"
     ]
    }
   ],
   "source": [
    "# It looks like self-initiated uses a Y / N system \n",
    "cfs |> \n",
    "  count_table(self_initiated) |> \n",
    "  affiche()"
   ]
  },
  {
   "cell_type": "code",
   "execution_count": 94,
   "metadata": {
    "vscode": {
     "languageId": "r"
    }
   },
   "outputs": [],
   "source": [
    "# So we're going to make it a boolean instead with another if_else()\n",
    "cfs <- cfs |> mutate(self_initiated = if_else(\n",
    "  condition = self_initiated == \"Y\",\n",
    "  true = TRUE,\n",
    "  false = FALSE)\n",
    ")"
   ]
  },
  {
   "cell_type": "code",
   "execution_count": 96,
   "metadata": {
    "vscode": {
     "languageId": "r"
    }
   },
   "outputs": [
    {
     "name": "stdout",
     "output_type": "stream",
     "text": [
      " logi [1:857] FALSE FALSE FALSE FALSE FALSE FALSE ...\n",
      "╔════╦════════════════╦═══════╦═════════╗ \n",
      "║ X. ║ self_initiated ║ count ║ percent ║ \n",
      "╠════╬════════════════╬═══════╬═════════╣ \n",
      "║ 1  ║ FALSE          ║ 646   ║ 75%     ║\n",
      "║ 2  ║ TRUE           ║ 211   ║ 25%     ║ \n",
      "╚════╩════════════════╩═══════╩═════════╝ \n"
     ]
    }
   ],
   "source": [
    "# Let's see how that turned out\n",
    "str(cfs$self_initiated)\n",
    "\n",
    "cfs |> \n",
    "  count_table(self_initiated) |> \n",
    "  affiche()"
   ]
  },
  {
   "cell_type": "markdown",
   "metadata": {},
   "source": [
    "#### 8. Extracting coordinate info"
   ]
  },
  {
   "cell_type": "code",
   "execution_count": 97,
   "metadata": {
    "vscode": {
     "languageId": "r"
    }
   },
   "outputs": [
    {
     "name": "stdout",
     "output_type": "stream",
     "text": [
      " chr [1:857] \"Point (-90.04995412 29.97710343)\" ...\n"
     ]
    },
    {
     "name": "stdout",
     "output_type": "stream",
     "text": [
      "╔════╦══════════════════════════════════╗ \n",
      "║ X. ║ location                         ║ \n",
      "╠════╬══════════════════════════════════╣ \n",
      "║ 1  ║ Point (-90.04995412 29.97710343) ║\n",
      "║ 2  ║ Point (-90.07061588 29.94948919) ║\n",
      "║ 3  ║ Point (-89.98638954 30.03595457) ║\n",
      "║ 4  ║ Point (-90.11889699 29.96951243) ║\n",
      "║ 5  ║ Point (-90.12104322 29.96955652) ║ \n",
      "╚════╩══════════════════════════════════╝ \n"
     ]
    }
   ],
   "source": [
    "# Let's take a look at the location field\n",
    "str(cfs$location)\n",
    "\n",
    "cfs |> select(location) |> head(5) |> affiche()"
   ]
  },
  {
   "cell_type": "code",
   "execution_count": 98,
   "metadata": {
    "vscode": {
     "languageId": "r"
    }
   },
   "outputs": [
    {
     "name": "stdout",
     "output_type": "stream",
     "text": [
      "╔════╦══════════════╗ \n",
      "║ X. ║ longitude    ║ \n",
      "╠════╬══════════════╣ \n",
      "║ 1  ║ -90.04995412 ║\n",
      "║ 2  ║ -90.07061588 ║\n",
      "║ 3  ║ -89.98638954 ║\n",
      "║ 4  ║ -90.11889699 ║\n",
      "║ 5  ║ -90.12104322 ║ \n",
      "╚════╩══════════════╝ \n"
     ]
    }
   ],
   "source": [
    "# Let's extract the longitude field from the location column\n",
    "# And coerce as numeric type\n",
    "\n",
    "# Key: \\\\- is a double-escaped search for a hyphen \n",
    "# \\\\d{2} is a double-escaped search for two digits\n",
    "# \\\\. is a double-escaped search for a decimal\n",
    "# and \\\\d{4,} is a double-escaped search for four or more digits\n",
    "longitude_pattern <- \"(\\\\-\\\\d{2}\\\\.\\\\d{4,})\"\n",
    "cfs$longitude <- cfs$location |> str_extract(longitude_pattern) |> as.numeric()\n",
    "\n",
    "cfs |> select(longitude) |> head(5) |> affiche()"
   ]
  },
  {
   "cell_type": "code",
   "execution_count": 99,
   "metadata": {
    "vscode": {
     "languageId": "r"
    }
   },
   "outputs": [
    {
     "name": "stdout",
     "output_type": "stream",
     "text": [
      "╔════╦═════════════╗ \n",
      "║ X. ║ latitude    ║ \n",
      "╠════╬═════════════╣ \n",
      "║ 1  ║ 29.97710343 ║\n",
      "║ 2  ║ 29.94948919 ║\n",
      "║ 3  ║ 30.03595457 ║\n",
      "║ 4  ║ 29.96951243 ║\n",
      "║ 5  ║ 29.96955652 ║ \n",
      "╚════╩═════════════╝ \n"
     ]
    }
   ],
   "source": [
    "# Let's extract the latitude field from the location column\n",
    "# And coerce as numeric type\n",
    "\n",
    "# Key: \\\\s is a double-escaped search for a whitespace\n",
    "# \\\\d{2} is a double-escaped search for two digits\n",
    "# \\\\. is a double-escaped search for a decimla\n",
    "# and \\\\d{4,} is a double-escaped search for four or more digits\n",
    "latitude_pattern <- \"\\\\s(\\\\d{2}\\\\.\\\\d{4,})\"\n",
    "cfs$latitude <- cfs$location |> str_extract(latitude_pattern) |> as.numeric()\n",
    "\n",
    "cfs |> select(latitude) |> head(5) |> affiche()"
   ]
  },
  {
   "cell_type": "markdown",
   "metadata": {},
   "source": [
    "#### 9. Geocoding missing location data"
   ]
  },
  {
   "cell_type": "code",
   "execution_count": 100,
   "metadata": {
    "vscode": {
     "languageId": "r"
    }
   },
   "outputs": [
    {
     "name": "stderr",
     "output_type": "stream",
     "text": [
      "Loading required package: glue\n",
      "\n"
     ]
    },
    {
     "name": "stdout",
     "output_type": "stream",
     "text": [
      "╔════╦═══════════════════════════╦══════════╦═════════════╦═══════════╦══════════╗ \n",
      "║ X. ║ block_address             ║ zip_code ║ location    ║ longitude ║ latitude ║ \n",
      "╠════╬═══════════════════════════╬══════════╬═════════════╬═══════════╬══════════╣ \n",
      "║ 1  ║ St peter st & dauphine st ║ 70112    ║ Point (0 0) ║ \u001b[91;3mNA\u001b[0m        ║ \u001b[91;3mNA\u001b[0m       ║\n",
      "║ 2  ║ 023xx blk nashville av    ║ 70115    ║ Point (0 0) ║ \u001b[91;3mNA\u001b[0m        ║ \u001b[91;3mNA\u001b[0m       ║\n",
      "║ 3  ║ 020xx tupelo st           ║ 70117    ║ Point (0 0) ║ \u001b[91;3mNA\u001b[0m        ║ \u001b[91;3mNA\u001b[0m       ║\n",
      "║ 4  ║ 038xx general pershing st ║ 70125    ║ Point (0 0) ║ \u001b[91;3mNA\u001b[0m        ║ \u001b[91;3mNA\u001b[0m       ║\n",
      "║ 5  ║ 054xx eads st             ║ 70122    ║ Point (0 0) ║ \u001b[91;3mNA\u001b[0m        ║ \u001b[91;3mNA\u001b[0m       ║\n",
      "║ 6  ║ 6th st & prytania st      ║ 70115    ║ Point (0 0) ║ \u001b[91;3mNA\u001b[0m        ║ \u001b[91;3mNA\u001b[0m       ║\n",
      "║ 7  ║ 030xx oliver white av     ║ 70126    ║ Point (0 0) ║ \u001b[91;3mNA\u001b[0m        ║ \u001b[91;3mNA\u001b[0m       ║\n",
      "║ 8  ║ 008xx blk conti st        ║ 70112    ║ Point (0 0) ║ \u001b[91;3mNA\u001b[0m        ║ \u001b[91;3mNA\u001b[0m       ║\n",
      "║ 9  ║ 008xx conti st            ║ 70112    ║ Point (0 0) ║ \u001b[91;3mNA\u001b[0m        ║ \u001b[91;3mNA\u001b[0m       ║\n",
      "║ 10 ║ 003xx andrew higgins blvd ║ 70130    ║ Point (0 0) ║ \u001b[91;3mNA\u001b[0m        ║ \u001b[91;3mNA\u001b[0m       ║ \n",
      "╚════╩═══════════════════════════╩══════════╩═════════════╩═══════════╩══════════╝ \n",
      "Number of missing location fields: 47\n"
     ]
    }
   ],
   "source": [
    "# We'll load {glue} in R for handy string interpolation\n",
    "if (!require(glue)) install.packages(\"glue\")\n",
    "\n",
    "# Identify cases with missing location data\n",
    "missing <- cfs |> \n",
    "  filter(is.na(longitude) & is.na(latitude)) |> \n",
    "  filter(!is.na(block_address)) \n",
    "  \n",
    "missing |> \n",
    "  select(block_address, zip_code, location:latitude) |> \n",
    "  head(10) |> \n",
    "  affiche()\n",
    "\n",
    "print(glue(\"Number of missing location fields: {nrow(missing)}\"))"
   ]
  },
  {
   "cell_type": "code",
   "execution_count": 359,
   "metadata": {
    "vscode": {
     "languageId": "r"
    }
   },
   "outputs": [
    {
     "name": "stdout",
     "output_type": "stream",
     "text": [
      "╔════╦═══════════════════════════╦═══════════════════════════════════════════════╗ \n",
      "║ X. ║ block_address             ║ address                                       ║ \n",
      "╠════╬═══════════════════════════╬═══════════════════════════════════════════════╣ \n",
      "║ 1  ║ St peter st & dauphine st ║ St peter st & dauphine st Louisiana, LA 70112 ║\n",
      "║ 2  ║ 023xx blk nashville av    ║ 023xx blk nashville av Louisiana, LA 70115    ║\n",
      "║ 3  ║ 020xx tupelo st           ║ 020xx tupelo st Louisiana, LA 70117           ║\n",
      "║ 4  ║ 038xx general pershing st ║ 038xx general pershing st Louisiana, LA 70125 ║\n",
      "║ 5  ║ 054xx eads st             ║ 054xx eads st Louisiana, LA 70122             ║\n",
      "║ 6  ║ 6th st & prytania st      ║ 6th st & prytania st Louisiana, LA 70115      ║\n",
      "║ 7  ║ 030xx oliver white av     ║ 030xx oliver white av Louisiana, LA 70126     ║\n",
      "║ 8  ║ 008xx blk conti st        ║ 008xx blk conti st Louisiana, LA 70112        ║\n",
      "║ 9  ║ 008xx conti st            ║ 008xx conti st Louisiana, LA 70112            ║\n",
      "║ 10 ║ 003xx andrew higgins blvd ║ 003xx andrew higgins blvd Louisiana, LA 70130 ║ \n",
      "╚════╩═══════════════════════════╩═══════════════════════════════════════════════╝ \n"
     ]
    },
    {
     "name": "stderr",
     "output_type": "stream",
     "text": [
      "Passing 47 addresses to the ArcGIS single address geocoder\n",
      "\n",
      "Query completed in: 25.4 seconds\n",
      "\n",
      "\u001b[1m\u001b[22mNew names:\n",
      "\u001b[36m•\u001b[39m `longitude` -> `longitude...22`\n",
      "\u001b[36m•\u001b[39m `latitude` -> `latitude...23`\n",
      "\u001b[36m•\u001b[39m `latitude` -> `latitude...25`\n",
      "\u001b[36m•\u001b[39m `longitude` -> `longitude...26`\n"
     ]
    }
   ],
   "source": [
    "# Load the {tidygeocoder} package\n",
    "if (!require(tidygeocoder)) install.packages(\"tidygeocoder\")\n",
    "\n",
    "# Let's fill out an address field\n",
    "missing$address <- paste(missing$block_address, \"Louisiana, LA\", missing$zipcode)\n",
    "\n",
    "missing |> \n",
    "  select(block_address, address) |> \n",
    "  head(10) |> \n",
    "  affiche()\n",
    "\n",
    "missing <- missing |> \n",
    "  tidygeocoder::geocode(address = address,\n",
    "                        method = \"arcgis\",\n",
    "                        lat = latitude,\n",
    "                        long = longitude)"
   ]
  },
  {
   "cell_type": "code",
   "execution_count": 360,
   "metadata": {
    "vscode": {
     "languageId": "r"
    }
   },
   "outputs": [
    {
     "name": "stdout",
     "output_type": "stream",
     "text": [
      "╔════╦═══════════════════════════════════════════════╦═════════════════╦══════════════════╗ \n",
      "║ X. ║ address                                       ║ latitude        ║ longitude        ║ \n",
      "╠════╬═══════════════════════════════════════════════╬═════════════════╬══════════════════╣ \n",
      "║ 1  ║ St peter st & dauphine st Louisiana, LA 70112 ║ 29.959194702077 ║ -90.066575319537 ║\n",
      "║ 2  ║ 023xx blk nashville av Louisiana, LA 70115    ║ 29.915627025434 ║ -90.120427976315 ║\n",
      "║ 3  ║ 020xx tupelo st Louisiana, LA 70117           ║ 29.964454291919 ║ -90.009001358431 ║\n",
      "║ 4  ║ 038xx general pershing st Louisiana, LA 70125 ║ 29.9469359129   ║ -90.102865350646 ║\n",
      "║ 5  ║ 054xx eads st Louisiana, LA 70122             ║ 30.0196796979   ║ -90.050490621894 ║\n",
      "║ 6  ║ 6th st & prytania st Louisiana, LA 70115      ║ 29.928962979433 ║ -90.086461971554 ║\n",
      "║ 7  ║ 030xx oliver white av Louisiana, LA 70126     ║ 29.988962780925 ║ -90.033823766913 ║\n",
      "║ 8  ║ 008xx blk conti st Louisiana, LA 70112        ║ 29.960412264014 ║ -90.073835833945 ║\n",
      "║ 9  ║ 008xx conti st Louisiana, LA 70112            ║ 29.960412264014 ║ -90.073835833945 ║\n",
      "║ 10 ║ 003xx andrew higgins blvd Louisiana, LA 70130 ║ 29.942373943852 ║ -90.068251147444 ║ \n",
      "╚════╩═══════════════════════════════════════════════╩═════════════════╩══════════════════╝ \n"
     ]
    }
   ],
   "source": [
    "# First let's fix the new latitude and longitude columns\n",
    "# Since R renamed all four of our columns, we'll just use the new columns\n",
    "missing <- missing |> \n",
    "  rename(latitude = latitude...25,\n",
    "         longitude = longitude...26)\n",
    "\n",
    "# Now let's look at the geocoded addresses\n",
    "missing |> \n",
    "  select(address:longitude) |> \n",
    "  head(10) |> \n",
    "  affiche()           "
   ]
  },
  {
   "cell_type": "code",
   "execution_count": 361,
   "metadata": {
    "vscode": {
     "languageId": "r"
    }
   },
   "outputs": [
    {
     "name": "stdout",
     "output_type": "stream",
     "text": [
      "╔═══════════════════════════╗\n",
      "║ That table doesn't exist! ║\n",
      "╚═══════════════════════════╝\n"
     ]
    }
   ],
   "source": [
    "# Let's double-check if there are any missing coordinates\n",
    "missing |> \n",
    "  filter(is.na(latitude) | is.na(longitude)) |> \n",
    "  head(10) |> \n",
    "  affiche()"
   ]
  },
  {
   "cell_type": "code",
   "execution_count": null,
   "metadata": {
    "vscode": {
     "languageId": "r"
    }
   },
   "outputs": [
    {
     "name": "stdout",
     "output_type": "stream",
     "text": [
      "tibble [857 × 23] (S3: tbl_df/tbl/data.frame)\n",
      " $ nopd_item        : chr [1:857] \"A0000125\" \"A0000225\" \"A0000325\" \"A0000425\" ...\n",
      " $ type             : chr [1:857] \"94\" \"20\" \"94f\" \"94f\" ...\n",
      " $ type_text        : chr [1:857] \"Discharging firearm\" \"Auto accident\" \"Fireworks\" \"Fireworks\" ...\n",
      " $ priority         : chr [1:857] \"1\" \"1\" \"2j\" \"2j\" ...\n",
      " $ initial_type     : chr [1:857] \"94\" \"20\" \"103\" \"103\" ...\n",
      " $ initial_type_text: chr [1:857] \"Discharging firearm\" \"Auto accident\" \"Disturbance (other)\" \"Disturbance (other)\" ...\n",
      " $ initial_priority : chr [1:857] \"2c\" \"1e\" \"1c\" \"1c\" ...\n",
      " $ map_x            : num [1:857] 3687148 3680718 3707020 3665351 3664671 ...\n",
      " $ map_y            : num [1:857] 539441 529326 561072 536442 536451 ...\n",
      " $ time_create      : POSIXct[1:857], format: \"2025-01-01 00:01:31\" \"2025-01-01 00:01:54\" ...\n",
      " $ time_dispatch    : POSIXct[1:857], format: \"2025-01-01 01:49:00\" \"2025-01-01 03:07:01\" ...\n",
      " $ time_arrive      : POSIXct[1:857], format: NA \"2025-01-01 03:12:25\" ...\n",
      " $ time_closed      : POSIXct[1:857], format: \"2025-01-01 01:57:09\" \"2025-01-01 06:54:17\" ...\n",
      " $ disposition      : chr [1:857] \"Goa\" \"Goa\" \"Nat\" \"Nat\" ...\n",
      " $ disposition_text : chr [1:857] \"Gone on arrival\" \"Gone on arrival\" \"Necessary action taken\" \"Necessary action taken\" ...\n",
      " $ self_initiated   : logi [1:857] FALSE FALSE FALSE FALSE FALSE FALSE ...\n",
      " $ beat             : chr [1:857] \"5g02\" \"8g04\" \"7p03\" \"2s02\" ...\n",
      " $ block_address    : chr [1:857] \"025xx blk n prieur st\" \"St charles av & poydras st\" \"070xx bundy rd\" \"089xx edinburgh st\" ...\n",
      " $ zipcode          : chr [1:857] \"70117\" \"70130\" \"70127\" \"70118\" ...\n",
      " $ police_district  : num [1:857] 5 8 7 2 2 7 3 5 8 7 ...\n",
      " $ location         : chr [1:857] \"Point (-90.04995412 29.97710343)\" \"Point (-90.07061588 29.94948919)\" \"Point (-89.98638954 30.03595457)\" \"Point (-90.11889699 29.96951243)\" ...\n",
      " $ longitude        : num [1:857] -90 -90.1 -90 -90.1 -90.1 ...\n",
      " $ latitude         : num [1:857] 30 29.9 30 30 30 ...\n"
     ]
    }
   ],
   "source": [
    "# Now let's join them back to the original cfs table\n",
    "cfs <- cfs %>% \n",
    "  left_join(missing |> select(block_address, \n",
    "                              latitude, \n",
    "                              longitude), \n",
    "            by = \"block_address\")\n",
    "\n",
    "# We'll update the original longitude and latitude values with the new ones via coalesce(), ...\n",
    "# ... drop the extra columns, and rename the original columns\n",
    "cfs <- cfs |> \n",
    "  mutate(longitude.x = coalesce(longitude.x, longitude.y),\n",
    "         latitude.x = coalesce(latitude.x, latitude.y)) |> \n",
    "  select(-c(longitude.y, latitude.y)) |> \n",
    "  rename(longitude = longitude.x, \n",
    "         latitude = latitude.x)\n",
    "\n",
    "str(cfs)"
   ]
  },
  {
   "cell_type": "markdown",
   "metadata": {},
   "source": [
    "#### 10. Calculating response time"
   ]
  },
  {
   "cell_type": "code",
   "execution_count": null,
   "metadata": {
    "vscode": {
     "languageId": "r"
    }
   },
   "outputs": [
    {
     "name": "stdout",
     "output_type": "stream",
     "text": [
      "╔════╦═════════════════════════╦══════╦═════════════╦═════════════════════════╦═════════════════════════╦═══════════════╗ \n",
      "║ X. ║ time_create             ║ hour ║ time_period ║ time_dispatch           ║ time_arrive             ║ response_time ║ \n",
      "╠════╬═════════════════════════╬══════╬═════════════╬═════════════════════════╬═════════════════════════╬═══════════════╣ \n",
      "║ 1  ║ 2025-01-01 03:30:45.437 ║ 3    ║ Night       ║ 2025-01-02 08:39:32.507 ║ 2025-01-02 08:52:25.433 ║ 105700        ║\n",
      "║ 2  ║ 2025-01-01 09:37:39.953 ║ 9    ║ Morning     ║ 2025-01-02 09:02:45.143 ║ 2025-01-02 09:10:51.553 ║ 84791.6       ║\n",
      "║ 3  ║ 2025-01-01 08:29:57.033 ║ 8    ║ Morning     ║ 2025-01-02 02:56:37.437 ║ 2025-01-02 03:41:47.143 ║ 69110.11      ║\n",
      "║ 4  ║ 2025-01-01 04:02:41.267 ║ 4    ║ Night       ║ 2025-01-01 21:39:33.843 ║ 2025-01-01 21:52:04.913 ║ 64163.65      ║\n",
      "║ 5  ║ 2025-01-01 18:22:00.29  ║ 18   ║ Evening     ║ 2025-01-02 09:14:06.077 ║ 2025-01-02 09:22:53.993 ║ 54053.7       ║\n",
      "║ 6  ║ 2025-01-01 09:28:35.067 ║ 9    ║ Morning     ║ 2025-01-01 23:16:22.23  ║ 2025-01-01 23:37:00.767 ║ 50905.7       ║\n",
      "║ 7  ║ 2025-01-01 09:41:01.707 ║ 9    ║ Morning     ║ 2025-01-01 22:39:59.627 ║ 2025-01-01 22:44:09.087 ║ 46987.38      ║\n",
      "║ 8  ║ 2025-01-01 20:26:24.573 ║ 20   ║ Evening     ║ 2025-01-01 23:12:42.12  ║ 2025-01-02 09:13:59.713 ║ 46055.14      ║\n",
      "║ 9  ║ 2025-01-01 13:00:59.98  ║ 13   ║ Afternoon   ║ 2025-01-02 01:28:35.063 ║ 2025-01-02 01:42:15.453 ║ 45675.47      ║\n",
      "║ 10 ║ 2025-01-01 11:19:12.197 ║ 11   ║ Morning     ║ 2025-01-01 22:48:37.013 ║ 2025-01-01 23:03:01.783 ║ 42229.59      ║ \n",
      "╚════╩═════════════════════════╩══════╩═════════════╩═════════════════════════╩═════════════════════════╩═══════════════╝ \n"
     ]
    }
   ],
   "source": [
    "# Calculate response time (from when call was created to when the officer arrived)\n",
    "cfs <- cfs |> \n",
    "  mutate(response_time = (time_arrive - time_create) |> round(2),\n",
    "    .after = time_arrive\n",
    "  )\n",
    "\n",
    "# We see some zeroes here — let's make them NA\n",
    "cfs <- cfs %>% \n",
    "  naniar::replace_with_na_at(.vars = \"response_time\", ~.x == \"0\")\n",
    "\n",
    "# Look at the longest response times\n",
    "cfs |> \n",
    "  select(time_create:response_time) |> \n",
    "  filter(!is.na(time_arrive)) |> \n",
    "  arrange(desc(response_time)) |> \n",
    "  head(10) |> \n",
    "  affiche()"
   ]
  },
  {
   "cell_type": "code",
   "execution_count": 393,
   "metadata": {
    "vscode": {
     "languageId": "r"
    }
   },
   "outputs": [
    {
     "name": "stdout",
     "output_type": "stream",
     "text": [
      "╔════╦═══════════╦══════╦════════════════╦══════════╦═══════════════╦══════════════╦═══════════════════╦══════════════════╦══════════╦═════════╦═════════════════════════╦══════╦═════════════╦═════════════════════════╦═════════════════════════╦═══════════════╦════════════════════════╦═════════════╦══════════════════╦════════════════╦══════╦═══════════════════╦═════════╦═════════════════╦═════════════╦══════════════════╦═════════════════╦══════════╗ \n",
      "║ X. ║ nopd_item ║ type ║ type_text      ║ priority ║ priority_desc ║ initial_type ║ initial_type_text ║ initial_priority ║ map_x    ║ map_y   ║ time_create             ║ hour ║ time_period ║ time_dispatch           ║ time_arrive             ║ response_time ║ time_closed            ║ disposition ║ disposition_text ║ self_initiated ║ beat ║ block_address     ║ zipcode ║ police_district ║ location    ║ longitude        ║ latitude        ║ category ║ \n",
      "╠════╬═══════════╬══════╬════════════════╬══════════╬═══════════════╬══════════════╬═══════════════════╬══════════════════╬══════════╬═════════╬═════════════════════════╬══════╬═════════════╬═════════════════════════╬═════════════════════════╬═══════════════╬════════════════════════╬═════════════╬══════════════════╬════════════════╬══════╬═══════════════════╬═════════╬═════════════════╬═════════════╬══════════════════╬═════════════════╬══════════╣ \n",
      "║ 1  ║ A0021525  ║ 29st ║ Suicide threat ║ 1        ║ Non-emergency ║ 29st         ║ Suicide threat    ║ 2d               ║ 37369000 ║ 3513814 ║ 2025-01-01 03:30:45.437 ║ 3    ║ Night       ║ 2025-01-02 08:39:32.507 ║ 2025-01-02 08:52:25.433 ║ 105700        ║ 2025-01-02 09:01:17.56 ║ Goa         ║ Gone on arrival  ║ FALSE          ║ 8e01 ║ 007xx dauphine st ║ 70116   ║ 8               ║ Point (0 0) ║ -90.070775211905 ║ 29.954586773092 ║ Other    ║ \n",
      "╚════╩═══════════╩══════╩════════════════╩══════════╩═══════════════╩══════════════╩═══════════════════╩══════════════════╩══════════╩═════════╩═════════════════════════╩══════╩═════════════╩═════════════════════════╩═════════════════════════╩═══════════════╩════════════════════════╩═════════════╩══════════════════╩════════════════╩══════╩═══════════════════╩═════════╩═════════════════╩═════════════╩══════════════════╩═════════════════╩══════════╝ \n"
     ]
    }
   ],
   "source": [
    "# Let's look at that case with the longest response time\n",
    "cfs |> filter(response_time == \"105700\") |> affiche()"
   ]
  },
  {
   "cell_type": "markdown",
   "metadata": {},
   "source": [
    "#### 11. Collapsing call priorities"
   ]
  },
  {
   "cell_type": "code",
   "execution_count": 365,
   "metadata": {
    "vscode": {
     "languageId": "r"
    }
   },
   "outputs": [],
   "source": [
    "# We'll collapse the call priorities using the descriptions given from the codebook\n",
    "cfs <- cfs |> \n",
    "  mutate(\n",
    "    priority_desc = case_when(\n",
    "      grepl(\"0\", priority) ~ \"Non-police\",\n",
    "      grepl(\"1\", priority) ~ \"Non-emergency\",\n",
    "      grepl(\"2\", priority) ~ \"Emergency\",\n",
    "      grepl(\"3\", priority) ~ \"Officer assistance\"\n",
    "    ), .after = priority\n",
    "  )"
   ]
  },
  {
   "cell_type": "code",
   "execution_count": 366,
   "metadata": {
    "vscode": {
     "languageId": "r"
    }
   },
   "outputs": [
    {
     "name": "stdout",
     "output_type": "stream",
     "text": [
      "╔════╦════════════════════╦═══════╦═════════╗ \n",
      "║ X. ║ priority_desc      ║ count ║ percent ║ \n",
      "╠════╬════════════════════╬═══════╬═════════╣ \n",
      "║ 1  ║ Non-emergency      ║ 583   ║ 68%     ║\n",
      "║ 2  ║ Emergency          ║ 213   ║ 25%     ║\n",
      "║ 3  ║ Non-police         ║ 60    ║ 7%      ║\n",
      "║ 4  ║ Officer assistance ║ 1     ║ <1%     ║ \n",
      "╚════╩════════════════════╩═══════╩═════════╝ \n"
     ]
    }
   ],
   "source": [
    "# Take a look at the new priority descriptions\n",
    "cfs |> count_table(priority_desc) |> affiche()"
   ]
  },
  {
   "cell_type": "markdown",
   "metadata": {},
   "source": [
    "#### 12. Classifying call types"
   ]
  },
  {
   "cell_type": "code",
   "execution_count": 367,
   "metadata": {
    "vscode": {
     "languageId": "r"
    }
   },
   "outputs": [],
   "source": [
    "# Define keywords for violent crimes\n",
    "violent_keywords <- c(\"assault\", \"battery\", \"homicide\", \"fight\", \"rape\", \"carjacking\")\n",
    "\n",
    "# Define keywords for theft crimes\n",
    "theft_keywords <- c(\"theft\", \"burglary\", \"stolen\", \"shoplifting\", \"damage\")\n",
    "\n",
    "# Define keywords for traffic incidents\n",
    "traffic_keywords <- c(\"traffic\", \"driving\", \"tow\", \"accident\", \"stranded\")\n",
    "\n",
    "# Categorize calls\n",
    "cfs <- cfs |> \n",
    "  mutate(\n",
    "    is_violent = str_detect(tolower(type_text), paste(violent_keywords, collapse = \"|\")), \n",
    "    is_theft = str_detect(tolower(type_text), paste(theft_keywords, collapse = \"|\")),  \n",
    "    is_traffic = str_detect(tolower(type_text), paste(traffic_keywords, collapse = \"|\")), \n",
    "    category = case_when(\n",
    "      is_violent == TRUE ~ \"Violent\",\n",
    "      is_theft == TRUE ~ \"Theft\", \n",
    "      is_traffic == TRUE ~ \"Traffic\", \n",
    "      TRUE ~ \"Other\")\n",
    "  ) |> \n",
    "  select(-c(is_violent:is_traffic))"
   ]
  },
  {
   "cell_type": "markdown",
   "metadata": {},
   "source": [
    "# 4. Exploratory Data Analysis"
   ]
  },
  {
   "cell_type": "markdown",
   "metadata": {},
   "source": [
    "#### 1. Summary statistics"
   ]
  },
  {
   "cell_type": "code",
   "execution_count": 368,
   "metadata": {
    "vscode": {
     "languageId": "r"
    }
   },
   "outputs": [
    {
     "name": "stdout",
     "output_type": "stream",
     "text": [
      "╔════════╦══════════════════╦══════════════════╦═════════════════╦═══════════════════╦══════════════════╗ \n",
      "║ X.     ║ map_x            ║ map_y            ║ police_district ║ longitude         ║ latitude         ║ \n",
      "╠════════╬══════════════════╬══════════════════╬═════════════════╬═══════════════════╬══════════════════╣ \n",
      "║ min    ║ 3660508          ║ 510890           ║ 1               ║ -90.13435318      ║ 29.89809981      ║\n",
      "║ max    ║ 37369000         ║ 3513814          ║ 8               ║ -89.88037655      ║ 30.12384063      ║\n",
      "║ median ║ 3681869          ║ 534639           ║ 5               ║ -90.0680996       ║ 29.96201054      ║\n",
      "║ mean   ║ 5231291.56419317 ║ 674430.623085984 ║ 4.924617196702  ║ -90.0608177487185 ║ 29.9722506123582 ║\n",
      "║ sd     ║ 7056045.87       ║ 623529.98        ║ 2.48            ║ 0.04              ║ 0.03             ║\n",
      "║ n      ║ 849              ║ 849              ║ 849             ║ 857               ║ 857              ║ \n",
      "╚════════╩══════════════════╩══════════════════╩═════════════════╩═══════════════════╩══════════════════╝ \n"
     ]
    }
   ],
   "source": [
    "# Use our custom describe() function for pulling summary stats\n",
    "cfs |> describe() |> affiche()"
   ]
  },
  {
   "cell_type": "markdown",
   "metadata": {},
   "source": [
    "#### 2. What are the most commonly occuring call type categories?"
   ]
  },
  {
   "cell_type": "code",
   "execution_count": 369,
   "metadata": {
    "vscode": {
     "languageId": "r"
    }
   },
   "outputs": [
    {
     "name": "stdout",
     "output_type": "stream",
     "text": [
      "╔════╦══════════╦═══════╦═════════╗ \n",
      "║ X. ║ category ║ count ║ percent ║ \n",
      "╠════╬══════════╬═══════╬═════════╣ \n",
      "║ 1  ║ Other    ║ 664   ║ 77%     ║\n",
      "║ 2  ║ Traffic  ║ 76    ║ 9%      ║\n",
      "║ 3  ║ Theft    ║ 65    ║ 8%      ║\n",
      "║ 4  ║ Violent  ║ 52    ║ 6%      ║ \n",
      "╚════╩══════════╩═══════╩═════════╝ \n"
     ]
    }
   ],
   "source": [
    "cfs |> count_table(category) |> affiche()"
   ]
  },
  {
   "cell_type": "markdown",
   "metadata": {},
   "source": [
    "#### 3. When do most calls take place?"
   ]
  },
  {
   "cell_type": "code",
   "execution_count": null,
   "metadata": {
    "vscode": {
     "languageId": "r"
    }
   },
   "outputs": [
    {
     "data": {
      "image/png": "[encoded data removed]",
      "text/plain": [
       "plot without title"
      ]
     },
     "metadata": {
      "image/png": {
       "height": 420,
       "width": 420
      }
     },
     "output_type": "display_data"
    }
   ],
   "source": [
    "# Extract the hour from the time_create field\n",
    "# We'll also calculate a time period of day for later use\n",
    "cfs <- cfs |> mutate(\n",
    "  hour = hour(time_create), \n",
    "  time_period = case_when(\n",
    "    hour >= 0 & hour <= 5 ~ \"Night\",\n",
    "    hour >= 6 & hour <= 11 ~ \"Morning\",\n",
    "    hour >= 12 & hour <= 17 ~ \"Afternoon\",\n",
    "    hour >= 18 & hour <= 23 ~ \"Evening\"\n",
    "  ), .after = time_create, \n",
    ")\n",
    "\n",
    "# Generate a summary table by hour\n",
    "hourly_sum <- cfs |> \n",
    "  count_table(hour) |> \n",
    "  arrange(hour)\n",
    "\n",
    "# We can use ggplot() + geom_line()\n",
    "ggplot(hourly_sum, aes(x = hour, y = count)) +\n",
    "  geom_line()"
   ]
  },
  {
   "cell_type": "code",
   "execution_count": null,
   "metadata": {
    "vscode": {
     "languageId": "r"
    }
   },
   "outputs": [
    {
     "name": "stdout",
     "output_type": "stream",
     "text": [
      "╔════╦═════════════╦═══════╦═════════╗ \n",
      "║ X. ║ time_period ║ count ║ percent ║ \n",
      "╠════╬═════════════╬═══════╬═════════╣ \n",
      "║ 1  ║ Night       ║ 284   ║ 33%     ║\n",
      "║ 2  ║ Evening     ║ 221   ║ 26%     ║\n",
      "║ 3  ║ Afternoon   ║ 209   ║ 24%     ║\n",
      "║ 4  ║ Morning     ║ 143   ║ 17%     ║ \n",
      "╚════╩═════════════╩═══════╩═════════╝ \n"
     ]
    }
   ],
   "source": [
    "# Let's look at those time periods too\n",
    "cfs |> count_table(time_period) |> affiche()"
   ]
  },
  {
   "cell_type": "markdown",
   "metadata": {},
   "source": [
    "#### 4. What are the most common call dispositions?"
   ]
  },
  {
   "cell_type": "code",
   "execution_count": 373,
   "metadata": {
    "vscode": {
     "languageId": "r"
    }
   },
   "outputs": [
    {
     "name": "stdout",
     "output_type": "stream",
     "text": [
      "╔════╦═════════════════════════════╦═══════╦═════════╗ \n",
      "║ X. ║ disposition_text            ║ count ║ percent ║ \n",
      "╠════╬═════════════════════════════╬═══════╬═════════╣ \n",
      "║ 1  ║ Necessary action taken      ║ 436   ║ 51%     ║\n",
      "║ 2  ║ Report to follow            ║ 174   ║ 20%     ║\n",
      "║ 3  ║ Gone on arrival             ║ 170   ║ 20%     ║\n",
      "║ 4  ║ Void                        ║ 36    ║ 4%      ║\n",
      "║ 5  ║ Duplicate                   ║ 31    ║ 4%      ║\n",
      "║ 6  ║ Referred to external agency ║ 6     ║ 1%      ║\n",
      "║ 7  ║ Unfounded                   ║ 3     ║ <1%     ║\n",
      "║ 8  ║ Canceled by complainant     ║ 1     ║ <1%     ║ \n",
      "╚════╩═════════════════════════════╩═══════╩═════════╝ \n"
     ]
    }
   ],
   "source": [
    "cfs |> count_table(disposition_text) |> affiche()"
   ]
  },
  {
   "cell_type": "markdown",
   "metadata": {},
   "source": [
    "#### 5. Which police districts receive the most calls?"
   ]
  },
  {
   "cell_type": "code",
   "execution_count": 374,
   "metadata": {
    "vscode": {
     "languageId": "r"
    }
   },
   "outputs": [
    {
     "name": "stdout",
     "output_type": "stream",
     "text": [
      "╔════╦═════════════════╦═══════╦═════════╗ \n",
      "║ X. ║ police_district ║ count ║ percent ║ \n",
      "╠════╬═════════════════╬═══════╬═════════╣ \n",
      "║ 1  ║ 8               ║ 193   ║ 23%     ║\n",
      "║ 2  ║ 3               ║ 137   ║ 16%     ║\n",
      "║ 3  ║ 7               ║ 119   ║ 14%     ║\n",
      "║ 4  ║ 1               ║ 101   ║ 12%     ║\n",
      "║ 5  ║ 6               ║ 89    ║ 10%     ║\n",
      "║ 6  ║ 2               ║ 79    ║ 9%      ║\n",
      "║ 7  ║ 5               ║ 76    ║ 9%      ║\n",
      "║ 8  ║ 4               ║ 55    ║ 6%      ║\n",
      "║ 9  ║ \u001b[91;3mNA\u001b[0m              ║ 8     ║ 1%      ║ \n",
      "╚════╩═════════════════╩═══════╩═════════╝ \n"
     ]
    }
   ],
   "source": [
    "cfs |> count_table(police_district) |> affiche()"
   ]
  },
  {
   "cell_type": "markdown",
   "metadata": {},
   "source": [
    "#### 6. What proportion of calls are self-initiated?"
   ]
  },
  {
   "cell_type": "code",
   "execution_count": 375,
   "metadata": {
    "vscode": {
     "languageId": "r"
    }
   },
   "outputs": [
    {
     "name": "stdout",
     "output_type": "stream",
     "text": [
      "╔════╦════════════════╦═══════╦═════════╗ \n",
      "║ X. ║ self_initiated ║ count ║ percent ║ \n",
      "╠════╬════════════════╬═══════╬═════════╣ \n",
      "║ 1  ║ FALSE          ║ 646   ║ 75%     ║\n",
      "║ 2  ║ TRUE           ║ 211   ║ 25%     ║ \n",
      "╚════╩════════════════╩═══════╩═════════╝ \n"
     ]
    }
   ],
   "source": [
    "cfs |> count_table(self_initiated) |> affiche()"
   ]
  },
  {
   "cell_type": "markdown",
   "metadata": {},
   "source": [
    "#### 7. Where do most calls originate from?"
   ]
  },
  {
   "cell_type": "code",
   "execution_count": null,
   "metadata": {
    "vscode": {
     "languageId": "r"
    }
   },
   "outputs": [
    {
     "name": "stdout",
     "output_type": "stream",
     "text": [
      "Reading layer `tl_2024_22_bg' from data source \n",
      "  `C:\\Users\\cburruss\\Documents\\Git-Space-Nine\\Data Analysis in Python for R Users\\data\\shapes\\tl_2024_22_bg.shp' \n",
      "  using driver `ESRI Shapefile'\n",
      "Simple feature collection with 4294 features and 13 fields\n",
      "Geometry type: MULTIPOLYGON\n",
      "Dimension:     XY\n",
      "Bounding box:  xmin: -94.04335 ymin: 28.85513 xmax: -88.75839 ymax: 33.01962\n",
      "Geodetic CRS:  NAD83\n"
     ]
    },
    {
     "data": {
      "image/png": "[encoded data removed]",
      "text/plain": [
       "plot without title"
      ]
     },
     "metadata": {
      "image/png": {
       "height": 420,
       "width": 420
      }
     },
     "output_type": "display_data"
    }
   ],
   "source": [
    "if (!require(sf)) install.packages(\"sf\")\n",
    "\n",
    "# Read shapefile and filter to Orleans Parish\n",
    "# As well as filter out water-only polygons\n",
    "shapes <- sf::st_read(\"./data/shapes/tl_2024_22_bg.shp\") |> \n",
    "  filter(COUNTYFP == \"071\") |> \n",
    "  filter(!grepl(\"220719900000|220719801001\", GEOID))\n",
    "\n",
    "# Preview the orleans shapes map\n",
    "ggplot(shapes, aes()) +\n",
    "  geom_sf() +\n",
    "  labs(title = \"New Orleans shapefile\")"
   ]
  },
  {
   "cell_type": "code",
   "execution_count": null,
   "metadata": {
    "vscode": {
     "languageId": "r"
    }
   },
   "outputs": [
    {
     "data": {
      "image/png": "[encoded data removed]",
      "text/plain": [
       "plot without title"
      ]
     },
     "metadata": {
      "image/png": {
       "height": 420,
       "width": 420
      }
     },
     "output_type": "display_data"
    }
   ],
   "source": [
    "# Convert the cfs object to a spatial feature (sf) object\n",
    "cfs_sf <- cfs %>%\n",
    "  st_as_sf(coords = c(\"longitude\", \"latitude\"), crs = 4326, agr = \"constant\")\n",
    "\n",
    "# Look at the shapes map with cfs overlaid\n",
    "ggplot() +\n",
    "  geom_sf(data = shapes) +\n",
    "  geom_sf(data = cfs_sf, alpha = .5, size = .75) +\n",
    "  labs(title = \"New Orleans calls for service\")"
   ]
  },
  {
   "cell_type": "markdown",
   "metadata": {},
   "source": [
    "#### 8. What is the best predictor of response time?"
   ]
  },
  {
   "cell_type": "code",
   "execution_count": 394,
   "metadata": {
    "vscode": {
     "languageId": "r"
    }
   },
   "outputs": [
    {
     "name": "stdout",
     "output_type": "stream",
     "text": [
      "tibble [406 × 6] (S3: tbl_df/tbl/data.frame)\n",
      " $ category       : Factor w/ 4 levels \"Other\",\"Theft\",..: 3 1 1 1 1 1 4 1 1 1 ...\n",
      " $ priority_desc  : Factor w/ 4 levels \"Emergency\",\"Non-emergency\",..: 2 2 2 2 2 2 2 2 2 1 ...\n",
      " $ time_period    : Factor w/ 4 levels \"Afternoon\",\"Evening\",..: 4 4 4 4 4 4 4 4 4 4 ...\n",
      " $ response_time  : num [1:406] 11431 2997 3286 6685 1352 ...\n",
      " $ self_initiated : logi [1:406] FALSE FALSE FALSE FALSE FALSE FALSE ...\n",
      " $ police_district: Factor w/ 8 levels \"1\",\"2\",\"3\",\"4\",..: 8 3 5 5 4 3 2 5 7 2 ...\n"
     ]
    }
   ],
   "source": [
    "# Note: I only included variables that were statistically significant for readability\n",
    "# As well as convert response time to a true numeric column (in seconds)\n",
    "# We'll also convert character fields and police district to factors\n",
    "# And drop NAs\n",
    "data <- cfs |> \n",
    "  select(c(category, priority_desc, time_period, response_time, \n",
    "           self_initiated, police_district)) |> \n",
    "  mutate(response_time = round(as.numeric(response_time), 0)) |> \n",
    "  mutate(across(where(is.character), as.factor)) |> \n",
    "  mutate(police_district = as.factor(police_district)) |> \n",
    "  drop_na()\n",
    "\n",
    "str(data)"
   ]
  },
  {
   "cell_type": "code",
   "execution_count": 399,
   "metadata": {
    "vscode": {
     "languageId": "r"
    }
   },
   "outputs": [
    {
     "data": {
      "text/plain": [
       "\n",
       "Call:\n",
       "lm(formula = response_time ~ ., data = data)\n",
       "\n",
       "Residuals:\n",
       "   Min     1Q Median     3Q    Max \n",
       "-16873  -4486  -1699   1706  94870 \n",
       "\n",
       "Coefficients: (1 not defined because of singularities)\n",
       "                                 Estimate Std. Error t value Pr(>|t|)    \n",
       "(Intercept)                     -1764.430   1856.089  -0.951  0.34239    \n",
       "categoryTheft                    6533.750   2119.309   3.083  0.00220 ** \n",
       "categoryTraffic                 -1537.766   2006.990  -0.766  0.44402    \n",
       "categoryViolent                  3227.778   1905.654   1.694  0.09111 .  \n",
       "priority_descNon-emergency       4826.391   1218.696   3.960  8.9e-05 ***\n",
       "priority_descNon-police          3891.362   3184.197   1.222  0.22242    \n",
       "priority_descOfficer assistance -5039.968  10521.878  -0.479  0.63221    \n",
       "time_periodEvening                240.442   1438.368   0.167  0.86733    \n",
       "time_periodMorning               3225.603   1621.106   1.990  0.04732 *  \n",
       "time_periodNight                 1948.793   1368.815   1.424  0.15533    \n",
       "self_initiatedTRUE                     NA         NA      NA       NA    \n",
       "police_district2                 -195.061   2123.296  -0.092  0.92685    \n",
       "police_district3                 1361.886   1921.038   0.709  0.47879    \n",
       "police_district4                  865.365   2391.532   0.362  0.71766    \n",
       "police_district5                 2161.851   1977.775   1.093  0.27504    \n",
       "police_district6                    5.299   1974.051   0.003  0.99786    \n",
       "police_district7                 6172.085   2173.722   2.839  0.00476 ** \n",
       "police_district8                 5819.605   1944.113   2.993  0.00293 ** \n",
       "---\n",
       "Signif. codes:  0 '***' 0.001 '**' 0.01 '*' 0.05 '.' 0.1 ' ' 1\n",
       "\n",
       "Residual standard error: 10370 on 389 degrees of freedom\n",
       "Multiple R-squared:  0.1483,\tAdjusted R-squared:  0.1133 \n",
       "F-statistic: 4.233 on 16 and 389 DF,  p-value: 1.31e-07\n"
      ]
     },
     "metadata": {},
     "output_type": "display_data"
    }
   ],
   "source": [
    "# Fit a multiple linear regression model\n",
    "model <- lm(formula = response_time ~ ., data = data)\n",
    "\n",
    "# TO-DO: Invesitage why model outputs differ\n",
    "model |> summary()"
   ]
  }
 ],
 "metadata": {
  "kernelspec": {
   "display_name": "R",
   "language": "R",
   "name": "ir"
  },
  "language_info": {
   "codemirror_mode": "r",
   "file_extension": ".r",
   "mimetype": "text/x-r-source",
   "name": "R",
   "pygments_lexer": "r",
   "version": "4.4.3"
  }
 },
 "nbformat": 4,
 "nbformat_minor": 2
}
