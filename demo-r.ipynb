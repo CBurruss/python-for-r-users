{
 "cells": [
  {
   "cell_type": "markdown",
   "metadata": {},
   "source": [
    "# **Data Analysis in Python for R Users — R**"
   ]
  },
  {
   "cell_type": "markdown",
   "metadata": {},
   "source": [
    "# 0. Environment Setup"
   ]
  },
  {
   "cell_type": "markdown",
   "metadata": {},
   "source": [
    "#### 1. Loading a library"
   ]
  },
  {
   "cell_type": "code",
   "execution_count": null,
   "metadata": {
    "vscode": {
     "languageId": "r"
    }
   },
   "outputs": [],
   "source": [
    "# R uses library() or require() for libraries\n",
    "if (!require(tidyverse)) install.packages(\"tidyverse\")\n",
    "\n",
    "# We'll also use a library {naniar} for handling missing values\n",
    "if (!require(naniar)) install.packages(\"naniar\")"
   ]
  },
  {
   "cell_type": "markdown",
   "metadata": {},
   "source": [
    "#### 2. Defining custom functions"
   ]
  },
  {
   "cell_type": "code",
   "execution_count": null,
   "metadata": {
    "vscode": {
     "languageId": "r"
    }
   },
   "outputs": [],
   "source": [
    "# Define a custom function affiche() for cleanly printing tables\n",
    "affiche <- function(df,\n",
    "                    align = \"left\",\n",
    "                    na_color = \"\\033[91;3m\",   # nolint\n",
    "                    theme = \"newspaper\") {     # nolint\n",
    "\n",
    "  # Error handling\n",
    "  if (ncol(df) == 0 || nrow(df) == 0) { #P\n",
    "    msg <- \"That table doesn't exist!\"\n",
    "    width <- nchar(msg)\n",
    "    top <- paste0(\"╔\", strrep(\"═\", width + 2), \"╗\")\n",
    "    mid <- paste0(\"║ \", msg, \" ║\")\n",
    "    bot <- paste0(\"╚\", strrep(\"═\", width + 2), \"╝\")\n",
    "    cat(top, \"\\n\", mid, \"\\n\", bot, \"\\n\", sep = \"\")\n",
    "    return(invisible(df))\n",
    "  }\n",
    "\n",
    "  # Handle missing rownames\n",
    "  if (!is.null(rownames(df)) && !any(names(df) == \" \")) {\n",
    "    df <- tibble::rownames_to_column(df, var = \" \")\n",
    "  }\n",
    "\n",
    "\n",
    "  # Theme setup\n",
    "  border <- switch(theme,\n",
    "    \"newspaper\" = list(\n",
    "      h = \"═\", v = \"║\",\n",
    "      tl = \"╔\", tr = \"╗\",\n",
    "      bl = \"╚\", br = \"╝\",\n",
    "      jn = \"╬\",\n",
    "      l = \"╠\", r = \"╣\",\n",
    "      t = \"╦\", b = \"╩\"\n",
    "    ),\n",
    "    stop(\"Theme not supported. Try 'newspaper'\")\n",
    "  )\n",
    "\n",
    "  # ANSI helpers\n",
    "  reset <- \"\\033[0m\"\n",
    "  color_na <- function(x) paste0(na_color, x, reset)\n",
    "\n",
    "  # Width calculator\n",
    "  display_width <- function(s) {\n",
    "    if (is.na(s)) return(2)  # Width of \"NA\"\n",
    "    clean <- gsub(\"\\033\\\\[[0-9;]*[mK]\", \"\", as.character(s))\n",
    "    nchar(clean, type = \"width\")\n",
    "  }\n",
    "\n",
    "  # --- DATA PREP ---\n",
    "  df_display <- as.data.frame(\n",
    "    lapply(df, function(col) {\n",
    "      ifelse(is.na(col), color_na(\"NA\"), as.character(col))\n",
    "    }),\n",
    "    stringsAsFactors = FALSE\n",
    "  )\n",
    "  col_names <- names(df_display)\n",
    "\n",
    "  # Column widths\n",
    "  col_widths <- sapply(seq_along(col_names), function(i) {\n",
    "    max(display_width(col_names[i]),\n",
    "        sapply(df_display[[i]], display_width),\n",
    "        na.rm = TRUE)\n",
    "  })\n",
    "\n",
    "  # Border drawing\n",
    "  draw_hline <- function(connector_left, connector_right, cross) {\n",
    "    line <- paste0(\n",
    "      connector_left,\n",
    "      paste0(sapply(col_widths, function(w) {\n",
    "        paste0(strrep(border$h, w + 2), cross)\n",
    "      }), collapse = \"\")\n",
    "    )\n",
    "    gsub(paste0(cross, \"$\"), connector_right, line)\n",
    "  }\n",
    "\n",
    "  top_line <- draw_hline(border$tl, border$tr, border$t)\n",
    "  mid_line <- draw_hline(border$l, border$r, border$jn)\n",
    "  bot_line <- draw_hline(border$bl, border$br, border$b)\n",
    "\n",
    "  # Header row\n",
    "  header <- paste0(\n",
    "    border$v,\n",
    "    paste0(sapply(seq_along(col_names), function(i) {\n",
    "      name <- col_names[i]\n",
    "      width <- col_widths[i]\n",
    "      pad_total <- width - display_width(name)\n",
    "      pad_left <- switch(align,\n",
    "        \"left\" = 0,\n",
    "        \"center\" = floor(pad_total / 2),\n",
    "        \"right\" = pad_total\n",
    "      )\n",
    "      paste0(\" \",\n",
    "             strrep(\" \", pad_left),\n",
    "             name,\n",
    "             strrep(\" \", pad_total - pad_left),\n",
    "             \" \", border$v)\n",
    "    }), collapse = \"\")\n",
    "  )\n",
    "\n",
    "\n",
    "  # Data rows\n",
    "data_rows <- sapply(1:nrow(df_display), function(i) {  # nolint\n",
    "    paste0(\n",
    "      border$v,\n",
    "      paste0(sapply(seq_along(col_names), function(j) {\n",
    "        content <- df_display[i, j]\n",
    "        width <- col_widths[j]\n",
    "        pad_total <- width - display_width(content)\n",
    "        pad_left <- switch(align,\n",
    "          \"left\" = 0,\n",
    "          \"center\" = floor(pad_total / 2),\n",
    "          \"right\" = pad_total\n",
    "        )\n",
    "        paste0(\" \",\n",
    "               strrep(\" \", pad_left),\n",
    "               content,\n",
    "               strrep(\" \", pad_total - pad_left),\n",
    "               ifelse(j == length(col_names), \"\", paste0(\" \", border$v)))\n",
    "      }), collapse = \"\"),\n",
    "      \" \", border$v  # rightmost edge\n",
    "    )\n",
    "  })\n",
    "\n",
    "  # Final assembly\n",
    "  cat(top_line, \"\\n\")\n",
    "  cat(header, \"\\n\")\n",
    "  cat(mid_line, \"\\n\")\n",
    "  cat(paste0(data_rows, collapse = \"\\n\"), \"\\n\")\n",
    "  cat(bot_line, \"\\n\")\n",
    "\n",
    "  invisible(df)\n",
    "}"
   ]
  },
  {
   "cell_type": "code",
   "execution_count": null,
   "metadata": {
    "vscode": {
     "languageId": "r"
    }
   },
   "outputs": [],
   "source": [
    "# Define a custom function count_table() for generating value counts and percentages\n",
    "count_table <- function(df, column) {\n",
    "  df |> \n",
    "    group_by({{ column }}) |> \n",
    "    summarize(count = n()) |>\n",
    "    arrange(desc(count)) |>  \n",
    "    mutate(percent = paste0(round(count / sum(count) * 100, 0), \"%\")) |> \n",
    "    mutate(percent = if_else(percent == \"0%\" & count >= 1, true = \"<1%\", false = percent))\n",
    "}"
   ]
  },
  {
   "cell_type": "code",
   "execution_count": null,
   "metadata": {
    "vscode": {
     "languageId": "r"
    }
   },
   "outputs": [],
   "source": [
    "# Define a custom function count_na() for counting NA values for each column\n",
    "count_na <- function(df) {\n",
    "  result <- tibble(col = character(), na_count = integer())\n",
    "\n",
    "  for (col in names(df)) {\n",
    "    # Count missing values per column\n",
    "    na_count <- df |> filter(is.na(!!sym(col))) |> count() |> pull(n)\n",
    "    # Place the counts into a result table\n",
    "    result <- result |> add_row(col = col, na_count = na_count)\n",
    "  }\n",
    "\n",
    "  # Add percentage labels \n",
    "  result |>\n",
    "    mutate(\n",
    "      na_percent = case_when(\n",
    "        na_count == 0 ~ \"0%\",\n",
    "        (na_count / nrow(df)) <= 0.0099 ~ \"<1%\",\n",
    "        TRUE ~ paste0(round(na_count / nrow(df) * 100, 0), \"%\")\n",
    "      )\n",
    "    ) |>\n",
    "    # Sort by missing count\n",
    "    arrange(desc(na_count))\n",
    "}"
   ]
  },
  {
   "cell_type": "code",
   "execution_count": null,
   "metadata": {
    "vscode": {
     "languageId": "r"
    }
   },
   "outputs": [],
   "source": [
    "# Define a custom function describe() for displaying summary stats for numeric cols\n",
    "describe <- function(df) {\n",
    "  numeric_df <- df %>%\n",
    "    select(where(is.numeric))\n",
    "  \n",
    "  # Initialize a list to store results\n",
    "  summary_list <- list()\n",
    "  \n",
    "  # Loop through each numeric column and calculate statistics\n",
    "  for (col in names(numeric_df)) {\n",
    "    summary_list[[col]] <- c(\n",
    "      min = min(numeric_df[[col]], na.rm = TRUE),\n",
    "      max = max(numeric_df[[col]], na.rm = TRUE),\n",
    "      median = median(numeric_df[[col]], na.rm = TRUE),\n",
    "      mean = mean(numeric_df[[col]], na.rm = TRUE),\n",
    "      sd = round(sd(numeric_df[[col]], na.rm = TRUE), 2),\n",
    "      n = sum(!is.na(numeric_df[[col]]))\n",
    "    )\n",
    "  }\n",
    "  \n",
    "  # Combine the results into a data frame and transpose\n",
    "  result <- as.data.frame(do.call(rbind, summary_list))\n",
    "  \n",
    "  # Transpose the result to switch rows and columns\n",
    "  result <- as.data.frame(t(result))\n",
    "  \n",
    "  # Set the column names to the measurements\n",
    "  colnames(result) <- names(numeric_df)\n",
    "  \n",
    "  result %>%\n",
    "    return()\n",
    "}"
   ]
  },
  {
   "cell_type": "markdown",
   "metadata": {},
   "source": [
    "# 1. Simple Data"
   ]
  },
  {
   "cell_type": "code",
   "execution_count": null,
   "metadata": {
    "vscode": {
     "languageId": "r"
    }
   },
   "outputs": [],
   "source": [
    "# We use print for displaying something\n",
    "print(\"Hello world!\") # Test comment"
   ]
  },
  {
   "cell_type": "code",
   "execution_count": null,
   "metadata": {
    "vscode": {
     "languageId": "r"
    }
   },
   "outputs": [],
   "source": [
    "# Our assignment operator is the arrow (<-)\n",
    "x <- 10\n",
    "y <- 20\n",
    "\n",
    "print(x)\n",
    "print(y)"
   ]
  },
  {
   "cell_type": "code",
   "execution_count": null,
   "metadata": {
    "vscode": {
     "languageId": "r"
    }
   },
   "outputs": [],
   "source": [
    "# We roughly use the same mathematical operators\n",
    "z <- x * y\n",
    "print(z)\n",
    "\n",
    "a <- x / y\n",
    "print(a)\n",
    "\n",
    "b <- x - y\n",
    "print(b)"
   ]
  },
  {
   "cell_type": "code",
   "execution_count": null,
   "metadata": {
    "vscode": {
     "languageId": "r"
    }
   },
   "outputs": [],
   "source": [
    "# Let's look at some data types\n",
    "k <- 1000\n",
    "name <- \"Henry\"\n",
    "does_exist <- TRUE\n",
    "\n",
    "# Note: In R, we don't slways have to specify print()\n",
    "str(k)\n",
    "str(name)\n",
    "str(does_exist)"
   ]
  },
  {
   "cell_type": "code",
   "execution_count": null,
   "metadata": {
    "vscode": {
     "languageId": "r"
    }
   },
   "outputs": [],
   "source": [
    "# Missing values operate differently as objects vs as parts of a vector \n",
    "# Note: NA_character is the NA placeholder for character strings\n",
    "null_object <- NULL\n",
    "na_vector <- c(\"apple\", NA_character_, 25) \n",
    "\n",
    "null_object\n",
    "na_vector"
   ]
  },
  {
   "cell_type": "markdown",
   "metadata": {},
   "source": [
    "# 2. Working with Dataframes"
   ]
  },
  {
   "cell_type": "code",
   "execution_count": null,
   "metadata": {
    "vscode": {
     "languageId": "r"
    }
   },
   "outputs": [],
   "source": [
    "# Create a dataframe\n",
    "# Note: We use NA_real_ for numeric NAs\n",
    "df <- data.frame(\n",
    "  Name = c(\"Henry\", \"Bob\", \"Joanne\", \"Steven\"),\n",
    "  Age = c(22, NA_real_, 30, 48),\n",
    "  Birthday = c(\"2003-12-29\", \"1980-05-15\", \"1995-01-12\", NA_character_)\n",
    ")\n",
    "\n",
    "print(df)"
   ]
  },
  {
   "cell_type": "code",
   "execution_count": null,
   "metadata": {
    "vscode": {
     "languageId": "r"
    }
   },
   "outputs": [],
   "source": [
    "# Display the structure of the df\n",
    "str(df)"
   ]
  },
  {
   "cell_type": "code",
   "execution_count": null,
   "metadata": {
    "vscode": {
     "languageId": "r"
    }
   },
   "outputs": [],
   "source": [
    "# Access a single column by name\n",
    "df$Birthday"
   ]
  },
  {
   "cell_type": "code",
   "execution_count": null,
   "metadata": {
    "vscode": {
     "languageId": "r"
    }
   },
   "outputs": [],
   "source": [
    "# Access the first column by position\n",
    "column_1 <- df[1]\n",
    "\n",
    "print(column_1)"
   ]
  },
  {
   "cell_type": "code",
   "execution_count": null,
   "metadata": {
    "vscode": {
     "languageId": "r"
    }
   },
   "outputs": [],
   "source": [
    "# Add a new column\n",
    "df$Fav_Animal <- c(\"Cat\", \"Penguin\", \"Sloth\", \"Dog\")\n",
    "\n",
    "print(df)"
   ]
  },
  {
   "cell_type": "code",
   "execution_count": null,
   "metadata": {
    "vscode": {
     "languageId": "r"
    }
   },
   "outputs": [],
   "source": [
    "# Drop a column \n",
    "df$Age <- NULL\n",
    "\n",
    "print(df)"
   ]
  },
  {
   "cell_type": "code",
   "execution_count": null,
   "metadata": {
    "vscode": {
     "languageId": "r"
    }
   },
   "outputs": [],
   "source": [
    "# Convert birthday to a datefield with as.Date()\n",
    "df$Birthday <- as.Date(df$Birthday)\n",
    "\n",
    "str(df$Birthday)"
   ]
  },
  {
   "cell_type": "markdown",
   "metadata": {},
   "source": [
    "# 3. More Advanced Manipulation"
   ]
  },
  {
   "cell_type": "markdown",
   "metadata": {},
   "source": [
    "#### 1. Reading in data"
   ]
  },
  {
   "cell_type": "code",
   "execution_count": null,
   "metadata": {
    "vscode": {
     "languageId": "r"
    }
   },
   "outputs": [],
   "source": [
    "# Read in the calls for service data\n",
    "# Note in R, naming a library before a function is only for conflicts + clarification\n",
    "cfs <- readr::read_csv(\"./data/calls_for_service_2025_demo.csv\")\n",
    "\n",
    "# Preview the first ten rows\n",
    "# Note: We'll start using R's native pipe ( |> ) from here on\n",
    "cfs |> head(10) |> print()"
   ]
  },
  {
   "cell_type": "code",
   "execution_count": null,
   "metadata": {
    "vscode": {
     "languageId": "r"
    }
   },
   "outputs": [],
   "source": [
    "# Use our custom affiche() function for better readability\n",
    "cfs |> head(10) |> affiche()"
   ]
  },
  {
   "cell_type": "markdown",
   "metadata": {},
   "source": [
    "#### 2. Cleaning column names"
   ]
  },
  {
   "cell_type": "code",
   "execution_count": null,
   "metadata": {
    "vscode": {
     "languageId": "r"
    }
   },
   "outputs": [],
   "source": [
    "# Load the {janitor} package from within {tidyverse}\n",
    "library(janitor)\n",
    "\n",
    "# Apply the clean_names() function from {janitor}\n",
    "cfs <- janitor::clean_names(cfs)\n",
    "\n",
    "str(cfs)"
   ]
  },
  {
   "cell_type": "code",
   "execution_count": null,
   "metadata": {
    "vscode": {
     "languageId": "r"
    }
   },
   "outputs": [],
   "source": [
    "# We can select data with select() from {dplyr}\n",
    "cfs |> select(nopd_item) |> \n",
    "  head(10) |> \n",
    "  affiche()"
   ]
  },
  {
   "cell_type": "code",
   "execution_count": null,
   "metadata": {
    "vscode": {
     "languageId": "r"
    }
   },
   "outputs": [],
   "source": [
    "# Rename columns (in case they weren't already renamed)\n",
    "# We'll use rename() from {dplyr} from within {tidyverse}\n",
    "# Where rename wants \"new = old\"\n",
    "cfs <- cfs |> rename(zip_code = zip)\n",
    "\n",
    "# Check on our 19th column\n",
    "colnames(cfs)[19]"
   ]
  },
  {
   "cell_type": "code",
   "execution_count": null,
   "metadata": {
    "vscode": {
     "languageId": "r"
    }
   },
   "outputs": [],
   "source": [
    "# Let's see if our column names match now\n",
    "str(cfs)\n",
    "\n",
    "# Note: Looks like there are some differences in data types\n",
    "# We'll try to get these to line up later"
   ]
  },
  {
   "cell_type": "markdown",
   "metadata": {},
   "source": [
    "#### 3. Converting character fields to sentence case"
   ]
  },
  {
   "cell_type": "code",
   "execution_count": null,
   "metadata": {
    "vscode": {
     "languageId": "r"
    }
   },
   "outputs": [],
   "source": [
    "# Use str_to_sentence() from {stringr} via the {tidyverse}\n",
    "cfs <- cfs |> \n",
    "  mutate(across(where(is.character), str_to_sentence))"
   ]
  },
  {
   "cell_type": "code",
   "execution_count": null,
   "metadata": {
    "vscode": {
     "languageId": "r"
    }
   },
   "outputs": [],
   "source": [
    "# Now we can look at the dispositions and see what they look like\n",
    "# We'll use {dplyr} to group_by() a column, summarize() the count, then arrange() by count\n",
    "cfs |> \n",
    "  group_by(disposition_text) |> \n",
    "  summarize(count = n()) |> \n",
    "  arrange(desc(count)) |> \n",
    "  affiche()"
   ]
  },
  {
   "cell_type": "markdown",
   "metadata": {},
   "source": [
    "#### 4. Re-casting data types"
   ]
  },
  {
   "cell_type": "code",
   "execution_count": null,
   "metadata": {
    "vscode": {
     "languageId": "r"
    }
   },
   "outputs": [],
   "source": [
    "# Let's investigate zipcode:\n",
    "# From now on, we'll use our custom count_table() function\n",
    "\n",
    "cfs$zip_code |> str()\n",
    "cfs |> count_table(zip_code) |> affiche()"
   ]
  },
  {
   "cell_type": "code",
   "execution_count": null,
   "metadata": {
    "vscode": {
     "languageId": "r"
    }
   },
   "outputs": [],
   "source": [
    "# Looks like it's a character in R because of this \"None\" value\n",
    "# Let's recast it as a numeric\n",
    "cfs <- cfs |> \n",
    "  mutate(zip_code = as.numeric(zip_code))\n",
    "\n",
    "# Now let's look at zip_code\n",
    "# And it coerced the \"None\" for us!\n",
    "cfs$zip_code |> str()\n",
    "cfs |> count_table(zip_code) |> affiche()"
   ]
  },
  {
   "cell_type": "code",
   "execution_count": null,
   "metadata": {
    "vscode": {
     "languageId": "r"
    }
   },
   "outputs": [],
   "source": [
    "# Let's go back and look at the rest of our datatypes\n",
    "str(cfs)"
   ]
  },
  {
   "cell_type": "code",
   "execution_count": null,
   "metadata": {
    "vscode": {
     "languageId": "r"
    }
   },
   "outputs": [],
   "source": [
    "# Let's investigate the time_create column \n",
    "cfs |> \n",
    "  count_table(time_create) |> \n",
    "  affiche()"
   ]
  },
  {
   "cell_type": "code",
   "execution_count": null,
   "metadata": {
    "vscode": {
     "languageId": "r"
    }
   },
   "outputs": [],
   "source": [
    "# We can tell that R recognizes our date fields correctly (POSIXct)\n",
    "# But we could re-cast them if they were stored as character strings\n",
    "time_cols <- c(\"time_create\", \"time_dispatch\", \"time_arrive\", \"time_closed\")\n",
    "\n",
    "for (col in time_cols) {\n",
    "  cfs[[col]] <- as.POSIXct(cfs[[col]])\n",
    "}\n",
    "\n",
    "# Now let's select() the date columns and see their datatypes\n",
    "# Note: We'll use a handy argument within select() called all_of()\n",
    "cfs |> select(all_of(time_cols)) |> str()"
   ]
  },
  {
   "cell_type": "code",
   "execution_count": null,
   "metadata": {
    "vscode": {
     "languageId": "r"
    }
   },
   "outputs": [],
   "source": [
    "# Let's go back to our columns\n",
    "# And all of our datatypes look pretty good\n",
    "str(cfs)"
   ]
  },
  {
   "cell_type": "markdown",
   "metadata": {},
   "source": [
    "#### 5. Replacing missing values"
   ]
  },
  {
   "cell_type": "markdown",
   "metadata": {},
   "source": [
    "##### A. Replacing 0s"
   ]
  },
  {
   "cell_type": "code",
   "execution_count": null,
   "metadata": {
    "vscode": {
     "languageId": "r"
    }
   },
   "outputs": [],
   "source": [
    "# With some digging, we can find that some columns have 0s \n",
    "# They're map_x, map_y, and police_district '\n",
    "# Here's police district \n",
    "cfs |> \n",
    "  count_table(police_district) |> \n",
    "  affiche()"
   ]
  },
  {
   "cell_type": "code",
   "execution_count": null,
   "metadata": {
    "vscode": {
     "languageId": "r"
    }
   },
   "outputs": [],
   "source": [
    "# Replace 0s in map_x, map_y, and police_district \n",
    "zero_cols <- c(\"map_x\", \"map_y\", \"police_district\")\n",
    "\n",
    "# In R, we'll use a handy function from {naniar}\n",
    "cfs <- cfs %>% \n",
    "  naniar::replace_with_na_at(.vars = zero_cols, ~.x == 0)\n",
    "\n",
    "# Now, let's see what police districts look like\n",
    "cfs |> \n",
    "  count_table(police_district) |> \n",
    "  affiche()"
   ]
  },
  {
   "cell_type": "markdown",
   "metadata": {},
   "source": [
    "##### B. Replacing Nones"
   ]
  },
  {
   "cell_type": "code",
   "execution_count": null,
   "metadata": {
    "vscode": {
     "languageId": "r"
    }
   },
   "outputs": [],
   "source": [
    "# After more digging, you'll find that both beat also has some \"None\" values\n",
    "cfs |> count_table(beat) |> \n",
    "  filter(beat == \"None\") |> \n",
    "  affiche()"
   ]
  },
  {
   "cell_type": "code",
   "execution_count": null,
   "metadata": {
    "vscode": {
     "languageId": "r"
    }
   },
   "outputs": [],
   "source": [
    "# We can use the same approach we used with replacing 0s\n",
    "cfs <- cfs %>% \n",
    "  naniar::replace_with_na_at(.vars = \"beat\", ~.x == \"None\")\n",
    "\n",
    "# Now let's see if they were succesfully transormed to NAs\n",
    "cfs |> count_table(beat) |> \n",
    "  filter(is.na(beat)) |> \n",
    "  affiche()"
   ]
  },
  {
   "cell_type": "code",
   "execution_count": null,
   "metadata": {
    "vscode": {
     "languageId": "r"
    }
   },
   "outputs": [],
   "source": [
    "# Now we can look at our missing values by column:\n",
    "cfs |> count_na() |> affiche()"
   ]
  },
  {
   "cell_type": "markdown",
   "metadata": {},
   "source": [
    "#### 6. Using regex to update a column"
   ]
  },
  {
   "cell_type": "code",
   "execution_count": null,
   "metadata": {
    "vscode": {
     "languageId": "r"
    }
   },
   "outputs": [],
   "source": [
    "# Next, let's take a look at other unexpected beat values\n",
    "# We're looking for strings that don't follow the conventional pattern of ...\n",
    "# ... 1 digit followed by 1 letter, then 2 more digits (eg 1b01)\n",
    "# This is a common issue resulting from programs like Excel auto-parsing certain fields\n",
    "# Basically, we want 1.00e+03 to become 1e03, etc \n",
    "# We'll create a new column with an if_else() requiring a condition and arguments for true or false\n",
    "cfs <- cfs |> mutate(\n",
    "  beat_2 = if_else(\n",
    "    condition = !grepl(\"\\\\d{1}[a-z]\\\\d{2}\", beat) & !is.na(beat),\n",
    "    true = str_replace(beat, \n",
    "                       pattern = \"(\\\\d{1})\\\\.00(e)\\\\+(\\\\d{2})\", \n",
    "                       replacement = \"\\\\1\\\\2\\\\3\"),\n",
    "    false = beat \n",
    "    )\n",
    "  ) \n",
    "\n",
    "cfs |> \n",
    "  filter(!grepl(\"\\\\d{1}[a-z]\\\\d{2}\", beat) & !is.na(beat)) |> \n",
    "  distinct(beat, beat_2) |> \n",
    "  affiche()"
   ]
  },
  {
   "cell_type": "code",
   "execution_count": null,
   "metadata": {
    "vscode": {
     "languageId": "r"
    }
   },
   "outputs": [],
   "source": [
    "# Now we can update beat with our beat_2 column\n",
    "cfs$beat <- cfs$beat_2\n",
    "\n",
    "# Then drop the beat_2 column\n",
    "cfs$beat_2 <- NULL\n",
    "\n",
    "# And look at the new beat values that were updated\n",
    "cfs |> \n",
    "  count_table(beat) |> \n",
    "  filter(grepl(\"e\", beat)) |> \n",
    "  affiche()"
   ]
  },
  {
   "cell_type": "markdown",
   "metadata": {},
   "source": [
    "#### 7. Creating booleans"
   ]
  },
  {
   "cell_type": "code",
   "execution_count": null,
   "metadata": {
    "vscode": {
     "languageId": "r"
    }
   },
   "outputs": [],
   "source": [
    "# It looks like self-initiated uses a Y / N system \n",
    "cfs |> \n",
    "  count_table(self_initiated) |> \n",
    "  affiche()"
   ]
  },
  {
   "cell_type": "code",
   "execution_count": null,
   "metadata": {
    "vscode": {
     "languageId": "r"
    }
   },
   "outputs": [],
   "source": [
    "# So we're going to make it a boolean instead with another if_else()\n",
    "cfs <- cfs |> mutate(self_initiated = if_else(\n",
    "  condition = self_initiated == \"Y\",\n",
    "  true = TRUE,\n",
    "  false = FALSE)\n",
    ")"
   ]
  },
  {
   "cell_type": "code",
   "execution_count": null,
   "metadata": {
    "vscode": {
     "languageId": "r"
    }
   },
   "outputs": [],
   "source": [
    "# Let's see how that turned out\n",
    "str(cfs$self_initiated)\n",
    "\n",
    "cfs |> \n",
    "  count_table(self_initiated) |> \n",
    "  affiche()"
   ]
  },
  {
   "cell_type": "markdown",
   "metadata": {},
   "source": [
    "#### 8. Extracting coordinate info"
   ]
  },
  {
   "cell_type": "code",
   "execution_count": null,
   "metadata": {
    "vscode": {
     "languageId": "r"
    }
   },
   "outputs": [],
   "source": [
    "# Let's take a look at the location field\n",
    "str(cfs$location)\n",
    "\n",
    "cfs |> select(location) |> head(5) |> affiche()"
   ]
  },
  {
   "cell_type": "code",
   "execution_count": null,
   "metadata": {
    "vscode": {
     "languageId": "r"
    }
   },
   "outputs": [],
   "source": [
    "# Let's extract the longitude field from the location column\n",
    "# And coerce as numeric type\n",
    "\n",
    "# Key: \\\\- is a double-escaped search for a hyphen \n",
    "# \\\\d{2} is a double-escaped search for two digits\n",
    "# \\\\. is a double-escaped search for a decimal\n",
    "# and \\\\d{4,} is a double-escaped search for four or more digits\n",
    "longitude_pattern <- \"(\\\\-\\\\d{2}\\\\.\\\\d{4,})\"\n",
    "cfs$longitude <- cfs$location |> str_extract(longitude_pattern) |> as.numeric()\n",
    "\n",
    "cfs |> select(longitude) |> head(5) |> affiche()"
   ]
  },
  {
   "cell_type": "code",
   "execution_count": null,
   "metadata": {
    "vscode": {
     "languageId": "r"
    }
   },
   "outputs": [],
   "source": [
    "# Let's extract the latitude field from the location column\n",
    "# And coerce as numeric type\n",
    "\n",
    "# Key: \\\\s is a double-escaped search for a whitespace\n",
    "# \\\\d{2} is a double-escaped search for two digits\n",
    "# \\\\. is a double-escaped search for a decimla\n",
    "# and \\\\d{4,} is a double-escaped search for four or more digits\n",
    "latitude_pattern <- \"\\\\s(\\\\d{2}\\\\.\\\\d{4,})\"\n",
    "cfs$latitude <- cfs$location |> str_extract(latitude_pattern) |> as.numeric()\n",
    "\n",
    "cfs |> select(latitude) |> head(5) |> affiche()"
   ]
  },
  {
   "cell_type": "markdown",
   "metadata": {},
   "source": [
    "#### 9. Geocoding missing location data"
   ]
  },
  {
   "cell_type": "code",
   "execution_count": null,
   "metadata": {
    "vscode": {
     "languageId": "r"
    }
   },
   "outputs": [],
   "source": [
    "# We'll load {glue} in R for handy string interpolation\n",
    "if (!require(glue)) install.packages(\"glue\")\n",
    "\n",
    "# Identify cases with missing location data\n",
    "missing <- cfs |> \n",
    "  filter(is.na(longitude) & is.na(latitude)) |> \n",
    "  filter(!is.na(block_address)) \n",
    "  \n",
    "missing |> \n",
    "  select(block_address, zip_code, location:latitude) |> \n",
    "  head(10) |> \n",
    "  affiche()\n",
    "\n",
    "print(glue(\"Number of missing location fields: {nrow(missing)}\"))"
   ]
  },
  {
   "cell_type": "code",
   "execution_count": null,
   "metadata": {
    "vscode": {
     "languageId": "r"
    }
   },
   "outputs": [],
   "source": [
    "# Load the {tidygeocoder} package\n",
    "if (!require(tidygeocoder)) install.packages(\"tidygeocoder\")\n",
    "\n",
    "# Let's fill out an address field\n",
    "missing$address <- paste(missing$block_address, \"Louisiana, LA\", missing$zipcode)\n",
    "\n",
    "missing |> \n",
    "  select(block_address, address) |> \n",
    "  head(10) |> \n",
    "  affiche()\n",
    "\n",
    "missing <- missing |> \n",
    "  tidygeocoder::geocode(address = address,\n",
    "                        method = \"arcgis\",\n",
    "                        lat = latitude,\n",
    "                        long = longitude)"
   ]
  },
  {
   "cell_type": "code",
   "execution_count": null,
   "metadata": {
    "vscode": {
     "languageId": "r"
    }
   },
   "outputs": [],
   "source": [
    "# First let's fix the new latitude and longitude columns\n",
    "# Since R renamed all four of our columns, we'll just use the new columns\n",
    "missing <- missing |> \n",
    "  rename(latitude = latitude...25,\n",
    "         longitude = longitude...26)\n",
    "\n",
    "# Now let's look at the geocoded addresses\n",
    "missing |> \n",
    "  select(address:longitude) |> \n",
    "  head(10) |> \n",
    "  affiche()           "
   ]
  },
  {
   "cell_type": "code",
   "execution_count": null,
   "metadata": {
    "vscode": {
     "languageId": "r"
    }
   },
   "outputs": [],
   "source": [
    "# Let's double-check if there are any missing coordinates\n",
    "missing |> \n",
    "  filter(is.na(latitude) | is.na(longitude)) |> \n",
    "  head(10) |> \n",
    "  affiche()"
   ]
  },
  {
   "cell_type": "code",
   "execution_count": null,
   "metadata": {
    "vscode": {
     "languageId": "r"
    }
   },
   "outputs": [],
   "source": [
    "# Now let's join them back to the original cfs table\n",
    "cfs <- cfs %>% \n",
    "  left_join(missing |> select(block_address, \n",
    "                              latitude, \n",
    "                              longitude), \n",
    "            by = \"block_address\")\n",
    "\n",
    "# We'll update the original longitude and latitude values with the new ones via coalesce(), ...\n",
    "# ... drop the extra columns, and rename the original columns\n",
    "cfs <- cfs |> \n",
    "  mutate(longitude.x = coalesce(longitude.x, longitude.y),\n",
    "         latitude.x = coalesce(latitude.x, latitude.y)) |> \n",
    "  select(-c(longitude.y, latitude.y)) |> \n",
    "  rename(longitude = longitude.x, \n",
    "         latitude = latitude.x)\n",
    "\n",
    "str(cfs)"
   ]
  },
  {
   "cell_type": "markdown",
   "metadata": {},
   "source": [
    "#### 10. Calculating response time"
   ]
  },
  {
   "cell_type": "code",
   "execution_count": null,
   "metadata": {
    "vscode": {
     "languageId": "r"
    }
   },
   "outputs": [],
   "source": [
    "# Calculate response time (from when call was created to when the officer arrived)\n",
    "cfs <- cfs |> \n",
    "  mutate(response_time = (time_arrive - time_create) |> round(2),\n",
    "    .after = time_arrive\n",
    "  )\n",
    "\n",
    "# We see some zeroes here — let's make them NA\n",
    "cfs <- cfs %>% \n",
    "  naniar::replace_with_na_at(.vars = \"response_time\", ~.x == \"0\")\n",
    "\n",
    "# Look at the longest response times\n",
    "cfs |> \n",
    "  select(time_create:response_time) |> \n",
    "  filter(!is.na(time_arrive)) |> \n",
    "  arrange(desc(response_time)) |> \n",
    "  head(10) |> \n",
    "  affiche()"
   ]
  },
  {
   "cell_type": "code",
   "execution_count": null,
   "metadata": {
    "vscode": {
     "languageId": "r"
    }
   },
   "outputs": [],
   "source": [
    "# Let's look at that case with the longest response time\n",
    "cfs |> filter(response_time == \"105700\") |> affiche()"
   ]
  },
  {
   "cell_type": "markdown",
   "metadata": {},
   "source": [
    "#### 11. Collapsing call priorities"
   ]
  },
  {
   "cell_type": "code",
   "execution_count": null,
   "metadata": {
    "vscode": {
     "languageId": "r"
    }
   },
   "outputs": [],
   "source": [
    "# We'll collapse the call priorities using the descriptions given from the codebook\n",
    "cfs <- cfs |> \n",
    "  mutate(\n",
    "    priority_desc = case_when(\n",
    "      grepl(\"0\", priority) ~ \"Non-police\",\n",
    "      grepl(\"1\", priority) ~ \"Non-emergency\",\n",
    "      grepl(\"2\", priority) ~ \"Emergency\",\n",
    "      grepl(\"3\", priority) ~ \"Officer assistance\"\n",
    "    ), .after = priority\n",
    "  )"
   ]
  },
  {
   "cell_type": "code",
   "execution_count": null,
   "metadata": {
    "vscode": {
     "languageId": "r"
    }
   },
   "outputs": [],
   "source": [
    "# Take a look at the new priority descriptions\n",
    "cfs |> count_table(priority_desc) |> affiche()"
   ]
  },
  {
   "cell_type": "markdown",
   "metadata": {},
   "source": [
    "#### 12. Classifying call types"
   ]
  },
  {
   "cell_type": "code",
   "execution_count": null,
   "metadata": {
    "vscode": {
     "languageId": "r"
    }
   },
   "outputs": [],
   "source": [
    "# Define keywords for violent crimes\n",
    "violent_keywords <- c(\"assault\", \"battery\", \"homicide\", \"fight\", \"rape\", \"carjacking\")\n",
    "\n",
    "# Define keywords for theft crimes\n",
    "theft_keywords <- c(\"theft\", \"burglary\", \"stolen\", \"shoplifting\", \"damage\")\n",
    "\n",
    "# Define keywords for traffic incidents\n",
    "traffic_keywords <- c(\"traffic\", \"driving\", \"tow\", \"accident\", \"stranded\")\n",
    "\n",
    "# Categorize calls\n",
    "cfs <- cfs |> \n",
    "  mutate(\n",
    "    is_violent = str_detect(tolower(type_text), paste(violent_keywords, collapse = \"|\")), \n",
    "    is_theft = str_detect(tolower(type_text), paste(theft_keywords, collapse = \"|\")),  \n",
    "    is_traffic = str_detect(tolower(type_text), paste(traffic_keywords, collapse = \"|\")), \n",
    "    category = case_when(\n",
    "      is_violent == TRUE ~ \"Violent\",\n",
    "      is_theft == TRUE ~ \"Theft\", \n",
    "      is_traffic == TRUE ~ \"Traffic\", \n",
    "      TRUE ~ \"Other\")\n",
    "  ) |> \n",
    "  select(-c(is_violent:is_traffic))"
   ]
  },
  {
   "cell_type": "markdown",
   "metadata": {},
   "source": [
    "# 4. Exploratory Data Analysis"
   ]
  },
  {
   "cell_type": "markdown",
   "metadata": {},
   "source": [
    "#### 1. Summary statistics"
   ]
  },
  {
   "cell_type": "code",
   "execution_count": null,
   "metadata": {
    "vscode": {
     "languageId": "r"
    }
   },
   "outputs": [],
   "source": [
    "# Use our custom describe() function for pulling summary stats\n",
    "cfs |> describe() |> affiche()"
   ]
  },
  {
   "cell_type": "markdown",
   "metadata": {},
   "source": [
    "#### 2. What are the most commonly occuring call type categories?"
   ]
  },
  {
   "cell_type": "code",
   "execution_count": null,
   "metadata": {
    "vscode": {
     "languageId": "r"
    }
   },
   "outputs": [],
   "source": [
    "cfs |> count_table(category) |> affiche()"
   ]
  },
  {
   "cell_type": "markdown",
   "metadata": {},
   "source": [
    "#### 3. When do most calls take place?"
   ]
  },
  {
   "cell_type": "code",
   "execution_count": null,
   "metadata": {
    "vscode": {
     "languageId": "r"
    }
   },
   "outputs": [],
   "source": [
    "# Extract the hour from the time_create field\n",
    "# We'll also calculate a time period of day for later use\n",
    "cfs <- cfs |> mutate(\n",
    "  hour = hour(time_create), \n",
    "  time_period = case_when(\n",
    "    hour >= 0 & hour <= 5 ~ \"Night\",\n",
    "    hour >= 6 & hour <= 11 ~ \"Morning\",\n",
    "    hour >= 12 & hour <= 17 ~ \"Afternoon\",\n",
    "    hour >= 18 & hour <= 23 ~ \"Evening\"\n",
    "  ), .after = time_create, \n",
    ")\n",
    "\n",
    "# Generate a summary table by hour\n",
    "hourly_sum <- cfs |> \n",
    "  count_table(hour) |> \n",
    "  arrange(hour)\n",
    "\n",
    "# We can use ggplot() + geom_line()\n",
    "ggplot(hourly_sum, aes(x = hour, y = count)) +\n",
    "  geom_line()"
   ]
  },
  {
   "cell_type": "code",
   "execution_count": null,
   "metadata": {
    "vscode": {
     "languageId": "r"
    }
   },
   "outputs": [],
   "source": [
    "# Let's look at those time periods too\n",
    "cfs |> count_table(time_period) |> affiche()"
   ]
  },
  {
   "cell_type": "markdown",
   "metadata": {},
   "source": [
    "#### 4. What are the most common call dispositions?"
   ]
  },
  {
   "cell_type": "code",
   "execution_count": null,
   "metadata": {
    "vscode": {
     "languageId": "r"
    }
   },
   "outputs": [],
   "source": [
    "cfs |> count_table(disposition_text) |> affiche()"
   ]
  },
  {
   "cell_type": "markdown",
   "metadata": {},
   "source": [
    "#### 5. Which police districts receive the most calls?"
   ]
  },
  {
   "cell_type": "code",
   "execution_count": null,
   "metadata": {
    "vscode": {
     "languageId": "r"
    }
   },
   "outputs": [],
   "source": [
    "cfs |> count_table(police_district) |> affiche()"
   ]
  },
  {
   "cell_type": "markdown",
   "metadata": {},
   "source": [
    "#### 6. What proportion of calls are self-initiated?"
   ]
  },
  {
   "cell_type": "code",
   "execution_count": null,
   "metadata": {
    "vscode": {
     "languageId": "r"
    }
   },
   "outputs": [],
   "source": [
    "cfs |> count_table(self_initiated) |> affiche()"
   ]
  },
  {
   "cell_type": "markdown",
   "metadata": {},
   "source": [
    "#### 7. Where do most calls originate from?"
   ]
  },
  {
   "cell_type": "code",
   "execution_count": null,
   "metadata": {
    "vscode": {
     "languageId": "r"
    }
   },
   "outputs": [],
   "source": [
    "if (!require(sf)) install.packages(\"sf\")\n",
    "\n",
    "# Read shapefile and filter to Orleans Parish\n",
    "# As well as filter out water-only polygons\n",
    "shapes <- sf::st_read(\"./data/shapes/tl_2024_22_bg.shp\") |> \n",
    "  filter(COUNTYFP == \"071\") |> \n",
    "  filter(!grepl(\"220719900000|220719801001\", GEOID))\n",
    "\n",
    "# Preview the orleans shapes map\n",
    "ggplot(shapes, aes()) +\n",
    "  geom_sf() +\n",
    "  labs(title = \"New Orleans shapefile\")"
   ]
  },
  {
   "cell_type": "code",
   "execution_count": null,
   "metadata": {
    "vscode": {
     "languageId": "r"
    }
   },
   "outputs": [],
   "source": [
    "# Convert the cfs object to a spatial feature (sf) object\n",
    "cfs_sf <- cfs %>%\n",
    "  st_as_sf(coords = c(\"longitude\", \"latitude\"), crs = 4326, agr = \"constant\")\n",
    "\n",
    "# Look at the shapes map with cfs overlaid\n",
    "ggplot() +\n",
    "  geom_sf(data = shapes) +\n",
    "  geom_sf(data = cfs_sf, alpha = .5, size = .75) +\n",
    "  labs(title = \"New Orleans calls for service\")"
   ]
  },
  {
   "cell_type": "markdown",
   "metadata": {},
   "source": [
    "#### 8. What is the best predictor of response time?"
   ]
  },
  {
   "cell_type": "code",
   "execution_count": null,
   "metadata": {
    "vscode": {
     "languageId": "r"
    }
   },
   "outputs": [],
   "source": [
    "# Note: I only included variables that were statistically significant for readability\n",
    "# As well as convert response time to a true numeric column (in seconds)\n",
    "# We'll also convert character fields and police district to factors\n",
    "# And drop NAs\n",
    "data <- cfs |> \n",
    "  select(c(category, priority_desc, time_period, response_time, \n",
    "           self_initiated, police_district)) |> \n",
    "  mutate(response_time = round(as.numeric(response_time), 0)) |> \n",
    "  mutate(across(where(is.character), as.factor)) |> \n",
    "  mutate(police_district = as.factor(police_district)) |> \n",
    "  drop_na()\n",
    "\n",
    "str(data)"
   ]
  },
  {
   "cell_type": "code",
   "execution_count": null,
   "metadata": {
    "vscode": {
     "languageId": "r"
    }
   },
   "outputs": [],
   "source": [
    "# Fit a multiple linear regression model\n",
    "model <- lm(formula = response_time ~ ., data = data)\n",
    "\n",
    "# TO-DO: Invesitage why model outputs differ\n",
    "model |> summary()"
   ]
  }
 ],
 "metadata": {
  "kernelspec": {
   "display_name": "R",
   "language": "R",
   "name": "ir"
  },
  "language_info": {
   "codemirror_mode": "r",
   "file_extension": ".r",
   "mimetype": "text/x-r-source",
   "name": "R",
   "pygments_lexer": "r",
   "version": "4.4.3"
  }
 },
 "nbformat": 4,
 "nbformat_minor": 2
}
