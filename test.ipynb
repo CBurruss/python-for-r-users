{
 "cells": [
  {
   "cell_type": "code",
   "execution_count": null,
   "id": "036cbf11",
   "metadata": {},
   "outputs": [],
   "source": [
    "# Test comment\n",
    "x <- 10\n",
    "print(x)"
   ]
  },
  {
   "cell_type": "code",
   "execution_count": null,
   "id": "2a4f140d",
   "metadata": {},
   "outputs": [],
   "source": [
    "x <- 10\n",
    "print(x)"
   ]
  },
  {
   "cell_type": "code",
   "execution_count": null,
   "id": "b48a8a65",
   "metadata": {},
   "outputs": [],
   "source": [
    "x <- 10\n",
    "print(x)"
   ]
  },
  {
   "cell_type": "code",
   "execution_count": null,
   "id": "486cf31c",
   "metadata": {},
   "outputs": [],
   "source": [
    "x <- 10\n",
    "print(x)"
   ]
  },
  {
   "cell_type": "code",
   "execution_count": null,
   "id": "517552e7",
   "metadata": {},
   "outputs": [],
   "source": [
    "x <- 10\n",
    "print(x)"
   ]
  }
 ],
 "metadata": {
  "kernelspec": {
   "display_name": "R",
   "language": "R",
   "name": "ir"
  },
  "language_info": {
   "codemirror_mode": "r",
   "file_extension": ".r",
   "mimetype": "text/x-r-source",
   "name": "R",
   "pygments_lexer": "r"
  }
 },
 "nbformat": 4,
 "nbformat_minor": 5
}
